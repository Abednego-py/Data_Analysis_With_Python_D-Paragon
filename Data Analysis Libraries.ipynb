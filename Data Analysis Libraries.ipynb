{
 "cells": [
  {
   "cell_type": "markdown",
   "id": "e1b0d21d",
   "metadata": {},
   "source": [
    "### Data Analysis with python\n",
    "\n",
    "- Numpy \n",
    "- Pandas"
   ]
  },
  {
   "cell_type": "code",
   "execution_count": 1,
   "id": "10f8ca12",
   "metadata": {},
   "outputs": [
    {
     "name": "stdout",
     "output_type": "stream",
     "text": [
      "Requirement already satisfied: numpy in c:\\users\\aaginam\\appdata\\local\\anaconda3\\lib\\site-packages (1.26.4)\n"
     ]
    }
   ],
   "source": [
    "!pip install numpy"
   ]
  },
  {
   "cell_type": "code",
   "execution_count": 2,
   "id": "b1731488",
   "metadata": {},
   "outputs": [],
   "source": [
    "## Numpy - Numerical Python\n",
    "\n",
    "## Numpy is used for creating multi-dimensional arrays and it has functions \n",
    "\n",
    "import numpy as np"
   ]
  },
  {
   "cell_type": "code",
   "execution_count": 9,
   "id": "3d4c85f7",
   "metadata": {},
   "outputs": [],
   "source": [
    "numbers = np.array([4,5,6,7,8])"
   ]
  },
  {
   "cell_type": "code",
   "execution_count": 10,
   "id": "ee92e24d",
   "metadata": {},
   "outputs": [
    {
     "name": "stdout",
     "output_type": "stream",
     "text": [
      "[4 5 6 7 8]\n"
     ]
    }
   ],
   "source": [
    "print(numbers)"
   ]
  },
  {
   "cell_type": "code",
   "execution_count": 11,
   "id": "b0bedbee",
   "metadata": {},
   "outputs": [
    {
     "data": {
      "text/plain": [
       "numpy.ndarray"
      ]
     },
     "execution_count": 11,
     "metadata": {},
     "output_type": "execute_result"
    }
   ],
   "source": [
    "type(numbers)"
   ]
  },
  {
   "cell_type": "code",
   "execution_count": 12,
   "id": "555e2176",
   "metadata": {},
   "outputs": [
    {
     "data": {
      "text/plain": [
       "1"
      ]
     },
     "execution_count": 12,
     "metadata": {},
     "output_type": "execute_result"
    }
   ],
   "source": [
    "numbers.ndim"
   ]
  },
  {
   "cell_type": "code",
   "execution_count": 13,
   "id": "7580099b",
   "metadata": {},
   "outputs": [],
   "source": [
    "arr_2 = np.array([[2, 4], [3, 6]]) "
   ]
  },
  {
   "cell_type": "code",
   "execution_count": 14,
   "id": "3b3b5485",
   "metadata": {},
   "outputs": [
    {
     "data": {
      "text/plain": [
       "2"
      ]
     },
     "execution_count": 14,
     "metadata": {},
     "output_type": "execute_result"
    }
   ],
   "source": [
    "arr_2.ndim"
   ]
  },
  {
   "cell_type": "code",
   "execution_count": 15,
   "id": "9fa3fbc5",
   "metadata": {},
   "outputs": [
    {
     "data": {
      "text/plain": [
       "array([[2, 4],\n",
       "       [3, 6]])"
      ]
     },
     "execution_count": 15,
     "metadata": {},
     "output_type": "execute_result"
    }
   ],
   "source": [
    "arr_2"
   ]
  },
  {
   "cell_type": "code",
   "execution_count": 16,
   "id": "dbda7333",
   "metadata": {},
   "outputs": [
    {
     "ename": "ValueError",
     "evalue": "setting an array element with a sequence. The requested array has an inhomogeneous shape after 1 dimensions. The detected shape was (2,) + inhomogeneous part.",
     "output_type": "error",
     "traceback": [
      "\u001b[1;31m---------------------------------------------------------------------------\u001b[0m",
      "\u001b[1;31mValueError\u001b[0m                                Traceback (most recent call last)",
      "Cell \u001b[1;32mIn[16], line 1\u001b[0m\n\u001b[1;32m----> 1\u001b[0m arr \u001b[38;5;241m=\u001b[39m np\u001b[38;5;241m.\u001b[39marray([[\u001b[38;5;241m2\u001b[39m, \u001b[38;5;241m4\u001b[39m, \u001b[38;5;241m6\u001b[39m], [\u001b[38;5;241m3\u001b[39m, \u001b[38;5;241m6\u001b[39m]])\n",
      "\u001b[1;31mValueError\u001b[0m: setting an array element with a sequence. The requested array has an inhomogeneous shape after 1 dimensions. The detected shape was (2,) + inhomogeneous part."
     ]
    }
   ],
   "source": [
    "arr = np.array([[2, 4, 6], [3, 6]]) \n",
    "\n",
    "# homogeneity"
   ]
  },
  {
   "cell_type": "code",
   "execution_count": 17,
   "id": "6066ff75",
   "metadata": {},
   "outputs": [],
   "source": [
    "arr_3 = np.array([\n",
    "    [3,4,5],\n",
    "    [2,7,9],\n",
    "    [1,7,0]\n",
    "])"
   ]
  },
  {
   "cell_type": "code",
   "execution_count": 18,
   "id": "acf50fa8",
   "metadata": {},
   "outputs": [
    {
     "data": {
      "text/plain": [
       "2"
      ]
     },
     "execution_count": 18,
     "metadata": {},
     "output_type": "execute_result"
    }
   ],
   "source": [
    "arr_3.ndim"
   ]
  },
  {
   "cell_type": "code",
   "execution_count": 19,
   "id": "d96dfb95",
   "metadata": {},
   "outputs": [
    {
     "data": {
      "text/plain": [
       "(3, 3)"
      ]
     },
     "execution_count": 19,
     "metadata": {},
     "output_type": "execute_result"
    }
   ],
   "source": [
    "arr_3.shape"
   ]
  },
  {
   "cell_type": "code",
   "execution_count": 20,
   "id": "2416241e",
   "metadata": {},
   "outputs": [
    {
     "data": {
      "text/plain": [
       "(2, 2)"
      ]
     },
     "execution_count": 20,
     "metadata": {},
     "output_type": "execute_result"
    }
   ],
   "source": [
    "arr_2.shape"
   ]
  },
  {
   "cell_type": "code",
   "execution_count": 21,
   "id": "803c5b88",
   "metadata": {},
   "outputs": [],
   "source": [
    "# create a 3 * 4 array\n",
    "\n",
    "arr_4 = np.array([\n",
    "    [3,4,5,6],\n",
    "    [2,4,5,6],\n",
    "    [1,3,4,5]\n",
    "])"
   ]
  },
  {
   "cell_type": "code",
   "execution_count": 22,
   "id": "0bd6372f",
   "metadata": {},
   "outputs": [
    {
     "data": {
      "text/plain": [
       "(3, 4)"
      ]
     },
     "execution_count": 22,
     "metadata": {},
     "output_type": "execute_result"
    }
   ],
   "source": [
    "arr_4.shape"
   ]
  },
  {
   "cell_type": "code",
   "execution_count": 23,
   "id": "97ee2ebc",
   "metadata": {},
   "outputs": [
    {
     "data": {
      "text/plain": [
       "2"
      ]
     },
     "execution_count": 23,
     "metadata": {},
     "output_type": "execute_result"
    }
   ],
   "source": [
    "arr_4.ndim"
   ]
  },
  {
   "cell_type": "code",
   "execution_count": 25,
   "id": "05e699c7",
   "metadata": {},
   "outputs": [],
   "source": [
    "arr_5 = np.array([\n",
    "    [[2,4,5,6], [2,3,4,5]], [[2,6,7,6], [2,3,4,5]]\n",
    "])"
   ]
  },
  {
   "cell_type": "code",
   "execution_count": 26,
   "id": "f6ef9a57",
   "metadata": {},
   "outputs": [
    {
     "data": {
      "text/plain": [
       "(2, 2, 4)"
      ]
     },
     "execution_count": 26,
     "metadata": {},
     "output_type": "execute_result"
    }
   ],
   "source": [
    "arr_5.shape"
   ]
  },
  {
   "cell_type": "code",
   "execution_count": 27,
   "id": "ddd25321",
   "metadata": {},
   "outputs": [
    {
     "data": {
      "text/plain": [
       "dtype('int32')"
      ]
     },
     "execution_count": 27,
     "metadata": {},
     "output_type": "execute_result"
    }
   ],
   "source": [
    "# data type\n",
    "\n",
    "numbers.dtype"
   ]
  },
  {
   "cell_type": "code",
   "execution_count": 28,
   "id": "90a45d80",
   "metadata": {},
   "outputs": [],
   "source": [
    "names = np.array(['Seun', 'Ola', 'Busayo', 'Onyi', 100])"
   ]
  },
  {
   "cell_type": "code",
   "execution_count": 29,
   "id": "25c698ec",
   "metadata": {},
   "outputs": [
    {
     "data": {
      "text/plain": [
       "array(['Seun', 'Ola', 'Busayo', 'Onyi', '100'], dtype='<U11')"
      ]
     },
     "execution_count": 29,
     "metadata": {},
     "output_type": "execute_result"
    }
   ],
   "source": [
    "names"
   ]
  },
  {
   "cell_type": "code",
   "execution_count": 30,
   "id": "5992902a",
   "metadata": {},
   "outputs": [
    {
     "data": {
      "text/plain": [
       "dtype('<U11')"
      ]
     },
     "execution_count": 30,
     "metadata": {},
     "output_type": "execute_result"
    }
   ],
   "source": [
    "names.dtype"
   ]
  },
  {
   "cell_type": "code",
   "execution_count": 31,
   "id": "a299f3be",
   "metadata": {},
   "outputs": [],
   "source": [
    "arr_6 = np.array([45.0, 23.8, 90.4], dtype='float32')"
   ]
  },
  {
   "cell_type": "code",
   "execution_count": 32,
   "id": "cd6b9960",
   "metadata": {},
   "outputs": [
    {
     "data": {
      "text/plain": [
       "array([45. , 23.8, 90.4], dtype=float32)"
      ]
     },
     "execution_count": 32,
     "metadata": {},
     "output_type": "execute_result"
    }
   ],
   "source": [
    "arr_6"
   ]
  },
  {
   "cell_type": "markdown",
   "id": "f3f0639b",
   "metadata": {},
   "source": [
    "#### Indexing and Slicing"
   ]
  },
  {
   "cell_type": "code",
   "execution_count": 34,
   "id": "608f5616",
   "metadata": {},
   "outputs": [],
   "source": [
    "arr = np.array([3,4,5,6,7,10, 12, 4], dtype='int16')"
   ]
  },
  {
   "cell_type": "code",
   "execution_count": 35,
   "id": "4f31f594",
   "metadata": {},
   "outputs": [
    {
     "data": {
      "text/plain": [
       "array([ 3,  4,  5,  6,  7, 10, 12,  4], dtype=int16)"
      ]
     },
     "execution_count": 35,
     "metadata": {},
     "output_type": "execute_result"
    }
   ],
   "source": [
    "arr"
   ]
  },
  {
   "cell_type": "code",
   "execution_count": 36,
   "id": "f9ac67c7",
   "metadata": {},
   "outputs": [
    {
     "data": {
      "text/plain": [
       "3"
      ]
     },
     "execution_count": 36,
     "metadata": {},
     "output_type": "execute_result"
    }
   ],
   "source": [
    "arr[0]"
   ]
  },
  {
   "cell_type": "code",
   "execution_count": 37,
   "id": "f69f3277",
   "metadata": {},
   "outputs": [
    {
     "data": {
      "text/plain": [
       "4"
      ]
     },
     "execution_count": 37,
     "metadata": {},
     "output_type": "execute_result"
    }
   ],
   "source": [
    "arr[-1]"
   ]
  },
  {
   "cell_type": "code",
   "execution_count": 39,
   "id": "b0ae1e83",
   "metadata": {},
   "outputs": [
    {
     "data": {
      "text/plain": [
       "array([3, 4, 5], dtype=int16)"
      ]
     },
     "execution_count": 39,
     "metadata": {},
     "output_type": "execute_result"
    }
   ],
   "source": [
    "arr[:3]"
   ]
  },
  {
   "cell_type": "code",
   "execution_count": 40,
   "id": "9aea3e4f",
   "metadata": {},
   "outputs": [],
   "source": [
    "arr_2 = np.array([[2, 4, 5], [3, 6, 6]]) "
   ]
  },
  {
   "cell_type": "code",
   "execution_count": 42,
   "id": "1c386d7b",
   "metadata": {},
   "outputs": [
    {
     "data": {
      "text/plain": [
       "(2, 3)"
      ]
     },
     "execution_count": 42,
     "metadata": {},
     "output_type": "execute_result"
    }
   ],
   "source": [
    "arr_2.shape"
   ]
  },
  {
   "cell_type": "code",
   "execution_count": 43,
   "id": "d5e3e86d",
   "metadata": {},
   "outputs": [
    {
     "data": {
      "text/plain": [
       "2"
      ]
     },
     "execution_count": 43,
     "metadata": {},
     "output_type": "execute_result"
    }
   ],
   "source": [
    "arr_2.ndim"
   ]
  },
  {
   "cell_type": "code",
   "execution_count": 44,
   "id": "54d2417a",
   "metadata": {},
   "outputs": [
    {
     "data": {
      "text/plain": [
       "array([[2, 4, 5],\n",
       "       [3, 6, 6]])"
      ]
     },
     "execution_count": 44,
     "metadata": {},
     "output_type": "execute_result"
    }
   ],
   "source": [
    "arr_2"
   ]
  },
  {
   "cell_type": "code",
   "execution_count": 45,
   "id": "f5151957",
   "metadata": {},
   "outputs": [
    {
     "data": {
      "text/plain": [
       "2"
      ]
     },
     "execution_count": 45,
     "metadata": {},
     "output_type": "execute_result"
    }
   ],
   "source": [
    "arr_2[0,0]"
   ]
  },
  {
   "cell_type": "code",
   "execution_count": 46,
   "id": "743907d7",
   "metadata": {},
   "outputs": [
    {
     "data": {
      "text/plain": [
       "6"
      ]
     },
     "execution_count": 46,
     "metadata": {},
     "output_type": "execute_result"
    }
   ],
   "source": [
    "arr_2[1,1]"
   ]
  },
  {
   "cell_type": "code",
   "execution_count": 47,
   "id": "f661af53",
   "metadata": {},
   "outputs": [],
   "source": [
    "arr_4 = np.array([\n",
    "    [3,4,5,6],\n",
    "    [2,4,5,6],\n",
    "    [1,3,4,5]\n",
    "])"
   ]
  },
  {
   "cell_type": "code",
   "execution_count": 48,
   "id": "6d77c8ae",
   "metadata": {},
   "outputs": [
    {
     "data": {
      "text/plain": [
       "4"
      ]
     },
     "execution_count": 48,
     "metadata": {},
     "output_type": "execute_result"
    }
   ],
   "source": [
    "arr_4[2,2]"
   ]
  },
  {
   "cell_type": "code",
   "execution_count": 50,
   "id": "cc86ea29",
   "metadata": {},
   "outputs": [
    {
     "data": {
      "text/plain": [
       "array([4, 5, 6])"
      ]
     },
     "execution_count": 50,
     "metadata": {},
     "output_type": "execute_result"
    }
   ],
   "source": [
    "arr_4[0,1:]"
   ]
  },
  {
   "cell_type": "code",
   "execution_count": 52,
   "id": "a2519094",
   "metadata": {},
   "outputs": [
    {
     "data": {
      "text/plain": [
       "array([[3, 4, 5],\n",
       "       [2, 4, 5]])"
      ]
     },
     "execution_count": 52,
     "metadata": {},
     "output_type": "execute_result"
    }
   ],
   "source": [
    "arr_4[0:2,0:3]"
   ]
  },
  {
   "cell_type": "code",
   "execution_count": 53,
   "id": "fb47a8f5",
   "metadata": {},
   "outputs": [
    {
     "data": {
      "text/plain": [
       "array([[3, 4, 5],\n",
       "       [2, 4, 5]])"
      ]
     },
     "execution_count": 53,
     "metadata": {},
     "output_type": "execute_result"
    }
   ],
   "source": [
    "arr_4[0:2,0:3]"
   ]
  },
  {
   "cell_type": "code",
   "execution_count": 60,
   "id": "8a4e6097",
   "metadata": {},
   "outputs": [
    {
     "data": {
      "text/plain": [
       "array([1, 3, 4, 5])"
      ]
     },
     "execution_count": 60,
     "metadata": {},
     "output_type": "execute_result"
    }
   ],
   "source": [
    "arr_4[2]"
   ]
  },
  {
   "cell_type": "code",
   "execution_count": 66,
   "id": "ea6b078f",
   "metadata": {},
   "outputs": [],
   "source": [
    "new_arr = np.concatenate((arr_4[0],arr_4[2])) # flattening"
   ]
  },
  {
   "cell_type": "code",
   "execution_count": 70,
   "id": "ba52ab21",
   "metadata": {},
   "outputs": [],
   "source": [
    "new_arr = new_arr.reshape(4,3) "
   ]
  },
  {
   "cell_type": "code",
   "execution_count": 71,
   "id": "7a5b827e",
   "metadata": {},
   "outputs": [
    {
     "data": {
      "text/plain": [
       "array([[3, 4],\n",
       "       [5, 6],\n",
       "       [1, 3],\n",
       "       [4, 5]])"
      ]
     },
     "execution_count": 71,
     "metadata": {},
     "output_type": "execute_result"
    }
   ],
   "source": [
    "new_arr"
   ]
  },
  {
   "cell_type": "code",
   "execution_count": 75,
   "id": "9c203ef1",
   "metadata": {},
   "outputs": [
    {
     "data": {
      "text/plain": [
       "(8,)"
      ]
     },
     "execution_count": 75,
     "metadata": {},
     "output_type": "execute_result"
    }
   ],
   "source": [
    "numbers = np.array([4,5,6,7,8,9,10,11])\n",
    "\n",
    "numbers.shape"
   ]
  },
  {
   "cell_type": "code",
   "execution_count": 78,
   "id": "7bc3d82e",
   "metadata": {},
   "outputs": [],
   "source": [
    "arr = numbers.reshape(2,4)"
   ]
  },
  {
   "cell_type": "code",
   "execution_count": 79,
   "id": "34fa2b5f",
   "metadata": {},
   "outputs": [
    {
     "data": {
      "text/plain": [
       "array([[ 4,  5,  6,  7],\n",
       "       [ 8,  9, 10, 11]])"
      ]
     },
     "execution_count": 79,
     "metadata": {},
     "output_type": "execute_result"
    }
   ],
   "source": [
    "arr"
   ]
  },
  {
   "cell_type": "code",
   "execution_count": 80,
   "id": "7bcab7e5",
   "metadata": {},
   "outputs": [
    {
     "data": {
      "text/plain": [
       "array([ 4,  5,  6,  7,  8,  9, 10, 11])"
      ]
     },
     "execution_count": 80,
     "metadata": {},
     "output_type": "execute_result"
    }
   ],
   "source": [
    "arr.flatten()"
   ]
  },
  {
   "cell_type": "markdown",
   "id": "e74c305f",
   "metadata": {},
   "source": [
    "#### Operations"
   ]
  },
  {
   "cell_type": "code",
   "execution_count": 81,
   "id": "fc2dd3b9",
   "metadata": {},
   "outputs": [
    {
     "data": {
      "text/plain": [
       "array([ 4,  5,  6,  7,  8,  9, 10, 11])"
      ]
     },
     "execution_count": 81,
     "metadata": {},
     "output_type": "execute_result"
    }
   ],
   "source": [
    "numbers"
   ]
  },
  {
   "cell_type": "code",
   "execution_count": 82,
   "id": "badc1a18",
   "metadata": {},
   "outputs": [
    {
     "data": {
      "text/plain": [
       "60"
      ]
     },
     "execution_count": 82,
     "metadata": {},
     "output_type": "execute_result"
    }
   ],
   "source": [
    "np.sum(numbers)"
   ]
  },
  {
   "cell_type": "code",
   "execution_count": 83,
   "id": "43733f80",
   "metadata": {},
   "outputs": [
    {
     "data": {
      "text/plain": [
       "7.5"
      ]
     },
     "execution_count": 83,
     "metadata": {},
     "output_type": "execute_result"
    }
   ],
   "source": [
    "np.mean(numbers)"
   ]
  },
  {
   "cell_type": "code",
   "execution_count": 85,
   "id": "413c2cf5",
   "metadata": {},
   "outputs": [],
   "source": [
    "std = np.std(numbers)"
   ]
  },
  {
   "cell_type": "code",
   "execution_count": 86,
   "id": "14f6c089",
   "metadata": {},
   "outputs": [
    {
     "data": {
      "text/plain": [
       "4.58257569495584"
      ]
     },
     "execution_count": 86,
     "metadata": {},
     "output_type": "execute_result"
    }
   ],
   "source": [
    "var = std * 2\n",
    "var"
   ]
  },
  {
   "cell_type": "code",
   "execution_count": 87,
   "id": "e87ce950",
   "metadata": {},
   "outputs": [
    {
     "data": {
      "text/plain": [
       "array([ 4,  5,  6,  7,  8,  9, 10, 11])"
      ]
     },
     "execution_count": 87,
     "metadata": {},
     "output_type": "execute_result"
    }
   ],
   "source": [
    "numbers"
   ]
  },
  {
   "cell_type": "code",
   "execution_count": 88,
   "id": "86ded18f",
   "metadata": {},
   "outputs": [],
   "source": [
    "# vectorize\n",
    "\n",
    "numbers = numbers + 10"
   ]
  },
  {
   "cell_type": "code",
   "execution_count": 89,
   "id": "a7bac2d6",
   "metadata": {},
   "outputs": [
    {
     "data": {
      "text/plain": [
       "array([14, 15, 16, 17, 18, 19, 20, 21])"
      ]
     },
     "execution_count": 89,
     "metadata": {},
     "output_type": "execute_result"
    }
   ],
   "source": [
    "numbers"
   ]
  },
  {
   "cell_type": "code",
   "execution_count": 92,
   "id": "3ce8244a",
   "metadata": {},
   "outputs": [
    {
     "ename": "ValueError",
     "evalue": "operands could not be broadcast together with shapes (4,) (5,) ",
     "output_type": "error",
     "traceback": [
      "\u001b[1;31m---------------------------------------------------------------------------\u001b[0m",
      "\u001b[1;31mValueError\u001b[0m                                Traceback (most recent call last)",
      "Cell \u001b[1;32mIn[92], line 4\u001b[0m\n\u001b[0;32m      1\u001b[0m arr1 \u001b[38;5;241m=\u001b[39m np\u001b[38;5;241m.\u001b[39marray([\u001b[38;5;241m1\u001b[39m,\u001b[38;5;241m2\u001b[39m,\u001b[38;5;241m4\u001b[39m,\u001b[38;5;241m5\u001b[39m])\n\u001b[0;32m      2\u001b[0m arr2 \u001b[38;5;241m=\u001b[39m np\u001b[38;5;241m.\u001b[39marray([\u001b[38;5;241m3\u001b[39m,\u001b[38;5;241m4\u001b[39m,\u001b[38;5;241m5\u001b[39m,\u001b[38;5;241m6\u001b[39m, \u001b[38;5;241m5\u001b[39m])\n\u001b[1;32m----> 4\u001b[0m result_arr \u001b[38;5;241m=\u001b[39m arr1 \u001b[38;5;241m+\u001b[39m arr2\n\u001b[0;32m      6\u001b[0m result_arr\n",
      "\u001b[1;31mValueError\u001b[0m: operands could not be broadcast together with shapes (4,) (5,) "
     ]
    }
   ],
   "source": [
    "arr1 = np.array([1,2,4,5])\n",
    "arr2 = np.array([3,4,5,6, 5])\n",
    "\n",
    "result_arr = arr1 + arr2\n",
    "\n",
    "result_arr"
   ]
  },
  {
   "cell_type": "code",
   "execution_count": 94,
   "id": "f4c212a5",
   "metadata": {},
   "outputs": [
    {
     "data": {
      "text/plain": [
       "array([67, 90, 89, 90])"
      ]
     },
     "execution_count": 94,
     "metadata": {},
     "output_type": "execute_result"
    }
   ],
   "source": [
    "# filter \n",
    "\n",
    "scores = np.array([30, 20, 67, 45, 90, 89, 90])\n",
    "\n",
    "new_scores = scores[np.where(scores > 45)]\n",
    "new_scores"
   ]
  },
  {
   "cell_type": "code",
   "execution_count": 3,
   "id": "097ea44d",
   "metadata": {},
   "outputs": [
    {
     "data": {
      "text/plain": [
       "[False, False, True, True, True]"
      ]
     },
     "execution_count": 3,
     "metadata": {},
     "output_type": "execute_result"
    }
   ],
   "source": [
    "fruits = np.array(['apple', 'orange', 'banana', 'guava', 'mango'])\n",
    "\n",
    "[ 'e' not in fruit for fruit in fruits ]\n",
    "# filter out the fruits where the item contains letter e"
   ]
  },
  {
   "cell_type": "code",
   "execution_count": 4,
   "id": "50f0617a",
   "metadata": {},
   "outputs": [
    {
     "data": {
      "text/plain": [
       "array(['orange', 'banana'], dtype='<U6')"
      ]
     },
     "execution_count": 4,
     "metadata": {},
     "output_type": "execute_result"
    }
   ],
   "source": [
    "new_fruits = fruits[[len(fruit) > 5 for fruit in fruits]]\n",
    "\n",
    "new_fruits"
   ]
  },
  {
   "cell_type": "code",
   "execution_count": 7,
   "id": "682bd1df",
   "metadata": {},
   "outputs": [
    {
     "data": {
      "text/plain": [
       "(array([3, 4], dtype=int64),)"
      ]
     },
     "execution_count": 7,
     "metadata": {},
     "output_type": "execute_result"
    }
   ],
   "source": [
    "arr = np.array([3,4,5,6,7])\n",
    "\n",
    "np.where(arr > 5)"
   ]
  },
  {
   "cell_type": "code",
   "execution_count": 8,
   "id": "0ffd22f0",
   "metadata": {},
   "outputs": [
    {
     "data": {
      "text/plain": [
       "array([6, 7])"
      ]
     },
     "execution_count": 8,
     "metadata": {},
     "output_type": "execute_result"
    }
   ],
   "source": [
    "arr[np.where(arr > 5)]"
   ]
  },
  {
   "cell_type": "code",
   "execution_count": 9,
   "id": "9e3ba799",
   "metadata": {},
   "outputs": [
    {
     "data": {
      "text/plain": [
       "array([4, 6])"
      ]
     },
     "execution_count": 9,
     "metadata": {},
     "output_type": "execute_result"
    }
   ],
   "source": [
    "arr[np.where(arr % 2 == 0)]"
   ]
  },
  {
   "cell_type": "code",
   "execution_count": 11,
   "id": "b1c7d686",
   "metadata": {},
   "outputs": [
    {
     "data": {
      "text/plain": [
       "[True, True, False, False, False]"
      ]
     },
     "execution_count": 11,
     "metadata": {},
     "output_type": "execute_result"
    }
   ],
   "source": [
    "fruits = np.array(['apple', 'orange', 'banana', 'guava', 'mango'])\n",
    "# filter out the fruits where the item contains letter e\n",
    "['e' in fruit for fruit in fruits]"
   ]
  },
  {
   "cell_type": "code",
   "execution_count": 12,
   "id": "47ba17da",
   "metadata": {},
   "outputs": [
    {
     "data": {
      "text/plain": [
       "array(['apple', 'orange'], dtype='<U6')"
      ]
     },
     "execution_count": 12,
     "metadata": {},
     "output_type": "execute_result"
    }
   ],
   "source": [
    "fruits[['e' in fruit for fruit in fruits]]"
   ]
  },
  {
   "cell_type": "code",
   "execution_count": 14,
   "id": "eb0e200b",
   "metadata": {},
   "outputs": [
    {
     "data": {
      "text/plain": [
       "[False, True, True, False, False]"
      ]
     },
     "execution_count": 14,
     "metadata": {},
     "output_type": "execute_result"
    }
   ],
   "source": [
    "# filter out the fruits where the length of the item is greater than 5\n",
    "\n",
    "result = [len(fruit) > 5 for fruit in fruits]\n",
    "result"
   ]
  },
  {
   "cell_type": "code",
   "execution_count": 15,
   "id": "0ca352e9",
   "metadata": {},
   "outputs": [
    {
     "data": {
      "text/plain": [
       "array(['orange', 'banana'], dtype='<U6')"
      ]
     },
     "execution_count": 15,
     "metadata": {},
     "output_type": "execute_result"
    }
   ],
   "source": [
    "fruits[[len(fruit) > 5 for fruit in fruits]]"
   ]
  },
  {
   "cell_type": "markdown",
   "id": "3eb0388f",
   "metadata": {},
   "source": [
    "fruits = np.array(['apple', 'orange', 'banana', 'guava', 'mango'])\n",
    "\n",
    "Filter out the elements where the first letter is a vowel\n",
    "\n",
    "scores = np.array([30, 20, 67, 45, 90, 89, 90])\n",
    "\n",
    "Filter out the elements where the item is an odd number"
   ]
  },
  {
   "cell_type": "markdown",
   "id": "f3e49b84",
   "metadata": {},
   "source": [
    "#### Type Casting"
   ]
  },
  {
   "cell_type": "code",
   "execution_count": 16,
   "id": "a4d21e3d",
   "metadata": {},
   "outputs": [],
   "source": [
    "score = np.array([20.4, 24.0, 56.9])"
   ]
  },
  {
   "cell_type": "code",
   "execution_count": 17,
   "id": "90f382d3",
   "metadata": {},
   "outputs": [
    {
     "data": {
      "text/plain": [
       "dtype('float64')"
      ]
     },
     "execution_count": 17,
     "metadata": {},
     "output_type": "execute_result"
    }
   ],
   "source": [
    "score.dtype"
   ]
  },
  {
   "cell_type": "code",
   "execution_count": 18,
   "id": "44d4f121",
   "metadata": {},
   "outputs": [],
   "source": [
    "score = score.astype('int64')"
   ]
  },
  {
   "cell_type": "code",
   "execution_count": 19,
   "id": "7bba989f",
   "metadata": {},
   "outputs": [
    {
     "data": {
      "text/plain": [
       "dtype('int64')"
      ]
     },
     "execution_count": 19,
     "metadata": {},
     "output_type": "execute_result"
    }
   ],
   "source": [
    "score.dtype"
   ]
  },
  {
   "cell_type": "markdown",
   "id": "7a4ec7d0",
   "metadata": {},
   "source": [
    "#### Pandas\n",
    "\n",
    "- Series\n",
    "\n",
    "- DataFrame"
   ]
  },
  {
   "cell_type": "code",
   "execution_count": 20,
   "id": "19086c72",
   "metadata": {},
   "outputs": [
    {
     "name": "stderr",
     "output_type": "stream",
     "text": [
      "C:\\Users\\aaginam\\AppData\\Local\\anaconda3\\Lib\\site-packages\\pandas\\core\\arrays\\masked.py:60: UserWarning: Pandas requires version '1.3.6' or newer of 'bottleneck' (version '1.3.5' currently installed).\n",
      "  from pandas.core import (\n"
     ]
    }
   ],
   "source": [
    "import pandas as pd"
   ]
  },
  {
   "cell_type": "code",
   "execution_count": 21,
   "id": "fdefa276",
   "metadata": {},
   "outputs": [],
   "source": [
    "# Series\n",
    "\n",
    "# It is an indexed/labeled 1-dim array\n",
    "\n",
    "student = pd.Series(['Loveth', 'Onyi', 'Fisayo', 'Debby', 'Hamad', 'Fidelis'])"
   ]
  },
  {
   "cell_type": "code",
   "execution_count": 22,
   "id": "0f8d0e5d",
   "metadata": {},
   "outputs": [
    {
     "data": {
      "text/plain": [
       "0     Loveth\n",
       "1       Onyi\n",
       "2     Fisayo\n",
       "3      Debby\n",
       "4      Hamad\n",
       "5    Fidelis\n",
       "dtype: object"
      ]
     },
     "execution_count": 22,
     "metadata": {},
     "output_type": "execute_result"
    }
   ],
   "source": [
    "student"
   ]
  },
  {
   "cell_type": "code",
   "execution_count": 23,
   "id": "07f36c34",
   "metadata": {},
   "outputs": [],
   "source": [
    "student = pd.Series(['Loveth', 'Onyi', 'Fisayo', 'Debby', 'Hamad', 'Fidelis'], index = ['a', 'b', 'c', 'd', 'e', 'f'])"
   ]
  },
  {
   "cell_type": "code",
   "execution_count": 24,
   "id": "d0ce9057",
   "metadata": {},
   "outputs": [
    {
     "data": {
      "text/plain": [
       "a     Loveth\n",
       "b       Onyi\n",
       "c     Fisayo\n",
       "d      Debby\n",
       "e      Hamad\n",
       "f    Fidelis\n",
       "dtype: object"
      ]
     },
     "execution_count": 24,
     "metadata": {},
     "output_type": "execute_result"
    }
   ],
   "source": [
    "student"
   ]
  },
  {
   "cell_type": "code",
   "execution_count": 25,
   "id": "61d6b779",
   "metadata": {},
   "outputs": [
    {
     "data": {
      "text/plain": [
       "'Loveth'"
      ]
     },
     "execution_count": 25,
     "metadata": {},
     "output_type": "execute_result"
    }
   ],
   "source": [
    "student['a'] # index"
   ]
  },
  {
   "cell_type": "code",
   "execution_count": 26,
   "id": "3bbdb37e",
   "metadata": {},
   "outputs": [
    {
     "data": {
      "text/plain": [
       "a    Loveth\n",
       "b      Onyi\n",
       "c    Fisayo\n",
       "d     Debby\n",
       "dtype: object"
      ]
     },
     "execution_count": 26,
     "metadata": {},
     "output_type": "execute_result"
    }
   ],
   "source": [
    "# slice\n",
    "\n",
    "student['a':'d']"
   ]
  },
  {
   "cell_type": "code",
   "execution_count": 27,
   "id": "4205ac9f",
   "metadata": {},
   "outputs": [],
   "source": [
    "ages = pd.Series([45, 34, 23, 12])"
   ]
  },
  {
   "cell_type": "code",
   "execution_count": 28,
   "id": "d4db0cf0",
   "metadata": {},
   "outputs": [
    {
     "data": {
      "text/plain": [
       "0    45\n",
       "1    34\n",
       "2    23\n",
       "3    12\n",
       "dtype: int64"
      ]
     },
     "execution_count": 28,
     "metadata": {},
     "output_type": "execute_result"
    }
   ],
   "source": [
    "ages"
   ]
  },
  {
   "cell_type": "markdown",
   "id": "5438ffa9",
   "metadata": {},
   "source": [
    "#### DataFrame\n",
    "\n",
    "- model of a data stored in a table. It is a 2-dim data structure with rows and columns. A comb of Series"
   ]
  },
  {
   "cell_type": "code",
   "execution_count": 30,
   "id": "998df53a",
   "metadata": {},
   "outputs": [],
   "source": [
    "student = pd.Series(['Loveth', 'Onyi', 'Fisayo', 'Debby', 'Hamad', 'Fidelis'])\n",
    "\n",
    "scores = pd.Series([45, 23, 90, 23, 12, 45])"
   ]
  },
  {
   "cell_type": "code",
   "execution_count": 31,
   "id": "327a042c",
   "metadata": {},
   "outputs": [
    {
     "data": {
      "text/plain": [
       "0     Loveth\n",
       "1       Onyi\n",
       "2     Fisayo\n",
       "3      Debby\n",
       "4      Hamad\n",
       "5    Fidelis\n",
       "dtype: object"
      ]
     },
     "execution_count": 31,
     "metadata": {},
     "output_type": "execute_result"
    }
   ],
   "source": [
    "student"
   ]
  },
  {
   "cell_type": "code",
   "execution_count": 32,
   "id": "bb448b3d",
   "metadata": {},
   "outputs": [
    {
     "data": {
      "text/plain": [
       "0    45\n",
       "1    23\n",
       "2    90\n",
       "3    23\n",
       "4    12\n",
       "5    45\n",
       "dtype: int64"
      ]
     },
     "execution_count": 32,
     "metadata": {},
     "output_type": "execute_result"
    }
   ],
   "source": [
    "scores"
   ]
  },
  {
   "cell_type": "code",
   "execution_count": 33,
   "id": "e94d05cd",
   "metadata": {},
   "outputs": [],
   "source": [
    "data = pd.DataFrame({\n",
    "    'Student' : student,\n",
    "    'Scores' : scores\n",
    "})"
   ]
  },
  {
   "cell_type": "code",
   "execution_count": 34,
   "id": "26da28cc",
   "metadata": {},
   "outputs": [
    {
     "data": {
      "text/html": [
       "<div>\n",
       "<style scoped>\n",
       "    .dataframe tbody tr th:only-of-type {\n",
       "        vertical-align: middle;\n",
       "    }\n",
       "\n",
       "    .dataframe tbody tr th {\n",
       "        vertical-align: top;\n",
       "    }\n",
       "\n",
       "    .dataframe thead th {\n",
       "        text-align: right;\n",
       "    }\n",
       "</style>\n",
       "<table border=\"1\" class=\"dataframe\">\n",
       "  <thead>\n",
       "    <tr style=\"text-align: right;\">\n",
       "      <th></th>\n",
       "      <th>Student</th>\n",
       "      <th>Scores</th>\n",
       "    </tr>\n",
       "  </thead>\n",
       "  <tbody>\n",
       "    <tr>\n",
       "      <th>0</th>\n",
       "      <td>Loveth</td>\n",
       "      <td>45</td>\n",
       "    </tr>\n",
       "    <tr>\n",
       "      <th>1</th>\n",
       "      <td>Onyi</td>\n",
       "      <td>23</td>\n",
       "    </tr>\n",
       "    <tr>\n",
       "      <th>2</th>\n",
       "      <td>Fisayo</td>\n",
       "      <td>90</td>\n",
       "    </tr>\n",
       "    <tr>\n",
       "      <th>3</th>\n",
       "      <td>Debby</td>\n",
       "      <td>23</td>\n",
       "    </tr>\n",
       "    <tr>\n",
       "      <th>4</th>\n",
       "      <td>Hamad</td>\n",
       "      <td>12</td>\n",
       "    </tr>\n",
       "    <tr>\n",
       "      <th>5</th>\n",
       "      <td>Fidelis</td>\n",
       "      <td>45</td>\n",
       "    </tr>\n",
       "  </tbody>\n",
       "</table>\n",
       "</div>"
      ],
      "text/plain": [
       "   Student  Scores\n",
       "0   Loveth      45\n",
       "1     Onyi      23\n",
       "2   Fisayo      90\n",
       "3    Debby      23\n",
       "4    Hamad      12\n",
       "5  Fidelis      45"
      ]
     },
     "execution_count": 34,
     "metadata": {},
     "output_type": "execute_result"
    }
   ],
   "source": [
    "data"
   ]
  },
  {
   "cell_type": "markdown",
   "id": "d6b56fcc",
   "metadata": {},
   "source": [
    "#### Working with real world data"
   ]
  },
  {
   "cell_type": "code",
   "execution_count": 52,
   "id": "a993b65e",
   "metadata": {},
   "outputs": [],
   "source": [
    "# 1. Read the data\n",
    "\n",
    "df = pd.read_csv(filepath_or_buffer = 'Data_Sheet_Udemy_Courses_-_Music_Courses - Data_Sheet_Udemy_Courses_-_Music_Courses.csv', sep=',')"
   ]
  },
  {
   "cell_type": "code",
   "execution_count": 49,
   "id": "3625974b",
   "metadata": {},
   "outputs": [
    {
     "data": {
      "text/html": [
       "<div>\n",
       "<style scoped>\n",
       "    .dataframe tbody tr th:only-of-type {\n",
       "        vertical-align: middle;\n",
       "    }\n",
       "\n",
       "    .dataframe tbody tr th {\n",
       "        vertical-align: top;\n",
       "    }\n",
       "\n",
       "    .dataframe thead th {\n",
       "        text-align: right;\n",
       "    }\n",
       "</style>\n",
       "<table border=\"1\" class=\"dataframe\">\n",
       "  <thead>\n",
       "    <tr style=\"text-align: right;\">\n",
       "      <th></th>\n",
       "      <th>course_id</th>\n",
       "      <th>course_title</th>\n",
       "      <th>url</th>\n",
       "      <th>price</th>\n",
       "      <th>num_subscribers</th>\n",
       "      <th>num_reviews</th>\n",
       "      <th>num_lectures</th>\n",
       "      <th>level</th>\n",
       "      <th>Rating</th>\n",
       "      <th>content_duration</th>\n",
       "      <th>published_timestamp</th>\n",
       "      <th>subject</th>\n",
       "    </tr>\n",
       "  </thead>\n",
       "  <tbody>\n",
       "    <tr>\n",
       "      <th>0</th>\n",
       "      <td>19421</td>\n",
       "      <td>Free Beginner Electric Guitar Lessons</td>\n",
       "      <td>https://www.udemy.com/beginner-electric-guitar...</td>\n",
       "      <td>0</td>\n",
       "      <td>101154</td>\n",
       "      <td>1042</td>\n",
       "      <td>95</td>\n",
       "      <td>All Levels</td>\n",
       "      <td>0.88</td>\n",
       "      <td>4.500000</td>\n",
       "      <td>2012-06-15T17:00:33Z</td>\n",
       "      <td>Musical Instruments</td>\n",
       "    </tr>\n",
       "    <tr>\n",
       "      <th>1</th>\n",
       "      <td>238934</td>\n",
       "      <td>Pianoforall - Incredible New Way To Learn Pian...</td>\n",
       "      <td>https://www.udemy.com/pianoforall-incredible-n...</td>\n",
       "      <td>200</td>\n",
       "      <td>75499</td>\n",
       "      <td>7676</td>\n",
       "      <td>362</td>\n",
       "      <td>Beginner Level</td>\n",
       "      <td>0.96</td>\n",
       "      <td>30.000000</td>\n",
       "      <td>2014-08-07T06:27:51Z</td>\n",
       "      <td>Musical Instruments</td>\n",
       "    </tr>\n",
       "    <tr>\n",
       "      <th>2</th>\n",
       "      <td>41884</td>\n",
       "      <td>Getting Started with Playing Guitar</td>\n",
       "      <td>https://www.udemy.com/getting-started-with-pla...</td>\n",
       "      <td>0</td>\n",
       "      <td>47652</td>\n",
       "      <td>1141</td>\n",
       "      <td>26</td>\n",
       "      <td>All Levels</td>\n",
       "      <td>0.68</td>\n",
       "      <td>4.000000</td>\n",
       "      <td>2013-05-29T15:28:07Z</td>\n",
       "      <td>Musical Instruments</td>\n",
       "    </tr>\n",
       "    <tr>\n",
       "      <th>3</th>\n",
       "      <td>42271</td>\n",
       "      <td>Complete Guitar System - Beginner to Advanced</td>\n",
       "      <td>https://www.udemy.com/complete-guitar-system-b...</td>\n",
       "      <td>145</td>\n",
       "      <td>32935</td>\n",
       "      <td>2713</td>\n",
       "      <td>310</td>\n",
       "      <td>All Levels</td>\n",
       "      <td>0.65</td>\n",
       "      <td>34.000000</td>\n",
       "      <td>2013-05-29T15:24:47Z</td>\n",
       "      <td>Musical Instruments</td>\n",
       "    </tr>\n",
       "    <tr>\n",
       "      <th>4</th>\n",
       "      <td>26956</td>\n",
       "      <td>Learn Guitar in 21 Days</td>\n",
       "      <td>https://www.udemy.com/learn-guitar-in-21-days/</td>\n",
       "      <td>20</td>\n",
       "      <td>26504</td>\n",
       "      <td>192</td>\n",
       "      <td>82</td>\n",
       "      <td>All Levels</td>\n",
       "      <td>0.41</td>\n",
       "      <td>2.500000</td>\n",
       "      <td>2012-10-21T20:36:50Z</td>\n",
       "      <td>Musical Instruments</td>\n",
       "    </tr>\n",
       "    <tr>\n",
       "      <th>...</th>\n",
       "      <td>...</td>\n",
       "      <td>...</td>\n",
       "      <td>...</td>\n",
       "      <td>...</td>\n",
       "      <td>...</td>\n",
       "      <td>...</td>\n",
       "      <td>...</td>\n",
       "      <td>...</td>\n",
       "      <td>...</td>\n",
       "      <td>...</td>\n",
       "      <td>...</td>\n",
       "      <td>...</td>\n",
       "    </tr>\n",
       "    <tr>\n",
       "      <th>675</th>\n",
       "      <td>1216340</td>\n",
       "      <td>Learn to Play Sweet Child of Mine</td>\n",
       "      <td>https://www.udemy.com/learn-to-play-sweet-chil...</td>\n",
       "      <td>20</td>\n",
       "      <td>0</td>\n",
       "      <td>0</td>\n",
       "      <td>23</td>\n",
       "      <td>All Levels</td>\n",
       "      <td>0.31</td>\n",
       "      <td>1.500000</td>\n",
       "      <td>2017-06-30T17:33:29Z</td>\n",
       "      <td>Musical Instruments</td>\n",
       "    </tr>\n",
       "    <tr>\n",
       "      <th>676</th>\n",
       "      <td>1026762</td>\n",
       "      <td>Coaching Course: Rhythm Instruction for Music ...</td>\n",
       "      <td>https://www.udemy.com/coaching-bundle-rhythm-i...</td>\n",
       "      <td>125</td>\n",
       "      <td>0</td>\n",
       "      <td>0</td>\n",
       "      <td>7</td>\n",
       "      <td>Beginner Level</td>\n",
       "      <td>0.06</td>\n",
       "      <td>0.633333</td>\n",
       "      <td>2017-03-10T17:06:46Z</td>\n",
       "      <td>Musical Instruments</td>\n",
       "    </tr>\n",
       "    <tr>\n",
       "      <th>677</th>\n",
       "      <td>1223240</td>\n",
       "      <td>Learn Pirates of the Caribbean by Ear on the P...</td>\n",
       "      <td>https://www.udemy.com/learn-pirates-of-the-car...</td>\n",
       "      <td>20</td>\n",
       "      <td>0</td>\n",
       "      <td>0</td>\n",
       "      <td>6</td>\n",
       "      <td>All Levels</td>\n",
       "      <td>0.08</td>\n",
       "      <td>0.533333</td>\n",
       "      <td>2017-05-22T17:14:43Z</td>\n",
       "      <td>Musical Instruments</td>\n",
       "    </tr>\n",
       "    <tr>\n",
       "      <th>678</th>\n",
       "      <td>1224186</td>\n",
       "      <td>Learn to Play Piano Like a Pro - Easy Piano Co...</td>\n",
       "      <td>https://www.udemy.com/learn-to-play-piano-like...</td>\n",
       "      <td>35</td>\n",
       "      <td>0</td>\n",
       "      <td>0</td>\n",
       "      <td>13</td>\n",
       "      <td>Beginner Level</td>\n",
       "      <td>0.78</td>\n",
       "      <td>0.516667</td>\n",
       "      <td>2017-05-30T00:19:02Z</td>\n",
       "      <td>Musical Instruments</td>\n",
       "    </tr>\n",
       "    <tr>\n",
       "      <th>679</th>\n",
       "      <td>1234656</td>\n",
       "      <td>4 Week Rhythm Mastery</td>\n",
       "      <td>https://www.udemy.com/4-week-rhythm-mastery/</td>\n",
       "      <td>20</td>\n",
       "      <td>0</td>\n",
       "      <td>0</td>\n",
       "      <td>28</td>\n",
       "      <td>All Levels</td>\n",
       "      <td>0.01</td>\n",
       "      <td>2.500000</td>\n",
       "      <td>2017-07-05T16:07:44Z</td>\n",
       "      <td>Musical Instruments</td>\n",
       "    </tr>\n",
       "  </tbody>\n",
       "</table>\n",
       "<p>680 rows × 12 columns</p>\n",
       "</div>"
      ],
      "text/plain": [
       "     course_id                                       course_title  \\\n",
       "0        19421              Free Beginner Electric Guitar Lessons   \n",
       "1       238934  Pianoforall - Incredible New Way To Learn Pian...   \n",
       "2        41884                Getting Started with Playing Guitar   \n",
       "3        42271      Complete Guitar System - Beginner to Advanced   \n",
       "4        26956                            Learn Guitar in 21 Days   \n",
       "..         ...                                                ...   \n",
       "675    1216340                  Learn to Play Sweet Child of Mine   \n",
       "676    1026762  Coaching Course: Rhythm Instruction for Music ...   \n",
       "677    1223240  Learn Pirates of the Caribbean by Ear on the P...   \n",
       "678    1224186  Learn to Play Piano Like a Pro - Easy Piano Co...   \n",
       "679    1234656                              4 Week Rhythm Mastery   \n",
       "\n",
       "                                                   url  price  \\\n",
       "0    https://www.udemy.com/beginner-electric-guitar...      0   \n",
       "1    https://www.udemy.com/pianoforall-incredible-n...    200   \n",
       "2    https://www.udemy.com/getting-started-with-pla...      0   \n",
       "3    https://www.udemy.com/complete-guitar-system-b...    145   \n",
       "4       https://www.udemy.com/learn-guitar-in-21-days/     20   \n",
       "..                                                 ...    ...   \n",
       "675  https://www.udemy.com/learn-to-play-sweet-chil...     20   \n",
       "676  https://www.udemy.com/coaching-bundle-rhythm-i...    125   \n",
       "677  https://www.udemy.com/learn-pirates-of-the-car...     20   \n",
       "678  https://www.udemy.com/learn-to-play-piano-like...     35   \n",
       "679       https://www.udemy.com/4-week-rhythm-mastery/     20   \n",
       "\n",
       "     num_subscribers  num_reviews  num_lectures           level  Rating  \\\n",
       "0             101154         1042            95      All Levels    0.88   \n",
       "1              75499         7676           362  Beginner Level    0.96   \n",
       "2              47652         1141            26      All Levels    0.68   \n",
       "3              32935         2713           310      All Levels    0.65   \n",
       "4              26504          192            82      All Levels    0.41   \n",
       "..               ...          ...           ...             ...     ...   \n",
       "675                0            0            23      All Levels    0.31   \n",
       "676                0            0             7  Beginner Level    0.06   \n",
       "677                0            0             6      All Levels    0.08   \n",
       "678                0            0            13  Beginner Level    0.78   \n",
       "679                0            0            28      All Levels    0.01   \n",
       "\n",
       "     content_duration   published_timestamp              subject  \n",
       "0            4.500000  2012-06-15T17:00:33Z  Musical Instruments  \n",
       "1           30.000000  2014-08-07T06:27:51Z  Musical Instruments  \n",
       "2            4.000000  2013-05-29T15:28:07Z  Musical Instruments  \n",
       "3           34.000000  2013-05-29T15:24:47Z  Musical Instruments  \n",
       "4            2.500000  2012-10-21T20:36:50Z  Musical Instruments  \n",
       "..                ...                   ...                  ...  \n",
       "675          1.500000  2017-06-30T17:33:29Z  Musical Instruments  \n",
       "676          0.633333  2017-03-10T17:06:46Z  Musical Instruments  \n",
       "677          0.533333  2017-05-22T17:14:43Z  Musical Instruments  \n",
       "678          0.516667  2017-05-30T00:19:02Z  Musical Instruments  \n",
       "679          2.500000  2017-07-05T16:07:44Z  Musical Instruments  \n",
       "\n",
       "[680 rows x 12 columns]"
      ]
     },
     "execution_count": 49,
     "metadata": {},
     "output_type": "execute_result"
    }
   ],
   "source": [
    "df"
   ]
  },
  {
   "cell_type": "code",
   "execution_count": 38,
   "id": "2bf707be",
   "metadata": {},
   "outputs": [],
   "source": [
    "df2 = pd.read_excel('Data_Sheet_Udemy_Courses_-_Music_Courses.xlsx')"
   ]
  },
  {
   "cell_type": "code",
   "execution_count": 39,
   "id": "3f05390f",
   "metadata": {},
   "outputs": [
    {
     "data": {
      "text/html": [
       "<div>\n",
       "<style scoped>\n",
       "    .dataframe tbody tr th:only-of-type {\n",
       "        vertical-align: middle;\n",
       "    }\n",
       "\n",
       "    .dataframe tbody tr th {\n",
       "        vertical-align: top;\n",
       "    }\n",
       "\n",
       "    .dataframe thead th {\n",
       "        text-align: right;\n",
       "    }\n",
       "</style>\n",
       "<table border=\"1\" class=\"dataframe\">\n",
       "  <thead>\n",
       "    <tr style=\"text-align: right;\">\n",
       "      <th></th>\n",
       "      <th>course_id</th>\n",
       "      <th>course_title</th>\n",
       "      <th>url</th>\n",
       "      <th>price</th>\n",
       "      <th>num_subscribers</th>\n",
       "      <th>num_reviews</th>\n",
       "      <th>num_lectures</th>\n",
       "      <th>level</th>\n",
       "      <th>Rating</th>\n",
       "      <th>content_duration</th>\n",
       "      <th>published_timestamp</th>\n",
       "      <th>subject</th>\n",
       "    </tr>\n",
       "  </thead>\n",
       "  <tbody>\n",
       "    <tr>\n",
       "      <th>0</th>\n",
       "      <td>19421</td>\n",
       "      <td>Free Beginner Electric Guitar Lessons</td>\n",
       "      <td>https://www.udemy.com/beginner-electric-guitar...</td>\n",
       "      <td>0</td>\n",
       "      <td>101154</td>\n",
       "      <td>1042</td>\n",
       "      <td>95</td>\n",
       "      <td>All Levels</td>\n",
       "      <td>0.88</td>\n",
       "      <td>4.500000</td>\n",
       "      <td>2012-06-15T17:00:33Z</td>\n",
       "      <td>Musical Instruments</td>\n",
       "    </tr>\n",
       "    <tr>\n",
       "      <th>1</th>\n",
       "      <td>238934</td>\n",
       "      <td>Pianoforall - Incredible New Way To Learn Pian...</td>\n",
       "      <td>https://www.udemy.com/pianoforall-incredible-n...</td>\n",
       "      <td>200</td>\n",
       "      <td>75499</td>\n",
       "      <td>7676</td>\n",
       "      <td>362</td>\n",
       "      <td>Beginner Level</td>\n",
       "      <td>0.96</td>\n",
       "      <td>30.000000</td>\n",
       "      <td>2014-08-07T06:27:51Z</td>\n",
       "      <td>Musical Instruments</td>\n",
       "    </tr>\n",
       "    <tr>\n",
       "      <th>2</th>\n",
       "      <td>41884</td>\n",
       "      <td>Getting Started with Playing Guitar</td>\n",
       "      <td>https://www.udemy.com/getting-started-with-pla...</td>\n",
       "      <td>0</td>\n",
       "      <td>47652</td>\n",
       "      <td>1141</td>\n",
       "      <td>26</td>\n",
       "      <td>All Levels</td>\n",
       "      <td>0.68</td>\n",
       "      <td>4.000000</td>\n",
       "      <td>2013-05-29T15:28:07Z</td>\n",
       "      <td>Musical Instruments</td>\n",
       "    </tr>\n",
       "    <tr>\n",
       "      <th>3</th>\n",
       "      <td>42271</td>\n",
       "      <td>Complete Guitar System - Beginner to Advanced</td>\n",
       "      <td>https://www.udemy.com/complete-guitar-system-b...</td>\n",
       "      <td>145</td>\n",
       "      <td>32935</td>\n",
       "      <td>2713</td>\n",
       "      <td>310</td>\n",
       "      <td>All Levels</td>\n",
       "      <td>0.65</td>\n",
       "      <td>34.000000</td>\n",
       "      <td>2013-05-29T15:24:47Z</td>\n",
       "      <td>Musical Instruments</td>\n",
       "    </tr>\n",
       "    <tr>\n",
       "      <th>4</th>\n",
       "      <td>26956</td>\n",
       "      <td>Learn Guitar in 21 Days</td>\n",
       "      <td>https://www.udemy.com/learn-guitar-in-21-days/</td>\n",
       "      <td>20</td>\n",
       "      <td>26504</td>\n",
       "      <td>192</td>\n",
       "      <td>82</td>\n",
       "      <td>All Levels</td>\n",
       "      <td>0.41</td>\n",
       "      <td>2.500000</td>\n",
       "      <td>2012-10-21T20:36:50Z</td>\n",
       "      <td>Musical Instruments</td>\n",
       "    </tr>\n",
       "    <tr>\n",
       "      <th>...</th>\n",
       "      <td>...</td>\n",
       "      <td>...</td>\n",
       "      <td>...</td>\n",
       "      <td>...</td>\n",
       "      <td>...</td>\n",
       "      <td>...</td>\n",
       "      <td>...</td>\n",
       "      <td>...</td>\n",
       "      <td>...</td>\n",
       "      <td>...</td>\n",
       "      <td>...</td>\n",
       "      <td>...</td>\n",
       "    </tr>\n",
       "    <tr>\n",
       "      <th>675</th>\n",
       "      <td>1216340</td>\n",
       "      <td>Learn to Play Sweet Child of Mine</td>\n",
       "      <td>https://www.udemy.com/learn-to-play-sweet-chil...</td>\n",
       "      <td>20</td>\n",
       "      <td>0</td>\n",
       "      <td>0</td>\n",
       "      <td>23</td>\n",
       "      <td>All Levels</td>\n",
       "      <td>0.31</td>\n",
       "      <td>1.500000</td>\n",
       "      <td>2017-06-30T17:33:29Z</td>\n",
       "      <td>Musical Instruments</td>\n",
       "    </tr>\n",
       "    <tr>\n",
       "      <th>676</th>\n",
       "      <td>1026762</td>\n",
       "      <td>Coaching Course: Rhythm Instruction for Music ...</td>\n",
       "      <td>https://www.udemy.com/coaching-bundle-rhythm-i...</td>\n",
       "      <td>125</td>\n",
       "      <td>0</td>\n",
       "      <td>0</td>\n",
       "      <td>7</td>\n",
       "      <td>Beginner Level</td>\n",
       "      <td>0.06</td>\n",
       "      <td>0.633333</td>\n",
       "      <td>2017-03-10T17:06:46Z</td>\n",
       "      <td>Musical Instruments</td>\n",
       "    </tr>\n",
       "    <tr>\n",
       "      <th>677</th>\n",
       "      <td>1223240</td>\n",
       "      <td>Learn Pirates of the Caribbean by Ear on the P...</td>\n",
       "      <td>https://www.udemy.com/learn-pirates-of-the-car...</td>\n",
       "      <td>20</td>\n",
       "      <td>0</td>\n",
       "      <td>0</td>\n",
       "      <td>6</td>\n",
       "      <td>All Levels</td>\n",
       "      <td>0.08</td>\n",
       "      <td>0.533333</td>\n",
       "      <td>2017-05-22T17:14:43Z</td>\n",
       "      <td>Musical Instruments</td>\n",
       "    </tr>\n",
       "    <tr>\n",
       "      <th>678</th>\n",
       "      <td>1224186</td>\n",
       "      <td>Learn to Play Piano Like a Pro - Easy Piano Co...</td>\n",
       "      <td>https://www.udemy.com/learn-to-play-piano-like...</td>\n",
       "      <td>35</td>\n",
       "      <td>0</td>\n",
       "      <td>0</td>\n",
       "      <td>13</td>\n",
       "      <td>Beginner Level</td>\n",
       "      <td>0.78</td>\n",
       "      <td>0.516667</td>\n",
       "      <td>2017-05-30T00:19:02Z</td>\n",
       "      <td>Musical Instruments</td>\n",
       "    </tr>\n",
       "    <tr>\n",
       "      <th>679</th>\n",
       "      <td>1234656</td>\n",
       "      <td>4 Week Rhythm Mastery</td>\n",
       "      <td>https://www.udemy.com/4-week-rhythm-mastery/</td>\n",
       "      <td>20</td>\n",
       "      <td>0</td>\n",
       "      <td>0</td>\n",
       "      <td>28</td>\n",
       "      <td>All Levels</td>\n",
       "      <td>0.01</td>\n",
       "      <td>2.500000</td>\n",
       "      <td>2017-07-05T16:07:44Z</td>\n",
       "      <td>Musical Instruments</td>\n",
       "    </tr>\n",
       "  </tbody>\n",
       "</table>\n",
       "<p>680 rows × 12 columns</p>\n",
       "</div>"
      ],
      "text/plain": [
       "     course_id                                       course_title  \\\n",
       "0        19421              Free Beginner Electric Guitar Lessons   \n",
       "1       238934  Pianoforall - Incredible New Way To Learn Pian...   \n",
       "2        41884                Getting Started with Playing Guitar   \n",
       "3        42271      Complete Guitar System - Beginner to Advanced   \n",
       "4        26956                            Learn Guitar in 21 Days   \n",
       "..         ...                                                ...   \n",
       "675    1216340                  Learn to Play Sweet Child of Mine   \n",
       "676    1026762  Coaching Course: Rhythm Instruction for Music ...   \n",
       "677    1223240  Learn Pirates of the Caribbean by Ear on the P...   \n",
       "678    1224186  Learn to Play Piano Like a Pro - Easy Piano Co...   \n",
       "679    1234656                              4 Week Rhythm Mastery   \n",
       "\n",
       "                                                   url  price  \\\n",
       "0    https://www.udemy.com/beginner-electric-guitar...      0   \n",
       "1    https://www.udemy.com/pianoforall-incredible-n...    200   \n",
       "2    https://www.udemy.com/getting-started-with-pla...      0   \n",
       "3    https://www.udemy.com/complete-guitar-system-b...    145   \n",
       "4       https://www.udemy.com/learn-guitar-in-21-days/     20   \n",
       "..                                                 ...    ...   \n",
       "675  https://www.udemy.com/learn-to-play-sweet-chil...     20   \n",
       "676  https://www.udemy.com/coaching-bundle-rhythm-i...    125   \n",
       "677  https://www.udemy.com/learn-pirates-of-the-car...     20   \n",
       "678  https://www.udemy.com/learn-to-play-piano-like...     35   \n",
       "679       https://www.udemy.com/4-week-rhythm-mastery/     20   \n",
       "\n",
       "     num_subscribers  num_reviews  num_lectures           level  Rating  \\\n",
       "0             101154         1042            95      All Levels    0.88   \n",
       "1              75499         7676           362  Beginner Level    0.96   \n",
       "2              47652         1141            26      All Levels    0.68   \n",
       "3              32935         2713           310      All Levels    0.65   \n",
       "4              26504          192            82      All Levels    0.41   \n",
       "..               ...          ...           ...             ...     ...   \n",
       "675                0            0            23      All Levels    0.31   \n",
       "676                0            0             7  Beginner Level    0.06   \n",
       "677                0            0             6      All Levels    0.08   \n",
       "678                0            0            13  Beginner Level    0.78   \n",
       "679                0            0            28      All Levels    0.01   \n",
       "\n",
       "     content_duration   published_timestamp              subject  \n",
       "0            4.500000  2012-06-15T17:00:33Z  Musical Instruments  \n",
       "1           30.000000  2014-08-07T06:27:51Z  Musical Instruments  \n",
       "2            4.000000  2013-05-29T15:28:07Z  Musical Instruments  \n",
       "3           34.000000  2013-05-29T15:24:47Z  Musical Instruments  \n",
       "4            2.500000  2012-10-21T20:36:50Z  Musical Instruments  \n",
       "..                ...                   ...                  ...  \n",
       "675          1.500000  2017-06-30T17:33:29Z  Musical Instruments  \n",
       "676          0.633333  2017-03-10T17:06:46Z  Musical Instruments  \n",
       "677          0.533333  2017-05-22T17:14:43Z  Musical Instruments  \n",
       "678          0.516667  2017-05-30T00:19:02Z  Musical Instruments  \n",
       "679          2.500000  2017-07-05T16:07:44Z  Musical Instruments  \n",
       "\n",
       "[680 rows x 12 columns]"
      ]
     },
     "execution_count": 39,
     "metadata": {},
     "output_type": "execute_result"
    }
   ],
   "source": [
    "df2"
   ]
  },
  {
   "cell_type": "markdown",
   "id": "6122576c",
   "metadata": {},
   "source": [
    "#### Data Exploration"
   ]
  },
  {
   "cell_type": "code",
   "execution_count": 54,
   "id": "76a69ef8",
   "metadata": {},
   "outputs": [
    {
     "data": {
      "text/html": [
       "<div>\n",
       "<style scoped>\n",
       "    .dataframe tbody tr th:only-of-type {\n",
       "        vertical-align: middle;\n",
       "    }\n",
       "\n",
       "    .dataframe tbody tr th {\n",
       "        vertical-align: top;\n",
       "    }\n",
       "\n",
       "    .dataframe thead th {\n",
       "        text-align: right;\n",
       "    }\n",
       "</style>\n",
       "<table border=\"1\" class=\"dataframe\">\n",
       "  <thead>\n",
       "    <tr style=\"text-align: right;\">\n",
       "      <th></th>\n",
       "      <th>course_id</th>\n",
       "      <th>course_title</th>\n",
       "      <th>url</th>\n",
       "      <th>price</th>\n",
       "      <th>num_subscribers</th>\n",
       "      <th>num_reviews</th>\n",
       "      <th>num_lectures</th>\n",
       "      <th>level</th>\n",
       "      <th>Rating</th>\n",
       "      <th>content_duration</th>\n",
       "      <th>published_timestamp</th>\n",
       "      <th>subject</th>\n",
       "    </tr>\n",
       "  </thead>\n",
       "  <tbody>\n",
       "    <tr>\n",
       "      <th>0</th>\n",
       "      <td>19421</td>\n",
       "      <td>Free Beginner Electric Guitar Lessons</td>\n",
       "      <td>https://www.udemy.com/beginner-electric-guitar...</td>\n",
       "      <td>0</td>\n",
       "      <td>101154</td>\n",
       "      <td>1042</td>\n",
       "      <td>95</td>\n",
       "      <td>All Levels</td>\n",
       "      <td>0.88</td>\n",
       "      <td>4.5</td>\n",
       "      <td>2012-06-15T17:00:33Z</td>\n",
       "      <td>Musical Instruments</td>\n",
       "    </tr>\n",
       "    <tr>\n",
       "      <th>1</th>\n",
       "      <td>238934</td>\n",
       "      <td>Pianoforall - Incredible New Way To Learn Pian...</td>\n",
       "      <td>https://www.udemy.com/pianoforall-incredible-n...</td>\n",
       "      <td>200</td>\n",
       "      <td>75499</td>\n",
       "      <td>7676</td>\n",
       "      <td>362</td>\n",
       "      <td>Beginner Level</td>\n",
       "      <td>0.96</td>\n",
       "      <td>30.0</td>\n",
       "      <td>2014-08-07T06:27:51Z</td>\n",
       "      <td>Musical Instruments</td>\n",
       "    </tr>\n",
       "    <tr>\n",
       "      <th>2</th>\n",
       "      <td>41884</td>\n",
       "      <td>Getting Started with Playing Guitar</td>\n",
       "      <td>https://www.udemy.com/getting-started-with-pla...</td>\n",
       "      <td>0</td>\n",
       "      <td>47652</td>\n",
       "      <td>1141</td>\n",
       "      <td>26</td>\n",
       "      <td>All Levels</td>\n",
       "      <td>0.68</td>\n",
       "      <td>4.0</td>\n",
       "      <td>2013-05-29T15:28:07Z</td>\n",
       "      <td>Musical Instruments</td>\n",
       "    </tr>\n",
       "  </tbody>\n",
       "</table>\n",
       "</div>"
      ],
      "text/plain": [
       "   course_id                                       course_title  \\\n",
       "0      19421              Free Beginner Electric Guitar Lessons   \n",
       "1     238934  Pianoforall - Incredible New Way To Learn Pian...   \n",
       "2      41884                Getting Started with Playing Guitar   \n",
       "\n",
       "                                                 url  price  num_subscribers  \\\n",
       "0  https://www.udemy.com/beginner-electric-guitar...      0           101154   \n",
       "1  https://www.udemy.com/pianoforall-incredible-n...    200            75499   \n",
       "2  https://www.udemy.com/getting-started-with-pla...      0            47652   \n",
       "\n",
       "   num_reviews  num_lectures           level  Rating  content_duration  \\\n",
       "0         1042            95      All Levels    0.88               4.5   \n",
       "1         7676           362  Beginner Level    0.96              30.0   \n",
       "2         1141            26      All Levels    0.68               4.0   \n",
       "\n",
       "    published_timestamp              subject  \n",
       "0  2012-06-15T17:00:33Z  Musical Instruments  \n",
       "1  2014-08-07T06:27:51Z  Musical Instruments  \n",
       "2  2013-05-29T15:28:07Z  Musical Instruments  "
      ]
     },
     "execution_count": 54,
     "metadata": {},
     "output_type": "execute_result"
    }
   ],
   "source": [
    "df.head(3)"
   ]
  },
  {
   "cell_type": "code",
   "execution_count": 55,
   "id": "f65bb7a0",
   "metadata": {},
   "outputs": [
    {
     "data": {
      "text/html": [
       "<div>\n",
       "<style scoped>\n",
       "    .dataframe tbody tr th:only-of-type {\n",
       "        vertical-align: middle;\n",
       "    }\n",
       "\n",
       "    .dataframe tbody tr th {\n",
       "        vertical-align: top;\n",
       "    }\n",
       "\n",
       "    .dataframe thead th {\n",
       "        text-align: right;\n",
       "    }\n",
       "</style>\n",
       "<table border=\"1\" class=\"dataframe\">\n",
       "  <thead>\n",
       "    <tr style=\"text-align: right;\">\n",
       "      <th></th>\n",
       "      <th>course_id</th>\n",
       "      <th>course_title</th>\n",
       "      <th>url</th>\n",
       "      <th>price</th>\n",
       "      <th>num_subscribers</th>\n",
       "      <th>num_reviews</th>\n",
       "      <th>num_lectures</th>\n",
       "      <th>level</th>\n",
       "      <th>Rating</th>\n",
       "      <th>content_duration</th>\n",
       "      <th>published_timestamp</th>\n",
       "      <th>subject</th>\n",
       "    </tr>\n",
       "  </thead>\n",
       "  <tbody>\n",
       "    <tr>\n",
       "      <th>675</th>\n",
       "      <td>1216340</td>\n",
       "      <td>Learn to Play Sweet Child of Mine</td>\n",
       "      <td>https://www.udemy.com/learn-to-play-sweet-chil...</td>\n",
       "      <td>20</td>\n",
       "      <td>0</td>\n",
       "      <td>0</td>\n",
       "      <td>23</td>\n",
       "      <td>All Levels</td>\n",
       "      <td>0.31</td>\n",
       "      <td>1.500000</td>\n",
       "      <td>2017-06-30T17:33:29Z</td>\n",
       "      <td>Musical Instruments</td>\n",
       "    </tr>\n",
       "    <tr>\n",
       "      <th>676</th>\n",
       "      <td>1026762</td>\n",
       "      <td>Coaching Course: Rhythm Instruction for Music ...</td>\n",
       "      <td>https://www.udemy.com/coaching-bundle-rhythm-i...</td>\n",
       "      <td>125</td>\n",
       "      <td>0</td>\n",
       "      <td>0</td>\n",
       "      <td>7</td>\n",
       "      <td>Beginner Level</td>\n",
       "      <td>0.06</td>\n",
       "      <td>0.633333</td>\n",
       "      <td>2017-03-10T17:06:46Z</td>\n",
       "      <td>Musical Instruments</td>\n",
       "    </tr>\n",
       "    <tr>\n",
       "      <th>677</th>\n",
       "      <td>1223240</td>\n",
       "      <td>Learn Pirates of the Caribbean by Ear on the P...</td>\n",
       "      <td>https://www.udemy.com/learn-pirates-of-the-car...</td>\n",
       "      <td>20</td>\n",
       "      <td>0</td>\n",
       "      <td>0</td>\n",
       "      <td>6</td>\n",
       "      <td>All Levels</td>\n",
       "      <td>0.08</td>\n",
       "      <td>0.533333</td>\n",
       "      <td>2017-05-22T17:14:43Z</td>\n",
       "      <td>Musical Instruments</td>\n",
       "    </tr>\n",
       "    <tr>\n",
       "      <th>678</th>\n",
       "      <td>1224186</td>\n",
       "      <td>Learn to Play Piano Like a Pro - Easy Piano Co...</td>\n",
       "      <td>https://www.udemy.com/learn-to-play-piano-like...</td>\n",
       "      <td>35</td>\n",
       "      <td>0</td>\n",
       "      <td>0</td>\n",
       "      <td>13</td>\n",
       "      <td>Beginner Level</td>\n",
       "      <td>0.78</td>\n",
       "      <td>0.516667</td>\n",
       "      <td>2017-05-30T00:19:02Z</td>\n",
       "      <td>Musical Instruments</td>\n",
       "    </tr>\n",
       "    <tr>\n",
       "      <th>679</th>\n",
       "      <td>1234656</td>\n",
       "      <td>4 Week Rhythm Mastery</td>\n",
       "      <td>https://www.udemy.com/4-week-rhythm-mastery/</td>\n",
       "      <td>20</td>\n",
       "      <td>0</td>\n",
       "      <td>0</td>\n",
       "      <td>28</td>\n",
       "      <td>All Levels</td>\n",
       "      <td>0.01</td>\n",
       "      <td>2.500000</td>\n",
       "      <td>2017-07-05T16:07:44Z</td>\n",
       "      <td>Musical Instruments</td>\n",
       "    </tr>\n",
       "  </tbody>\n",
       "</table>\n",
       "</div>"
      ],
      "text/plain": [
       "     course_id                                       course_title  \\\n",
       "675    1216340                  Learn to Play Sweet Child of Mine   \n",
       "676    1026762  Coaching Course: Rhythm Instruction for Music ...   \n",
       "677    1223240  Learn Pirates of the Caribbean by Ear on the P...   \n",
       "678    1224186  Learn to Play Piano Like a Pro - Easy Piano Co...   \n",
       "679    1234656                              4 Week Rhythm Mastery   \n",
       "\n",
       "                                                   url  price  \\\n",
       "675  https://www.udemy.com/learn-to-play-sweet-chil...     20   \n",
       "676  https://www.udemy.com/coaching-bundle-rhythm-i...    125   \n",
       "677  https://www.udemy.com/learn-pirates-of-the-car...     20   \n",
       "678  https://www.udemy.com/learn-to-play-piano-like...     35   \n",
       "679       https://www.udemy.com/4-week-rhythm-mastery/     20   \n",
       "\n",
       "     num_subscribers  num_reviews  num_lectures           level  Rating  \\\n",
       "675                0            0            23      All Levels    0.31   \n",
       "676                0            0             7  Beginner Level    0.06   \n",
       "677                0            0             6      All Levels    0.08   \n",
       "678                0            0            13  Beginner Level    0.78   \n",
       "679                0            0            28      All Levels    0.01   \n",
       "\n",
       "     content_duration   published_timestamp              subject  \n",
       "675          1.500000  2017-06-30T17:33:29Z  Musical Instruments  \n",
       "676          0.633333  2017-03-10T17:06:46Z  Musical Instruments  \n",
       "677          0.533333  2017-05-22T17:14:43Z  Musical Instruments  \n",
       "678          0.516667  2017-05-30T00:19:02Z  Musical Instruments  \n",
       "679          2.500000  2017-07-05T16:07:44Z  Musical Instruments  "
      ]
     },
     "execution_count": 55,
     "metadata": {},
     "output_type": "execute_result"
    }
   ],
   "source": [
    "df.tail()"
   ]
  },
  {
   "cell_type": "code",
   "execution_count": 56,
   "id": "747ac060",
   "metadata": {},
   "outputs": [
    {
     "name": "stdout",
     "output_type": "stream",
     "text": [
      "<class 'pandas.core.frame.DataFrame'>\n",
      "RangeIndex: 680 entries, 0 to 679\n",
      "Data columns (total 12 columns):\n",
      " #   Column               Non-Null Count  Dtype  \n",
      "---  ------               --------------  -----  \n",
      " 0   course_id            680 non-null    int64  \n",
      " 1   course_title         680 non-null    object \n",
      " 2   url                  680 non-null    object \n",
      " 3   price                680 non-null    int64  \n",
      " 4   num_subscribers      680 non-null    int64  \n",
      " 5   num_reviews          680 non-null    int64  \n",
      " 6   num_lectures         680 non-null    int64  \n",
      " 7   level                680 non-null    object \n",
      " 8   Rating               680 non-null    float64\n",
      " 9   content_duration     680 non-null    float64\n",
      " 10  published_timestamp  680 non-null    object \n",
      " 11  subject              680 non-null    object \n",
      "dtypes: float64(2), int64(5), object(5)\n",
      "memory usage: 63.9+ KB\n"
     ]
    }
   ],
   "source": [
    "df.info()"
   ]
  },
  {
   "cell_type": "code",
   "execution_count": 58,
   "id": "89060823",
   "metadata": {},
   "outputs": [
    {
     "data": {
      "text/plain": [
       "(680, 12)"
      ]
     },
     "execution_count": 58,
     "metadata": {},
     "output_type": "execute_result"
    }
   ],
   "source": [
    "df.shape"
   ]
  },
  {
   "cell_type": "code",
   "execution_count": 59,
   "id": "71a20672",
   "metadata": {},
   "outputs": [
    {
     "data": {
      "text/plain": [
       "Index(['course_id', 'course_title', 'url', 'price', 'num_subscribers',\n",
       "       'num_reviews', 'num_lectures', 'level', 'Rating', 'content_duration',\n",
       "       'published_timestamp', 'subject'],\n",
       "      dtype='object')"
      ]
     },
     "execution_count": 59,
     "metadata": {},
     "output_type": "execute_result"
    }
   ],
   "source": [
    "df.columns"
   ]
  },
  {
   "cell_type": "markdown",
   "id": "a4671b12",
   "metadata": {},
   "source": [
    "#### Filtering and Slicing "
   ]
  },
  {
   "cell_type": "code",
   "execution_count": 60,
   "id": "900fd858",
   "metadata": {},
   "outputs": [
    {
     "data": {
      "text/html": [
       "<div>\n",
       "<style scoped>\n",
       "    .dataframe tbody tr th:only-of-type {\n",
       "        vertical-align: middle;\n",
       "    }\n",
       "\n",
       "    .dataframe tbody tr th {\n",
       "        vertical-align: top;\n",
       "    }\n",
       "\n",
       "    .dataframe thead th {\n",
       "        text-align: right;\n",
       "    }\n",
       "</style>\n",
       "<table border=\"1\" class=\"dataframe\">\n",
       "  <thead>\n",
       "    <tr style=\"text-align: right;\">\n",
       "      <th></th>\n",
       "      <th>course_id</th>\n",
       "      <th>course_title</th>\n",
       "      <th>url</th>\n",
       "      <th>price</th>\n",
       "      <th>num_subscribers</th>\n",
       "      <th>num_reviews</th>\n",
       "      <th>num_lectures</th>\n",
       "      <th>level</th>\n",
       "      <th>Rating</th>\n",
       "      <th>content_duration</th>\n",
       "      <th>published_timestamp</th>\n",
       "      <th>subject</th>\n",
       "    </tr>\n",
       "  </thead>\n",
       "  <tbody>\n",
       "    <tr>\n",
       "      <th>0</th>\n",
       "      <td>19421</td>\n",
       "      <td>Free Beginner Electric Guitar Lessons</td>\n",
       "      <td>https://www.udemy.com/beginner-electric-guitar...</td>\n",
       "      <td>0</td>\n",
       "      <td>101154</td>\n",
       "      <td>1042</td>\n",
       "      <td>95</td>\n",
       "      <td>All Levels</td>\n",
       "      <td>0.88</td>\n",
       "      <td>4.500000</td>\n",
       "      <td>2012-06-15T17:00:33Z</td>\n",
       "      <td>Musical Instruments</td>\n",
       "    </tr>\n",
       "    <tr>\n",
       "      <th>1</th>\n",
       "      <td>238934</td>\n",
       "      <td>Pianoforall - Incredible New Way To Learn Pian...</td>\n",
       "      <td>https://www.udemy.com/pianoforall-incredible-n...</td>\n",
       "      <td>200</td>\n",
       "      <td>75499</td>\n",
       "      <td>7676</td>\n",
       "      <td>362</td>\n",
       "      <td>Beginner Level</td>\n",
       "      <td>0.96</td>\n",
       "      <td>30.000000</td>\n",
       "      <td>2014-08-07T06:27:51Z</td>\n",
       "      <td>Musical Instruments</td>\n",
       "    </tr>\n",
       "    <tr>\n",
       "      <th>2</th>\n",
       "      <td>41884</td>\n",
       "      <td>Getting Started with Playing Guitar</td>\n",
       "      <td>https://www.udemy.com/getting-started-with-pla...</td>\n",
       "      <td>0</td>\n",
       "      <td>47652</td>\n",
       "      <td>1141</td>\n",
       "      <td>26</td>\n",
       "      <td>All Levels</td>\n",
       "      <td>0.68</td>\n",
       "      <td>4.000000</td>\n",
       "      <td>2013-05-29T15:28:07Z</td>\n",
       "      <td>Musical Instruments</td>\n",
       "    </tr>\n",
       "    <tr>\n",
       "      <th>3</th>\n",
       "      <td>42271</td>\n",
       "      <td>Complete Guitar System - Beginner to Advanced</td>\n",
       "      <td>https://www.udemy.com/complete-guitar-system-b...</td>\n",
       "      <td>145</td>\n",
       "      <td>32935</td>\n",
       "      <td>2713</td>\n",
       "      <td>310</td>\n",
       "      <td>All Levels</td>\n",
       "      <td>0.65</td>\n",
       "      <td>34.000000</td>\n",
       "      <td>2013-05-29T15:24:47Z</td>\n",
       "      <td>Musical Instruments</td>\n",
       "    </tr>\n",
       "    <tr>\n",
       "      <th>4</th>\n",
       "      <td>26956</td>\n",
       "      <td>Learn Guitar in 21 Days</td>\n",
       "      <td>https://www.udemy.com/learn-guitar-in-21-days/</td>\n",
       "      <td>20</td>\n",
       "      <td>26504</td>\n",
       "      <td>192</td>\n",
       "      <td>82</td>\n",
       "      <td>All Levels</td>\n",
       "      <td>0.41</td>\n",
       "      <td>2.500000</td>\n",
       "      <td>2012-10-21T20:36:50Z</td>\n",
       "      <td>Musical Instruments</td>\n",
       "    </tr>\n",
       "    <tr>\n",
       "      <th>...</th>\n",
       "      <td>...</td>\n",
       "      <td>...</td>\n",
       "      <td>...</td>\n",
       "      <td>...</td>\n",
       "      <td>...</td>\n",
       "      <td>...</td>\n",
       "      <td>...</td>\n",
       "      <td>...</td>\n",
       "      <td>...</td>\n",
       "      <td>...</td>\n",
       "      <td>...</td>\n",
       "      <td>...</td>\n",
       "    </tr>\n",
       "    <tr>\n",
       "      <th>675</th>\n",
       "      <td>1216340</td>\n",
       "      <td>Learn to Play Sweet Child of Mine</td>\n",
       "      <td>https://www.udemy.com/learn-to-play-sweet-chil...</td>\n",
       "      <td>20</td>\n",
       "      <td>0</td>\n",
       "      <td>0</td>\n",
       "      <td>23</td>\n",
       "      <td>All Levels</td>\n",
       "      <td>0.31</td>\n",
       "      <td>1.500000</td>\n",
       "      <td>2017-06-30T17:33:29Z</td>\n",
       "      <td>Musical Instruments</td>\n",
       "    </tr>\n",
       "    <tr>\n",
       "      <th>676</th>\n",
       "      <td>1026762</td>\n",
       "      <td>Coaching Course: Rhythm Instruction for Music ...</td>\n",
       "      <td>https://www.udemy.com/coaching-bundle-rhythm-i...</td>\n",
       "      <td>125</td>\n",
       "      <td>0</td>\n",
       "      <td>0</td>\n",
       "      <td>7</td>\n",
       "      <td>Beginner Level</td>\n",
       "      <td>0.06</td>\n",
       "      <td>0.633333</td>\n",
       "      <td>2017-03-10T17:06:46Z</td>\n",
       "      <td>Musical Instruments</td>\n",
       "    </tr>\n",
       "    <tr>\n",
       "      <th>677</th>\n",
       "      <td>1223240</td>\n",
       "      <td>Learn Pirates of the Caribbean by Ear on the P...</td>\n",
       "      <td>https://www.udemy.com/learn-pirates-of-the-car...</td>\n",
       "      <td>20</td>\n",
       "      <td>0</td>\n",
       "      <td>0</td>\n",
       "      <td>6</td>\n",
       "      <td>All Levels</td>\n",
       "      <td>0.08</td>\n",
       "      <td>0.533333</td>\n",
       "      <td>2017-05-22T17:14:43Z</td>\n",
       "      <td>Musical Instruments</td>\n",
       "    </tr>\n",
       "    <tr>\n",
       "      <th>678</th>\n",
       "      <td>1224186</td>\n",
       "      <td>Learn to Play Piano Like a Pro - Easy Piano Co...</td>\n",
       "      <td>https://www.udemy.com/learn-to-play-piano-like...</td>\n",
       "      <td>35</td>\n",
       "      <td>0</td>\n",
       "      <td>0</td>\n",
       "      <td>13</td>\n",
       "      <td>Beginner Level</td>\n",
       "      <td>0.78</td>\n",
       "      <td>0.516667</td>\n",
       "      <td>2017-05-30T00:19:02Z</td>\n",
       "      <td>Musical Instruments</td>\n",
       "    </tr>\n",
       "    <tr>\n",
       "      <th>679</th>\n",
       "      <td>1234656</td>\n",
       "      <td>4 Week Rhythm Mastery</td>\n",
       "      <td>https://www.udemy.com/4-week-rhythm-mastery/</td>\n",
       "      <td>20</td>\n",
       "      <td>0</td>\n",
       "      <td>0</td>\n",
       "      <td>28</td>\n",
       "      <td>All Levels</td>\n",
       "      <td>0.01</td>\n",
       "      <td>2.500000</td>\n",
       "      <td>2017-07-05T16:07:44Z</td>\n",
       "      <td>Musical Instruments</td>\n",
       "    </tr>\n",
       "  </tbody>\n",
       "</table>\n",
       "<p>680 rows × 12 columns</p>\n",
       "</div>"
      ],
      "text/plain": [
       "     course_id                                       course_title  \\\n",
       "0        19421              Free Beginner Electric Guitar Lessons   \n",
       "1       238934  Pianoforall - Incredible New Way To Learn Pian...   \n",
       "2        41884                Getting Started with Playing Guitar   \n",
       "3        42271      Complete Guitar System - Beginner to Advanced   \n",
       "4        26956                            Learn Guitar in 21 Days   \n",
       "..         ...                                                ...   \n",
       "675    1216340                  Learn to Play Sweet Child of Mine   \n",
       "676    1026762  Coaching Course: Rhythm Instruction for Music ...   \n",
       "677    1223240  Learn Pirates of the Caribbean by Ear on the P...   \n",
       "678    1224186  Learn to Play Piano Like a Pro - Easy Piano Co...   \n",
       "679    1234656                              4 Week Rhythm Mastery   \n",
       "\n",
       "                                                   url  price  \\\n",
       "0    https://www.udemy.com/beginner-electric-guitar...      0   \n",
       "1    https://www.udemy.com/pianoforall-incredible-n...    200   \n",
       "2    https://www.udemy.com/getting-started-with-pla...      0   \n",
       "3    https://www.udemy.com/complete-guitar-system-b...    145   \n",
       "4       https://www.udemy.com/learn-guitar-in-21-days/     20   \n",
       "..                                                 ...    ...   \n",
       "675  https://www.udemy.com/learn-to-play-sweet-chil...     20   \n",
       "676  https://www.udemy.com/coaching-bundle-rhythm-i...    125   \n",
       "677  https://www.udemy.com/learn-pirates-of-the-car...     20   \n",
       "678  https://www.udemy.com/learn-to-play-piano-like...     35   \n",
       "679       https://www.udemy.com/4-week-rhythm-mastery/     20   \n",
       "\n",
       "     num_subscribers  num_reviews  num_lectures           level  Rating  \\\n",
       "0             101154         1042            95      All Levels    0.88   \n",
       "1              75499         7676           362  Beginner Level    0.96   \n",
       "2              47652         1141            26      All Levels    0.68   \n",
       "3              32935         2713           310      All Levels    0.65   \n",
       "4              26504          192            82      All Levels    0.41   \n",
       "..               ...          ...           ...             ...     ...   \n",
       "675                0            0            23      All Levels    0.31   \n",
       "676                0            0             7  Beginner Level    0.06   \n",
       "677                0            0             6      All Levels    0.08   \n",
       "678                0            0            13  Beginner Level    0.78   \n",
       "679                0            0            28      All Levels    0.01   \n",
       "\n",
       "     content_duration   published_timestamp              subject  \n",
       "0            4.500000  2012-06-15T17:00:33Z  Musical Instruments  \n",
       "1           30.000000  2014-08-07T06:27:51Z  Musical Instruments  \n",
       "2            4.000000  2013-05-29T15:28:07Z  Musical Instruments  \n",
       "3           34.000000  2013-05-29T15:24:47Z  Musical Instruments  \n",
       "4            2.500000  2012-10-21T20:36:50Z  Musical Instruments  \n",
       "..                ...                   ...                  ...  \n",
       "675          1.500000  2017-06-30T17:33:29Z  Musical Instruments  \n",
       "676          0.633333  2017-03-10T17:06:46Z  Musical Instruments  \n",
       "677          0.533333  2017-05-22T17:14:43Z  Musical Instruments  \n",
       "678          0.516667  2017-05-30T00:19:02Z  Musical Instruments  \n",
       "679          2.500000  2017-07-05T16:07:44Z  Musical Instruments  \n",
       "\n",
       "[680 rows x 12 columns]"
      ]
     },
     "execution_count": 60,
     "metadata": {},
     "output_type": "execute_result"
    }
   ],
   "source": [
    "df"
   ]
  },
  {
   "cell_type": "code",
   "execution_count": 61,
   "id": "68ecd3d0",
   "metadata": {},
   "outputs": [
    {
     "data": {
      "text/plain": [
       "0      https://www.udemy.com/beginner-electric-guitar...\n",
       "1      https://www.udemy.com/pianoforall-incredible-n...\n",
       "2      https://www.udemy.com/getting-started-with-pla...\n",
       "3      https://www.udemy.com/complete-guitar-system-b...\n",
       "4         https://www.udemy.com/learn-guitar-in-21-days/\n",
       "                             ...                        \n",
       "675    https://www.udemy.com/learn-to-play-sweet-chil...\n",
       "676    https://www.udemy.com/coaching-bundle-rhythm-i...\n",
       "677    https://www.udemy.com/learn-pirates-of-the-car...\n",
       "678    https://www.udemy.com/learn-to-play-piano-like...\n",
       "679         https://www.udemy.com/4-week-rhythm-mastery/\n",
       "Name: url, Length: 680, dtype: object"
      ]
     },
     "execution_count": 61,
     "metadata": {},
     "output_type": "execute_result"
    }
   ],
   "source": [
    "df['url']"
   ]
  },
  {
   "cell_type": "markdown",
   "id": "7e958aec",
   "metadata": {},
   "source": [
    "The operation you can perform on a data is dependent on the dtype"
   ]
  },
  {
   "cell_type": "code",
   "execution_count": 62,
   "id": "0a1ec65e",
   "metadata": {},
   "outputs": [
    {
     "data": {
      "text/html": [
       "<div>\n",
       "<style scoped>\n",
       "    .dataframe tbody tr th:only-of-type {\n",
       "        vertical-align: middle;\n",
       "    }\n",
       "\n",
       "    .dataframe tbody tr th {\n",
       "        vertical-align: top;\n",
       "    }\n",
       "\n",
       "    .dataframe thead th {\n",
       "        text-align: right;\n",
       "    }\n",
       "</style>\n",
       "<table border=\"1\" class=\"dataframe\">\n",
       "  <thead>\n",
       "    <tr style=\"text-align: right;\">\n",
       "      <th></th>\n",
       "      <th>url</th>\n",
       "    </tr>\n",
       "  </thead>\n",
       "  <tbody>\n",
       "    <tr>\n",
       "      <th>0</th>\n",
       "      <td>https://www.udemy.com/beginner-electric-guitar...</td>\n",
       "    </tr>\n",
       "    <tr>\n",
       "      <th>1</th>\n",
       "      <td>https://www.udemy.com/pianoforall-incredible-n...</td>\n",
       "    </tr>\n",
       "    <tr>\n",
       "      <th>2</th>\n",
       "      <td>https://www.udemy.com/getting-started-with-pla...</td>\n",
       "    </tr>\n",
       "    <tr>\n",
       "      <th>3</th>\n",
       "      <td>https://www.udemy.com/complete-guitar-system-b...</td>\n",
       "    </tr>\n",
       "    <tr>\n",
       "      <th>4</th>\n",
       "      <td>https://www.udemy.com/learn-guitar-in-21-days/</td>\n",
       "    </tr>\n",
       "    <tr>\n",
       "      <th>...</th>\n",
       "      <td>...</td>\n",
       "    </tr>\n",
       "    <tr>\n",
       "      <th>675</th>\n",
       "      <td>https://www.udemy.com/learn-to-play-sweet-chil...</td>\n",
       "    </tr>\n",
       "    <tr>\n",
       "      <th>676</th>\n",
       "      <td>https://www.udemy.com/coaching-bundle-rhythm-i...</td>\n",
       "    </tr>\n",
       "    <tr>\n",
       "      <th>677</th>\n",
       "      <td>https://www.udemy.com/learn-pirates-of-the-car...</td>\n",
       "    </tr>\n",
       "    <tr>\n",
       "      <th>678</th>\n",
       "      <td>https://www.udemy.com/learn-to-play-piano-like...</td>\n",
       "    </tr>\n",
       "    <tr>\n",
       "      <th>679</th>\n",
       "      <td>https://www.udemy.com/4-week-rhythm-mastery/</td>\n",
       "    </tr>\n",
       "  </tbody>\n",
       "</table>\n",
       "<p>680 rows × 1 columns</p>\n",
       "</div>"
      ],
      "text/plain": [
       "                                                   url\n",
       "0    https://www.udemy.com/beginner-electric-guitar...\n",
       "1    https://www.udemy.com/pianoforall-incredible-n...\n",
       "2    https://www.udemy.com/getting-started-with-pla...\n",
       "3    https://www.udemy.com/complete-guitar-system-b...\n",
       "4       https://www.udemy.com/learn-guitar-in-21-days/\n",
       "..                                                 ...\n",
       "675  https://www.udemy.com/learn-to-play-sweet-chil...\n",
       "676  https://www.udemy.com/coaching-bundle-rhythm-i...\n",
       "677  https://www.udemy.com/learn-pirates-of-the-car...\n",
       "678  https://www.udemy.com/learn-to-play-piano-like...\n",
       "679       https://www.udemy.com/4-week-rhythm-mastery/\n",
       "\n",
       "[680 rows x 1 columns]"
      ]
     },
     "execution_count": 62,
     "metadata": {},
     "output_type": "execute_result"
    }
   ],
   "source": [
    "df[['url']]"
   ]
  },
  {
   "cell_type": "code",
   "execution_count": 63,
   "id": "b60b90c2",
   "metadata": {},
   "outputs": [
    {
     "data": {
      "text/html": [
       "<div>\n",
       "<style scoped>\n",
       "    .dataframe tbody tr th:only-of-type {\n",
       "        vertical-align: middle;\n",
       "    }\n",
       "\n",
       "    .dataframe tbody tr th {\n",
       "        vertical-align: top;\n",
       "    }\n",
       "\n",
       "    .dataframe thead th {\n",
       "        text-align: right;\n",
       "    }\n",
       "</style>\n",
       "<table border=\"1\" class=\"dataframe\">\n",
       "  <thead>\n",
       "    <tr style=\"text-align: right;\">\n",
       "      <th></th>\n",
       "      <th>course_title</th>\n",
       "    </tr>\n",
       "  </thead>\n",
       "  <tbody>\n",
       "    <tr>\n",
       "      <th>0</th>\n",
       "      <td>Free Beginner Electric Guitar Lessons</td>\n",
       "    </tr>\n",
       "    <tr>\n",
       "      <th>1</th>\n",
       "      <td>Pianoforall - Incredible New Way To Learn Pian...</td>\n",
       "    </tr>\n",
       "    <tr>\n",
       "      <th>2</th>\n",
       "      <td>Getting Started with Playing Guitar</td>\n",
       "    </tr>\n",
       "    <tr>\n",
       "      <th>3</th>\n",
       "      <td>Complete Guitar System - Beginner to Advanced</td>\n",
       "    </tr>\n",
       "    <tr>\n",
       "      <th>4</th>\n",
       "      <td>Learn Guitar in 21 Days</td>\n",
       "    </tr>\n",
       "    <tr>\n",
       "      <th>...</th>\n",
       "      <td>...</td>\n",
       "    </tr>\n",
       "    <tr>\n",
       "      <th>675</th>\n",
       "      <td>Learn to Play Sweet Child of Mine</td>\n",
       "    </tr>\n",
       "    <tr>\n",
       "      <th>676</th>\n",
       "      <td>Coaching Course: Rhythm Instruction for Music ...</td>\n",
       "    </tr>\n",
       "    <tr>\n",
       "      <th>677</th>\n",
       "      <td>Learn Pirates of the Caribbean by Ear on the P...</td>\n",
       "    </tr>\n",
       "    <tr>\n",
       "      <th>678</th>\n",
       "      <td>Learn to Play Piano Like a Pro - Easy Piano Co...</td>\n",
       "    </tr>\n",
       "    <tr>\n",
       "      <th>679</th>\n",
       "      <td>4 Week Rhythm Mastery</td>\n",
       "    </tr>\n",
       "  </tbody>\n",
       "</table>\n",
       "<p>680 rows × 1 columns</p>\n",
       "</div>"
      ],
      "text/plain": [
       "                                          course_title\n",
       "0                Free Beginner Electric Guitar Lessons\n",
       "1    Pianoforall - Incredible New Way To Learn Pian...\n",
       "2                  Getting Started with Playing Guitar\n",
       "3        Complete Guitar System - Beginner to Advanced\n",
       "4                              Learn Guitar in 21 Days\n",
       "..                                                 ...\n",
       "675                  Learn to Play Sweet Child of Mine\n",
       "676  Coaching Course: Rhythm Instruction for Music ...\n",
       "677  Learn Pirates of the Caribbean by Ear on the P...\n",
       "678  Learn to Play Piano Like a Pro - Easy Piano Co...\n",
       "679                              4 Week Rhythm Mastery\n",
       "\n",
       "[680 rows x 1 columns]"
      ]
     },
     "execution_count": 63,
     "metadata": {},
     "output_type": "execute_result"
    }
   ],
   "source": [
    "df[['course_title']]"
   ]
  },
  {
   "cell_type": "code",
   "execution_count": 65,
   "id": "7183466c",
   "metadata": {},
   "outputs": [
    {
     "data": {
      "text/html": [
       "<div>\n",
       "<style scoped>\n",
       "    .dataframe tbody tr th:only-of-type {\n",
       "        vertical-align: middle;\n",
       "    }\n",
       "\n",
       "    .dataframe tbody tr th {\n",
       "        vertical-align: top;\n",
       "    }\n",
       "\n",
       "    .dataframe thead th {\n",
       "        text-align: right;\n",
       "    }\n",
       "</style>\n",
       "<table border=\"1\" class=\"dataframe\">\n",
       "  <thead>\n",
       "    <tr style=\"text-align: right;\">\n",
       "      <th></th>\n",
       "      <th>course_title</th>\n",
       "      <th>price</th>\n",
       "    </tr>\n",
       "  </thead>\n",
       "  <tbody>\n",
       "    <tr>\n",
       "      <th>0</th>\n",
       "      <td>Free Beginner Electric Guitar Lessons</td>\n",
       "      <td>0</td>\n",
       "    </tr>\n",
       "    <tr>\n",
       "      <th>1</th>\n",
       "      <td>Pianoforall - Incredible New Way To Learn Pian...</td>\n",
       "      <td>200</td>\n",
       "    </tr>\n",
       "    <tr>\n",
       "      <th>2</th>\n",
       "      <td>Getting Started with Playing Guitar</td>\n",
       "      <td>0</td>\n",
       "    </tr>\n",
       "    <tr>\n",
       "      <th>3</th>\n",
       "      <td>Complete Guitar System - Beginner to Advanced</td>\n",
       "      <td>145</td>\n",
       "    </tr>\n",
       "    <tr>\n",
       "      <th>4</th>\n",
       "      <td>Learn Guitar in 21 Days</td>\n",
       "      <td>20</td>\n",
       "    </tr>\n",
       "    <tr>\n",
       "      <th>5</th>\n",
       "      <td>The Professional Guitar Masterclass</td>\n",
       "      <td>200</td>\n",
       "    </tr>\n",
       "    <tr>\n",
       "      <th>6</th>\n",
       "      <td>Introduction to Piano - By PGN Piano!</td>\n",
       "      <td>0</td>\n",
       "    </tr>\n",
       "    <tr>\n",
       "      <th>7</th>\n",
       "      <td>Best Beginner Guitar Lessons by Sam Lyons</td>\n",
       "      <td>20</td>\n",
       "    </tr>\n",
       "    <tr>\n",
       "      <th>8</th>\n",
       "      <td>Acoustic Guitar Basics</td>\n",
       "      <td>0</td>\n",
       "    </tr>\n",
       "    <tr>\n",
       "      <th>9</th>\n",
       "      <td>Guitar Super System Level 1</td>\n",
       "      <td>50</td>\n",
       "    </tr>\n",
       "  </tbody>\n",
       "</table>\n",
       "</div>"
      ],
      "text/plain": [
       "                                        course_title  price\n",
       "0              Free Beginner Electric Guitar Lessons      0\n",
       "1  Pianoforall - Incredible New Way To Learn Pian...    200\n",
       "2                Getting Started with Playing Guitar      0\n",
       "3      Complete Guitar System - Beginner to Advanced    145\n",
       "4                            Learn Guitar in 21 Days     20\n",
       "5                The Professional Guitar Masterclass    200\n",
       "6              Introduction to Piano - By PGN Piano!      0\n",
       "7          Best Beginner Guitar Lessons by Sam Lyons     20\n",
       "8                             Acoustic Guitar Basics      0\n",
       "9                        Guitar Super System Level 1     50"
      ]
     },
     "execution_count": 65,
     "metadata": {},
     "output_type": "execute_result"
    }
   ],
   "source": [
    "df[['course_title', 'price']].head(10)"
   ]
  },
  {
   "cell_type": "code",
   "execution_count": 67,
   "id": "1fe29afa",
   "metadata": {},
   "outputs": [
    {
     "data": {
      "text/html": [
       "<div>\n",
       "<style scoped>\n",
       "    .dataframe tbody tr th:only-of-type {\n",
       "        vertical-align: middle;\n",
       "    }\n",
       "\n",
       "    .dataframe tbody tr th {\n",
       "        vertical-align: top;\n",
       "    }\n",
       "\n",
       "    .dataframe thead th {\n",
       "        text-align: right;\n",
       "    }\n",
       "</style>\n",
       "<table border=\"1\" class=\"dataframe\">\n",
       "  <thead>\n",
       "    <tr style=\"text-align: right;\">\n",
       "      <th></th>\n",
       "      <th>url</th>\n",
       "      <th>price</th>\n",
       "      <th>Rating</th>\n",
       "    </tr>\n",
       "  </thead>\n",
       "  <tbody>\n",
       "    <tr>\n",
       "      <th>675</th>\n",
       "      <td>https://www.udemy.com/learn-to-play-sweet-chil...</td>\n",
       "      <td>20</td>\n",
       "      <td>0.31</td>\n",
       "    </tr>\n",
       "    <tr>\n",
       "      <th>676</th>\n",
       "      <td>https://www.udemy.com/coaching-bundle-rhythm-i...</td>\n",
       "      <td>125</td>\n",
       "      <td>0.06</td>\n",
       "    </tr>\n",
       "    <tr>\n",
       "      <th>677</th>\n",
       "      <td>https://www.udemy.com/learn-pirates-of-the-car...</td>\n",
       "      <td>20</td>\n",
       "      <td>0.08</td>\n",
       "    </tr>\n",
       "    <tr>\n",
       "      <th>678</th>\n",
       "      <td>https://www.udemy.com/learn-to-play-piano-like...</td>\n",
       "      <td>35</td>\n",
       "      <td>0.78</td>\n",
       "    </tr>\n",
       "    <tr>\n",
       "      <th>679</th>\n",
       "      <td>https://www.udemy.com/4-week-rhythm-mastery/</td>\n",
       "      <td>20</td>\n",
       "      <td>0.01</td>\n",
       "    </tr>\n",
       "  </tbody>\n",
       "</table>\n",
       "</div>"
      ],
      "text/plain": [
       "                                                   url  price  Rating\n",
       "675  https://www.udemy.com/learn-to-play-sweet-chil...     20    0.31\n",
       "676  https://www.udemy.com/coaching-bundle-rhythm-i...    125    0.06\n",
       "677  https://www.udemy.com/learn-pirates-of-the-car...     20    0.08\n",
       "678  https://www.udemy.com/learn-to-play-piano-like...     35    0.78\n",
       "679       https://www.udemy.com/4-week-rhythm-mastery/     20    0.01"
      ]
     },
     "execution_count": 67,
     "metadata": {},
     "output_type": "execute_result"
    }
   ],
   "source": [
    "df[['url', 'price', 'Rating']].tail() "
   ]
  },
  {
   "cell_type": "code",
   "execution_count": 68,
   "id": "e1234cbd",
   "metadata": {},
   "outputs": [
    {
     "data": {
      "text/html": [
       "<div>\n",
       "<style scoped>\n",
       "    .dataframe tbody tr th:only-of-type {\n",
       "        vertical-align: middle;\n",
       "    }\n",
       "\n",
       "    .dataframe tbody tr th {\n",
       "        vertical-align: top;\n",
       "    }\n",
       "\n",
       "    .dataframe thead th {\n",
       "        text-align: right;\n",
       "    }\n",
       "</style>\n",
       "<table border=\"1\" class=\"dataframe\">\n",
       "  <thead>\n",
       "    <tr style=\"text-align: right;\">\n",
       "      <th></th>\n",
       "      <th>course_id</th>\n",
       "      <th>course_title</th>\n",
       "      <th>url</th>\n",
       "      <th>price</th>\n",
       "      <th>num_subscribers</th>\n",
       "      <th>num_reviews</th>\n",
       "      <th>num_lectures</th>\n",
       "      <th>level</th>\n",
       "      <th>Rating</th>\n",
       "      <th>content_duration</th>\n",
       "      <th>published_timestamp</th>\n",
       "      <th>subject</th>\n",
       "    </tr>\n",
       "  </thead>\n",
       "  <tbody>\n",
       "    <tr>\n",
       "      <th>0</th>\n",
       "      <td>19421</td>\n",
       "      <td>Free Beginner Electric Guitar Lessons</td>\n",
       "      <td>https://www.udemy.com/beginner-electric-guitar...</td>\n",
       "      <td>0</td>\n",
       "      <td>101154</td>\n",
       "      <td>1042</td>\n",
       "      <td>95</td>\n",
       "      <td>All Levels</td>\n",
       "      <td>0.88</td>\n",
       "      <td>4.500000</td>\n",
       "      <td>2012-06-15T17:00:33Z</td>\n",
       "      <td>Musical Instruments</td>\n",
       "    </tr>\n",
       "    <tr>\n",
       "      <th>1</th>\n",
       "      <td>238934</td>\n",
       "      <td>Pianoforall - Incredible New Way To Learn Pian...</td>\n",
       "      <td>https://www.udemy.com/pianoforall-incredible-n...</td>\n",
       "      <td>200</td>\n",
       "      <td>75499</td>\n",
       "      <td>7676</td>\n",
       "      <td>362</td>\n",
       "      <td>Beginner Level</td>\n",
       "      <td>0.96</td>\n",
       "      <td>30.000000</td>\n",
       "      <td>2014-08-07T06:27:51Z</td>\n",
       "      <td>Musical Instruments</td>\n",
       "    </tr>\n",
       "    <tr>\n",
       "      <th>2</th>\n",
       "      <td>41884</td>\n",
       "      <td>Getting Started with Playing Guitar</td>\n",
       "      <td>https://www.udemy.com/getting-started-with-pla...</td>\n",
       "      <td>0</td>\n",
       "      <td>47652</td>\n",
       "      <td>1141</td>\n",
       "      <td>26</td>\n",
       "      <td>All Levels</td>\n",
       "      <td>0.68</td>\n",
       "      <td>4.000000</td>\n",
       "      <td>2013-05-29T15:28:07Z</td>\n",
       "      <td>Musical Instruments</td>\n",
       "    </tr>\n",
       "    <tr>\n",
       "      <th>3</th>\n",
       "      <td>42271</td>\n",
       "      <td>Complete Guitar System - Beginner to Advanced</td>\n",
       "      <td>https://www.udemy.com/complete-guitar-system-b...</td>\n",
       "      <td>145</td>\n",
       "      <td>32935</td>\n",
       "      <td>2713</td>\n",
       "      <td>310</td>\n",
       "      <td>All Levels</td>\n",
       "      <td>0.65</td>\n",
       "      <td>34.000000</td>\n",
       "      <td>2013-05-29T15:24:47Z</td>\n",
       "      <td>Musical Instruments</td>\n",
       "    </tr>\n",
       "    <tr>\n",
       "      <th>4</th>\n",
       "      <td>26956</td>\n",
       "      <td>Learn Guitar in 21 Days</td>\n",
       "      <td>https://www.udemy.com/learn-guitar-in-21-days/</td>\n",
       "      <td>20</td>\n",
       "      <td>26504</td>\n",
       "      <td>192</td>\n",
       "      <td>82</td>\n",
       "      <td>All Levels</td>\n",
       "      <td>0.41</td>\n",
       "      <td>2.500000</td>\n",
       "      <td>2012-10-21T20:36:50Z</td>\n",
       "      <td>Musical Instruments</td>\n",
       "    </tr>\n",
       "    <tr>\n",
       "      <th>...</th>\n",
       "      <td>...</td>\n",
       "      <td>...</td>\n",
       "      <td>...</td>\n",
       "      <td>...</td>\n",
       "      <td>...</td>\n",
       "      <td>...</td>\n",
       "      <td>...</td>\n",
       "      <td>...</td>\n",
       "      <td>...</td>\n",
       "      <td>...</td>\n",
       "      <td>...</td>\n",
       "      <td>...</td>\n",
       "    </tr>\n",
       "    <tr>\n",
       "      <th>675</th>\n",
       "      <td>1216340</td>\n",
       "      <td>Learn to Play Sweet Child of Mine</td>\n",
       "      <td>https://www.udemy.com/learn-to-play-sweet-chil...</td>\n",
       "      <td>20</td>\n",
       "      <td>0</td>\n",
       "      <td>0</td>\n",
       "      <td>23</td>\n",
       "      <td>All Levels</td>\n",
       "      <td>0.31</td>\n",
       "      <td>1.500000</td>\n",
       "      <td>2017-06-30T17:33:29Z</td>\n",
       "      <td>Musical Instruments</td>\n",
       "    </tr>\n",
       "    <tr>\n",
       "      <th>676</th>\n",
       "      <td>1026762</td>\n",
       "      <td>Coaching Course: Rhythm Instruction for Music ...</td>\n",
       "      <td>https://www.udemy.com/coaching-bundle-rhythm-i...</td>\n",
       "      <td>125</td>\n",
       "      <td>0</td>\n",
       "      <td>0</td>\n",
       "      <td>7</td>\n",
       "      <td>Beginner Level</td>\n",
       "      <td>0.06</td>\n",
       "      <td>0.633333</td>\n",
       "      <td>2017-03-10T17:06:46Z</td>\n",
       "      <td>Musical Instruments</td>\n",
       "    </tr>\n",
       "    <tr>\n",
       "      <th>677</th>\n",
       "      <td>1223240</td>\n",
       "      <td>Learn Pirates of the Caribbean by Ear on the P...</td>\n",
       "      <td>https://www.udemy.com/learn-pirates-of-the-car...</td>\n",
       "      <td>20</td>\n",
       "      <td>0</td>\n",
       "      <td>0</td>\n",
       "      <td>6</td>\n",
       "      <td>All Levels</td>\n",
       "      <td>0.08</td>\n",
       "      <td>0.533333</td>\n",
       "      <td>2017-05-22T17:14:43Z</td>\n",
       "      <td>Musical Instruments</td>\n",
       "    </tr>\n",
       "    <tr>\n",
       "      <th>678</th>\n",
       "      <td>1224186</td>\n",
       "      <td>Learn to Play Piano Like a Pro - Easy Piano Co...</td>\n",
       "      <td>https://www.udemy.com/learn-to-play-piano-like...</td>\n",
       "      <td>35</td>\n",
       "      <td>0</td>\n",
       "      <td>0</td>\n",
       "      <td>13</td>\n",
       "      <td>Beginner Level</td>\n",
       "      <td>0.78</td>\n",
       "      <td>0.516667</td>\n",
       "      <td>2017-05-30T00:19:02Z</td>\n",
       "      <td>Musical Instruments</td>\n",
       "    </tr>\n",
       "    <tr>\n",
       "      <th>679</th>\n",
       "      <td>1234656</td>\n",
       "      <td>4 Week Rhythm Mastery</td>\n",
       "      <td>https://www.udemy.com/4-week-rhythm-mastery/</td>\n",
       "      <td>20</td>\n",
       "      <td>0</td>\n",
       "      <td>0</td>\n",
       "      <td>28</td>\n",
       "      <td>All Levels</td>\n",
       "      <td>0.01</td>\n",
       "      <td>2.500000</td>\n",
       "      <td>2017-07-05T16:07:44Z</td>\n",
       "      <td>Musical Instruments</td>\n",
       "    </tr>\n",
       "  </tbody>\n",
       "</table>\n",
       "<p>680 rows × 12 columns</p>\n",
       "</div>"
      ],
      "text/plain": [
       "     course_id                                       course_title  \\\n",
       "0        19421              Free Beginner Electric Guitar Lessons   \n",
       "1       238934  Pianoforall - Incredible New Way To Learn Pian...   \n",
       "2        41884                Getting Started with Playing Guitar   \n",
       "3        42271      Complete Guitar System - Beginner to Advanced   \n",
       "4        26956                            Learn Guitar in 21 Days   \n",
       "..         ...                                                ...   \n",
       "675    1216340                  Learn to Play Sweet Child of Mine   \n",
       "676    1026762  Coaching Course: Rhythm Instruction for Music ...   \n",
       "677    1223240  Learn Pirates of the Caribbean by Ear on the P...   \n",
       "678    1224186  Learn to Play Piano Like a Pro - Easy Piano Co...   \n",
       "679    1234656                              4 Week Rhythm Mastery   \n",
       "\n",
       "                                                   url  price  \\\n",
       "0    https://www.udemy.com/beginner-electric-guitar...      0   \n",
       "1    https://www.udemy.com/pianoforall-incredible-n...    200   \n",
       "2    https://www.udemy.com/getting-started-with-pla...      0   \n",
       "3    https://www.udemy.com/complete-guitar-system-b...    145   \n",
       "4       https://www.udemy.com/learn-guitar-in-21-days/     20   \n",
       "..                                                 ...    ...   \n",
       "675  https://www.udemy.com/learn-to-play-sweet-chil...     20   \n",
       "676  https://www.udemy.com/coaching-bundle-rhythm-i...    125   \n",
       "677  https://www.udemy.com/learn-pirates-of-the-car...     20   \n",
       "678  https://www.udemy.com/learn-to-play-piano-like...     35   \n",
       "679       https://www.udemy.com/4-week-rhythm-mastery/     20   \n",
       "\n",
       "     num_subscribers  num_reviews  num_lectures           level  Rating  \\\n",
       "0             101154         1042            95      All Levels    0.88   \n",
       "1              75499         7676           362  Beginner Level    0.96   \n",
       "2              47652         1141            26      All Levels    0.68   \n",
       "3              32935         2713           310      All Levels    0.65   \n",
       "4              26504          192            82      All Levels    0.41   \n",
       "..               ...          ...           ...             ...     ...   \n",
       "675                0            0            23      All Levels    0.31   \n",
       "676                0            0             7  Beginner Level    0.06   \n",
       "677                0            0             6      All Levels    0.08   \n",
       "678                0            0            13  Beginner Level    0.78   \n",
       "679                0            0            28      All Levels    0.01   \n",
       "\n",
       "     content_duration   published_timestamp              subject  \n",
       "0            4.500000  2012-06-15T17:00:33Z  Musical Instruments  \n",
       "1           30.000000  2014-08-07T06:27:51Z  Musical Instruments  \n",
       "2            4.000000  2013-05-29T15:28:07Z  Musical Instruments  \n",
       "3           34.000000  2013-05-29T15:24:47Z  Musical Instruments  \n",
       "4            2.500000  2012-10-21T20:36:50Z  Musical Instruments  \n",
       "..                ...                   ...                  ...  \n",
       "675          1.500000  2017-06-30T17:33:29Z  Musical Instruments  \n",
       "676          0.633333  2017-03-10T17:06:46Z  Musical Instruments  \n",
       "677          0.533333  2017-05-22T17:14:43Z  Musical Instruments  \n",
       "678          0.516667  2017-05-30T00:19:02Z  Musical Instruments  \n",
       "679          2.500000  2017-07-05T16:07:44Z  Musical Instruments  \n",
       "\n",
       "[680 rows x 12 columns]"
      ]
     },
     "execution_count": 68,
     "metadata": {},
     "output_type": "execute_result"
    }
   ],
   "source": [
    "# Label Selection\n",
    "\n",
    "df"
   ]
  },
  {
   "cell_type": "code",
   "execution_count": 72,
   "id": "f89582d8",
   "metadata": {},
   "outputs": [
    {
     "data": {
      "text/html": [
       "<div>\n",
       "<style scoped>\n",
       "    .dataframe tbody tr th:only-of-type {\n",
       "        vertical-align: middle;\n",
       "    }\n",
       "\n",
       "    .dataframe tbody tr th {\n",
       "        vertical-align: top;\n",
       "    }\n",
       "\n",
       "    .dataframe thead th {\n",
       "        text-align: right;\n",
       "    }\n",
       "</style>\n",
       "<table border=\"1\" class=\"dataframe\">\n",
       "  <thead>\n",
       "    <tr style=\"text-align: right;\">\n",
       "      <th></th>\n",
       "      <th>course_title</th>\n",
       "    </tr>\n",
       "  </thead>\n",
       "  <tbody>\n",
       "    <tr>\n",
       "      <th>20</th>\n",
       "      <td>Acoustic Fingerstyle Guitar Course: Beginner t...</td>\n",
       "    </tr>\n",
       "    <tr>\n",
       "      <th>21</th>\n",
       "      <td>PI-101 Top 10 Classical Piano Pieces for Begin...</td>\n",
       "    </tr>\n",
       "    <tr>\n",
       "      <th>22</th>\n",
       "      <td>How to play 'Electric Guitar\",https://www.udem...</td>\n",
       "    </tr>\n",
       "    <tr>\n",
       "      <th>23</th>\n",
       "      <td>Virtual Piano Lessons - A New Way To Learn Piano</td>\n",
       "    </tr>\n",
       "    <tr>\n",
       "      <th>24</th>\n",
       "      <td>Guitar Crash Course (No Experience Necessary)</td>\n",
       "    </tr>\n",
       "    <tr>\n",
       "      <th>25</th>\n",
       "      <td>Beginner Violin 101: Care, Maintenance, and th...</td>\n",
       "    </tr>\n",
       "    <tr>\n",
       "      <th>26</th>\n",
       "      <td>How to play Piano - Go from a Beginner/Interme...</td>\n",
       "    </tr>\n",
       "    <tr>\n",
       "      <th>27</th>\n",
       "      <td>Learn to Read &amp; Write Music to play Piano &amp; mo...</td>\n",
       "    </tr>\n",
       "    <tr>\n",
       "      <th>28</th>\n",
       "      <td>Play Piano in 30 Days! - Start Playing NOW!</td>\n",
       "    </tr>\n",
       "    <tr>\n",
       "      <th>29</th>\n",
       "      <td>The Complete Piano Course - Master The Piano</td>\n",
       "    </tr>\n",
       "    <tr>\n",
       "      <th>30</th>\n",
       "      <td>Piano Music Theory (Back To Basics) by JFilt</td>\n",
       "    </tr>\n",
       "  </tbody>\n",
       "</table>\n",
       "</div>"
      ],
      "text/plain": [
       "                                         course_title\n",
       "20  Acoustic Fingerstyle Guitar Course: Beginner t...\n",
       "21  PI-101 Top 10 Classical Piano Pieces for Begin...\n",
       "22  How to play 'Electric Guitar\",https://www.udem...\n",
       "23   Virtual Piano Lessons - A New Way To Learn Piano\n",
       "24      Guitar Crash Course (No Experience Necessary)\n",
       "25  Beginner Violin 101: Care, Maintenance, and th...\n",
       "26  How to play Piano - Go from a Beginner/Interme...\n",
       "27  Learn to Read & Write Music to play Piano & mo...\n",
       "28        Play Piano in 30 Days! - Start Playing NOW!\n",
       "29       The Complete Piano Course - Master The Piano\n",
       "30       Piano Music Theory (Back To Basics) by JFilt"
      ]
     },
     "execution_count": 72,
     "metadata": {},
     "output_type": "execute_result"
    }
   ],
   "source": [
    "df.loc[20:30, ['course_title']]"
   ]
  },
  {
   "cell_type": "code",
   "execution_count": 73,
   "id": "0aeefd0b",
   "metadata": {},
   "outputs": [
    {
     "data": {
      "text/html": [
       "<div>\n",
       "<style scoped>\n",
       "    .dataframe tbody tr th:only-of-type {\n",
       "        vertical-align: middle;\n",
       "    }\n",
       "\n",
       "    .dataframe tbody tr th {\n",
       "        vertical-align: top;\n",
       "    }\n",
       "\n",
       "    .dataframe thead th {\n",
       "        text-align: right;\n",
       "    }\n",
       "</style>\n",
       "<table border=\"1\" class=\"dataframe\">\n",
       "  <thead>\n",
       "    <tr style=\"text-align: right;\">\n",
       "      <th></th>\n",
       "      <th>course_id</th>\n",
       "      <th>course_title</th>\n",
       "      <th>url</th>\n",
       "      <th>price</th>\n",
       "    </tr>\n",
       "  </thead>\n",
       "  <tbody>\n",
       "    <tr>\n",
       "      <th>20</th>\n",
       "      <td>517148</td>\n",
       "      <td>Acoustic Fingerstyle Guitar Course: Beginner t...</td>\n",
       "      <td>https://www.udemy.com/acoustic-fingerstyle-gui...</td>\n",
       "      <td>200</td>\n",
       "    </tr>\n",
       "    <tr>\n",
       "      <th>21</th>\n",
       "      <td>824044</td>\n",
       "      <td>PI-101 Top 10 Classical Piano Pieces for Begin...</td>\n",
       "      <td>https://www.udemy.com/pi-101-piano/</td>\n",
       "      <td>0</td>\n",
       "    </tr>\n",
       "    <tr>\n",
       "      <th>22</th>\n",
       "      <td>1052180</td>\n",
       "      <td>How to play 'Electric Guitar\",https://www.udem...</td>\n",
       "      <td>https://www.udemy.com/learnpianotoday/</td>\n",
       "      <td>100</td>\n",
       "    </tr>\n",
       "    <tr>\n",
       "      <th>23</th>\n",
       "      <td>65033</td>\n",
       "      <td>Virtual Piano Lessons - A New Way To Learn Piano</td>\n",
       "      <td>https://www.udemy.com/virtual-piano-lessons-a-...</td>\n",
       "      <td>50</td>\n",
       "    </tr>\n",
       "    <tr>\n",
       "      <th>24</th>\n",
       "      <td>315576</td>\n",
       "      <td>Guitar Crash Course (No Experience Necessary)</td>\n",
       "      <td>https://www.udemy.com/hub-guitar-crash-course/</td>\n",
       "      <td>0</td>\n",
       "    </tr>\n",
       "    <tr>\n",
       "      <th>25</th>\n",
       "      <td>364716</td>\n",
       "      <td>Beginner Violin 101: Care, Maintenance, and th...</td>\n",
       "      <td>https://www.udemy.com/beginner-violin-101-care...</td>\n",
       "      <td>0</td>\n",
       "    </tr>\n",
       "    <tr>\n",
       "      <th>26</th>\n",
       "      <td>967380</td>\n",
       "      <td>How to play Piano - Go from a Beginner/Interme...</td>\n",
       "      <td>https://www.udemy.com/how-to-play-piano-go-fro...</td>\n",
       "      <td>200</td>\n",
       "    </tr>\n",
       "    <tr>\n",
       "      <th>27</th>\n",
       "      <td>1032864</td>\n",
       "      <td>Learn to Read &amp; Write Music to play Piano &amp; mo...</td>\n",
       "      <td>https://www.udemy.com/the-complete-guide-to-ho...</td>\n",
       "      <td>115</td>\n",
       "    </tr>\n",
       "    <tr>\n",
       "      <th>28</th>\n",
       "      <td>555340</td>\n",
       "      <td>Play Piano in 30 Days! - Start Playing NOW!</td>\n",
       "      <td>https://www.udemy.com/flyingstart/</td>\n",
       "      <td>0</td>\n",
       "    </tr>\n",
       "    <tr>\n",
       "      <th>29</th>\n",
       "      <td>574974</td>\n",
       "      <td>The Complete Piano Course - Master The Piano</td>\n",
       "      <td>https://www.udemy.com/the-complete-piano-course/</td>\n",
       "      <td>95</td>\n",
       "    </tr>\n",
       "    <tr>\n",
       "      <th>30</th>\n",
       "      <td>1105794</td>\n",
       "      <td>Piano Music Theory (Back To Basics) by JFilt</td>\n",
       "      <td>https://www.udemy.com/piano-music-theory-back-...</td>\n",
       "      <td>0</td>\n",
       "    </tr>\n",
       "  </tbody>\n",
       "</table>\n",
       "</div>"
      ],
      "text/plain": [
       "    course_id                                       course_title  \\\n",
       "20     517148  Acoustic Fingerstyle Guitar Course: Beginner t...   \n",
       "21     824044  PI-101 Top 10 Classical Piano Pieces for Begin...   \n",
       "22    1052180  How to play 'Electric Guitar\",https://www.udem...   \n",
       "23      65033   Virtual Piano Lessons - A New Way To Learn Piano   \n",
       "24     315576      Guitar Crash Course (No Experience Necessary)   \n",
       "25     364716  Beginner Violin 101: Care, Maintenance, and th...   \n",
       "26     967380  How to play Piano - Go from a Beginner/Interme...   \n",
       "27    1032864  Learn to Read & Write Music to play Piano & mo...   \n",
       "28     555340        Play Piano in 30 Days! - Start Playing NOW!   \n",
       "29     574974       The Complete Piano Course - Master The Piano   \n",
       "30    1105794       Piano Music Theory (Back To Basics) by JFilt   \n",
       "\n",
       "                                                  url  price  \n",
       "20  https://www.udemy.com/acoustic-fingerstyle-gui...    200  \n",
       "21                https://www.udemy.com/pi-101-piano/      0  \n",
       "22             https://www.udemy.com/learnpianotoday/    100  \n",
       "23  https://www.udemy.com/virtual-piano-lessons-a-...     50  \n",
       "24     https://www.udemy.com/hub-guitar-crash-course/      0  \n",
       "25  https://www.udemy.com/beginner-violin-101-care...      0  \n",
       "26  https://www.udemy.com/how-to-play-piano-go-fro...    200  \n",
       "27  https://www.udemy.com/the-complete-guide-to-ho...    115  \n",
       "28                 https://www.udemy.com/flyingstart/      0  \n",
       "29   https://www.udemy.com/the-complete-piano-course/     95  \n",
       "30  https://www.udemy.com/piano-music-theory-back-...      0  "
      ]
     },
     "execution_count": 73,
     "metadata": {},
     "output_type": "execute_result"
    }
   ],
   "source": [
    "df.loc[20:30, 'course_id':'price']"
   ]
  },
  {
   "cell_type": "code",
   "execution_count": 74,
   "id": "8d23bafd",
   "metadata": {},
   "outputs": [
    {
     "data": {
      "text/html": [
       "<div>\n",
       "<style scoped>\n",
       "    .dataframe tbody tr th:only-of-type {\n",
       "        vertical-align: middle;\n",
       "    }\n",
       "\n",
       "    .dataframe tbody tr th {\n",
       "        vertical-align: top;\n",
       "    }\n",
       "\n",
       "    .dataframe thead th {\n",
       "        text-align: right;\n",
       "    }\n",
       "</style>\n",
       "<table border=\"1\" class=\"dataframe\">\n",
       "  <thead>\n",
       "    <tr style=\"text-align: right;\">\n",
       "      <th></th>\n",
       "      <th>course_id</th>\n",
       "      <th>course_title</th>\n",
       "      <th>url</th>\n",
       "      <th>price</th>\n",
       "      <th>num_subscribers</th>\n",
       "      <th>num_reviews</th>\n",
       "      <th>num_lectures</th>\n",
       "      <th>level</th>\n",
       "      <th>Rating</th>\n",
       "      <th>content_duration</th>\n",
       "      <th>published_timestamp</th>\n",
       "      <th>subject</th>\n",
       "    </tr>\n",
       "  </thead>\n",
       "  <tbody>\n",
       "    <tr>\n",
       "      <th>0</th>\n",
       "      <td>19421</td>\n",
       "      <td>Free Beginner Electric Guitar Lessons</td>\n",
       "      <td>https://www.udemy.com/beginner-electric-guitar...</td>\n",
       "      <td>0</td>\n",
       "      <td>101154</td>\n",
       "      <td>1042</td>\n",
       "      <td>95</td>\n",
       "      <td>All Levels</td>\n",
       "      <td>0.88</td>\n",
       "      <td>4.500000</td>\n",
       "      <td>2012-06-15T17:00:33Z</td>\n",
       "      <td>Musical Instruments</td>\n",
       "    </tr>\n",
       "    <tr>\n",
       "      <th>1</th>\n",
       "      <td>238934</td>\n",
       "      <td>Pianoforall - Incredible New Way To Learn Pian...</td>\n",
       "      <td>https://www.udemy.com/pianoforall-incredible-n...</td>\n",
       "      <td>200</td>\n",
       "      <td>75499</td>\n",
       "      <td>7676</td>\n",
       "      <td>362</td>\n",
       "      <td>Beginner Level</td>\n",
       "      <td>0.96</td>\n",
       "      <td>30.000000</td>\n",
       "      <td>2014-08-07T06:27:51Z</td>\n",
       "      <td>Musical Instruments</td>\n",
       "    </tr>\n",
       "    <tr>\n",
       "      <th>2</th>\n",
       "      <td>41884</td>\n",
       "      <td>Getting Started with Playing Guitar</td>\n",
       "      <td>https://www.udemy.com/getting-started-with-pla...</td>\n",
       "      <td>0</td>\n",
       "      <td>47652</td>\n",
       "      <td>1141</td>\n",
       "      <td>26</td>\n",
       "      <td>All Levels</td>\n",
       "      <td>0.68</td>\n",
       "      <td>4.000000</td>\n",
       "      <td>2013-05-29T15:28:07Z</td>\n",
       "      <td>Musical Instruments</td>\n",
       "    </tr>\n",
       "    <tr>\n",
       "      <th>3</th>\n",
       "      <td>42271</td>\n",
       "      <td>Complete Guitar System - Beginner to Advanced</td>\n",
       "      <td>https://www.udemy.com/complete-guitar-system-b...</td>\n",
       "      <td>145</td>\n",
       "      <td>32935</td>\n",
       "      <td>2713</td>\n",
       "      <td>310</td>\n",
       "      <td>All Levels</td>\n",
       "      <td>0.65</td>\n",
       "      <td>34.000000</td>\n",
       "      <td>2013-05-29T15:24:47Z</td>\n",
       "      <td>Musical Instruments</td>\n",
       "    </tr>\n",
       "    <tr>\n",
       "      <th>4</th>\n",
       "      <td>26956</td>\n",
       "      <td>Learn Guitar in 21 Days</td>\n",
       "      <td>https://www.udemy.com/learn-guitar-in-21-days/</td>\n",
       "      <td>20</td>\n",
       "      <td>26504</td>\n",
       "      <td>192</td>\n",
       "      <td>82</td>\n",
       "      <td>All Levels</td>\n",
       "      <td>0.41</td>\n",
       "      <td>2.500000</td>\n",
       "      <td>2012-10-21T20:36:50Z</td>\n",
       "      <td>Musical Instruments</td>\n",
       "    </tr>\n",
       "    <tr>\n",
       "      <th>...</th>\n",
       "      <td>...</td>\n",
       "      <td>...</td>\n",
       "      <td>...</td>\n",
       "      <td>...</td>\n",
       "      <td>...</td>\n",
       "      <td>...</td>\n",
       "      <td>...</td>\n",
       "      <td>...</td>\n",
       "      <td>...</td>\n",
       "      <td>...</td>\n",
       "      <td>...</td>\n",
       "      <td>...</td>\n",
       "    </tr>\n",
       "    <tr>\n",
       "      <th>675</th>\n",
       "      <td>1216340</td>\n",
       "      <td>Learn to Play Sweet Child of Mine</td>\n",
       "      <td>https://www.udemy.com/learn-to-play-sweet-chil...</td>\n",
       "      <td>20</td>\n",
       "      <td>0</td>\n",
       "      <td>0</td>\n",
       "      <td>23</td>\n",
       "      <td>All Levels</td>\n",
       "      <td>0.31</td>\n",
       "      <td>1.500000</td>\n",
       "      <td>2017-06-30T17:33:29Z</td>\n",
       "      <td>Musical Instruments</td>\n",
       "    </tr>\n",
       "    <tr>\n",
       "      <th>676</th>\n",
       "      <td>1026762</td>\n",
       "      <td>Coaching Course: Rhythm Instruction for Music ...</td>\n",
       "      <td>https://www.udemy.com/coaching-bundle-rhythm-i...</td>\n",
       "      <td>125</td>\n",
       "      <td>0</td>\n",
       "      <td>0</td>\n",
       "      <td>7</td>\n",
       "      <td>Beginner Level</td>\n",
       "      <td>0.06</td>\n",
       "      <td>0.633333</td>\n",
       "      <td>2017-03-10T17:06:46Z</td>\n",
       "      <td>Musical Instruments</td>\n",
       "    </tr>\n",
       "    <tr>\n",
       "      <th>677</th>\n",
       "      <td>1223240</td>\n",
       "      <td>Learn Pirates of the Caribbean by Ear on the P...</td>\n",
       "      <td>https://www.udemy.com/learn-pirates-of-the-car...</td>\n",
       "      <td>20</td>\n",
       "      <td>0</td>\n",
       "      <td>0</td>\n",
       "      <td>6</td>\n",
       "      <td>All Levels</td>\n",
       "      <td>0.08</td>\n",
       "      <td>0.533333</td>\n",
       "      <td>2017-05-22T17:14:43Z</td>\n",
       "      <td>Musical Instruments</td>\n",
       "    </tr>\n",
       "    <tr>\n",
       "      <th>678</th>\n",
       "      <td>1224186</td>\n",
       "      <td>Learn to Play Piano Like a Pro - Easy Piano Co...</td>\n",
       "      <td>https://www.udemy.com/learn-to-play-piano-like...</td>\n",
       "      <td>35</td>\n",
       "      <td>0</td>\n",
       "      <td>0</td>\n",
       "      <td>13</td>\n",
       "      <td>Beginner Level</td>\n",
       "      <td>0.78</td>\n",
       "      <td>0.516667</td>\n",
       "      <td>2017-05-30T00:19:02Z</td>\n",
       "      <td>Musical Instruments</td>\n",
       "    </tr>\n",
       "    <tr>\n",
       "      <th>679</th>\n",
       "      <td>1234656</td>\n",
       "      <td>4 Week Rhythm Mastery</td>\n",
       "      <td>https://www.udemy.com/4-week-rhythm-mastery/</td>\n",
       "      <td>20</td>\n",
       "      <td>0</td>\n",
       "      <td>0</td>\n",
       "      <td>28</td>\n",
       "      <td>All Levels</td>\n",
       "      <td>0.01</td>\n",
       "      <td>2.500000</td>\n",
       "      <td>2017-07-05T16:07:44Z</td>\n",
       "      <td>Musical Instruments</td>\n",
       "    </tr>\n",
       "  </tbody>\n",
       "</table>\n",
       "<p>680 rows × 12 columns</p>\n",
       "</div>"
      ],
      "text/plain": [
       "     course_id                                       course_title  \\\n",
       "0        19421              Free Beginner Electric Guitar Lessons   \n",
       "1       238934  Pianoforall - Incredible New Way To Learn Pian...   \n",
       "2        41884                Getting Started with Playing Guitar   \n",
       "3        42271      Complete Guitar System - Beginner to Advanced   \n",
       "4        26956                            Learn Guitar in 21 Days   \n",
       "..         ...                                                ...   \n",
       "675    1216340                  Learn to Play Sweet Child of Mine   \n",
       "676    1026762  Coaching Course: Rhythm Instruction for Music ...   \n",
       "677    1223240  Learn Pirates of the Caribbean by Ear on the P...   \n",
       "678    1224186  Learn to Play Piano Like a Pro - Easy Piano Co...   \n",
       "679    1234656                              4 Week Rhythm Mastery   \n",
       "\n",
       "                                                   url  price  \\\n",
       "0    https://www.udemy.com/beginner-electric-guitar...      0   \n",
       "1    https://www.udemy.com/pianoforall-incredible-n...    200   \n",
       "2    https://www.udemy.com/getting-started-with-pla...      0   \n",
       "3    https://www.udemy.com/complete-guitar-system-b...    145   \n",
       "4       https://www.udemy.com/learn-guitar-in-21-days/     20   \n",
       "..                                                 ...    ...   \n",
       "675  https://www.udemy.com/learn-to-play-sweet-chil...     20   \n",
       "676  https://www.udemy.com/coaching-bundle-rhythm-i...    125   \n",
       "677  https://www.udemy.com/learn-pirates-of-the-car...     20   \n",
       "678  https://www.udemy.com/learn-to-play-piano-like...     35   \n",
       "679       https://www.udemy.com/4-week-rhythm-mastery/     20   \n",
       "\n",
       "     num_subscribers  num_reviews  num_lectures           level  Rating  \\\n",
       "0             101154         1042            95      All Levels    0.88   \n",
       "1              75499         7676           362  Beginner Level    0.96   \n",
       "2              47652         1141            26      All Levels    0.68   \n",
       "3              32935         2713           310      All Levels    0.65   \n",
       "4              26504          192            82      All Levels    0.41   \n",
       "..               ...          ...           ...             ...     ...   \n",
       "675                0            0            23      All Levels    0.31   \n",
       "676                0            0             7  Beginner Level    0.06   \n",
       "677                0            0             6      All Levels    0.08   \n",
       "678                0            0            13  Beginner Level    0.78   \n",
       "679                0            0            28      All Levels    0.01   \n",
       "\n",
       "     content_duration   published_timestamp              subject  \n",
       "0            4.500000  2012-06-15T17:00:33Z  Musical Instruments  \n",
       "1           30.000000  2014-08-07T06:27:51Z  Musical Instruments  \n",
       "2            4.000000  2013-05-29T15:28:07Z  Musical Instruments  \n",
       "3           34.000000  2013-05-29T15:24:47Z  Musical Instruments  \n",
       "4            2.500000  2012-10-21T20:36:50Z  Musical Instruments  \n",
       "..                ...                   ...                  ...  \n",
       "675          1.500000  2017-06-30T17:33:29Z  Musical Instruments  \n",
       "676          0.633333  2017-03-10T17:06:46Z  Musical Instruments  \n",
       "677          0.533333  2017-05-22T17:14:43Z  Musical Instruments  \n",
       "678          0.516667  2017-05-30T00:19:02Z  Musical Instruments  \n",
       "679          2.500000  2017-07-05T16:07:44Z  Musical Instruments  \n",
       "\n",
       "[680 rows x 12 columns]"
      ]
     },
     "execution_count": 74,
     "metadata": {},
     "output_type": "execute_result"
    }
   ],
   "source": [
    "# iloc - integer labeled\n",
    "\n",
    "df"
   ]
  },
  {
   "cell_type": "code",
   "execution_count": 75,
   "id": "aaad7bce",
   "metadata": {},
   "outputs": [
    {
     "data": {
      "text/html": [
       "<div>\n",
       "<style scoped>\n",
       "    .dataframe tbody tr th:only-of-type {\n",
       "        vertical-align: middle;\n",
       "    }\n",
       "\n",
       "    .dataframe tbody tr th {\n",
       "        vertical-align: top;\n",
       "    }\n",
       "\n",
       "    .dataframe thead th {\n",
       "        text-align: right;\n",
       "    }\n",
       "</style>\n",
       "<table border=\"1\" class=\"dataframe\">\n",
       "  <thead>\n",
       "    <tr style=\"text-align: right;\">\n",
       "      <th></th>\n",
       "      <th>course_id</th>\n",
       "      <th>course_title</th>\n",
       "    </tr>\n",
       "  </thead>\n",
       "  <tbody>\n",
       "    <tr>\n",
       "      <th>0</th>\n",
       "      <td>19421</td>\n",
       "      <td>Free Beginner Electric Guitar Lessons</td>\n",
       "    </tr>\n",
       "    <tr>\n",
       "      <th>1</th>\n",
       "      <td>238934</td>\n",
       "      <td>Pianoforall - Incredible New Way To Learn Pian...</td>\n",
       "    </tr>\n",
       "    <tr>\n",
       "      <th>2</th>\n",
       "      <td>41884</td>\n",
       "      <td>Getting Started with Playing Guitar</td>\n",
       "    </tr>\n",
       "    <tr>\n",
       "      <th>3</th>\n",
       "      <td>42271</td>\n",
       "      <td>Complete Guitar System - Beginner to Advanced</td>\n",
       "    </tr>\n",
       "    <tr>\n",
       "      <th>4</th>\n",
       "      <td>26956</td>\n",
       "      <td>Learn Guitar in 21 Days</td>\n",
       "    </tr>\n",
       "    <tr>\n",
       "      <th>5</th>\n",
       "      <td>456284</td>\n",
       "      <td>The Professional Guitar Masterclass</td>\n",
       "    </tr>\n",
       "    <tr>\n",
       "      <th>6</th>\n",
       "      <td>583752</td>\n",
       "      <td>Introduction to Piano - By PGN Piano!</td>\n",
       "    </tr>\n",
       "    <tr>\n",
       "      <th>7</th>\n",
       "      <td>59922</td>\n",
       "      <td>Best Beginner Guitar Lessons by Sam Lyons</td>\n",
       "    </tr>\n",
       "    <tr>\n",
       "      <th>8</th>\n",
       "      <td>198690</td>\n",
       "      <td>Acoustic Guitar Basics</td>\n",
       "    </tr>\n",
       "    <tr>\n",
       "      <th>9</th>\n",
       "      <td>484670</td>\n",
       "      <td>Guitar Super System Level 1</td>\n",
       "    </tr>\n",
       "  </tbody>\n",
       "</table>\n",
       "</div>"
      ],
      "text/plain": [
       "   course_id                                       course_title\n",
       "0      19421              Free Beginner Electric Guitar Lessons\n",
       "1     238934  Pianoforall - Incredible New Way To Learn Pian...\n",
       "2      41884                Getting Started with Playing Guitar\n",
       "3      42271      Complete Guitar System - Beginner to Advanced\n",
       "4      26956                            Learn Guitar in 21 Days\n",
       "5     456284                The Professional Guitar Masterclass\n",
       "6     583752              Introduction to Piano - By PGN Piano!\n",
       "7      59922          Best Beginner Guitar Lessons by Sam Lyons\n",
       "8     198690                             Acoustic Guitar Basics\n",
       "9     484670                        Guitar Super System Level 1"
      ]
     },
     "execution_count": 75,
     "metadata": {},
     "output_type": "execute_result"
    }
   ],
   "source": [
    "df.iloc[0:10, 0:2]"
   ]
  },
  {
   "cell_type": "code",
   "execution_count": 89,
   "id": "6ab0d148",
   "metadata": {},
   "outputs": [
    {
     "data": {
      "text/html": [
       "<div>\n",
       "<style scoped>\n",
       "    .dataframe tbody tr th:only-of-type {\n",
       "        vertical-align: middle;\n",
       "    }\n",
       "\n",
       "    .dataframe tbody tr th {\n",
       "        vertical-align: top;\n",
       "    }\n",
       "\n",
       "    .dataframe thead th {\n",
       "        text-align: right;\n",
       "    }\n",
       "</style>\n",
       "<table border=\"1\" class=\"dataframe\">\n",
       "  <thead>\n",
       "    <tr style=\"text-align: right;\">\n",
       "      <th></th>\n",
       "      <th>course_title</th>\n",
       "      <th>price</th>\n",
       "      <th>Rating</th>\n",
       "    </tr>\n",
       "  </thead>\n",
       "  <tbody>\n",
       "    <tr>\n",
       "      <th>1</th>\n",
       "      <td>Pianoforall - Incredible New Way To Learn Pian...</td>\n",
       "      <td>200</td>\n",
       "      <td>0.96</td>\n",
       "    </tr>\n",
       "    <tr>\n",
       "      <th>5</th>\n",
       "      <td>The Professional Guitar Masterclass</td>\n",
       "      <td>200</td>\n",
       "      <td>0.30</td>\n",
       "    </tr>\n",
       "    <tr>\n",
       "      <th>13</th>\n",
       "      <td>LEARN HARMONICA, amaze your friends and have f...</td>\n",
       "      <td>200</td>\n",
       "      <td>0.43</td>\n",
       "    </tr>\n",
       "    <tr>\n",
       "      <th>16</th>\n",
       "      <td>Ultimate Beginner Guitar Masterclass</td>\n",
       "      <td>200</td>\n",
       "      <td>0.18</td>\n",
       "    </tr>\n",
       "    <tr>\n",
       "      <th>17</th>\n",
       "      <td>Quicklessons Piano Course - Learn to Play Pian...</td>\n",
       "      <td>200</td>\n",
       "      <td>0.15</td>\n",
       "    </tr>\n",
       "    <tr>\n",
       "      <th>20</th>\n",
       "      <td>Acoustic Fingerstyle Guitar Course: Beginner t...</td>\n",
       "      <td>200</td>\n",
       "      <td>0.11</td>\n",
       "    </tr>\n",
       "    <tr>\n",
       "      <th>26</th>\n",
       "      <td>How to play Piano - Go from a Beginner/Interme...</td>\n",
       "      <td>200</td>\n",
       "      <td>0.14</td>\n",
       "    </tr>\n",
       "    <tr>\n",
       "      <th>37</th>\n",
       "      <td>Guitar Chord Mastery!Turn Your Brain Into A Ch...</td>\n",
       "      <td>200</td>\n",
       "      <td>0.14</td>\n",
       "    </tr>\n",
       "    <tr>\n",
       "      <th>43</th>\n",
       "      <td>Learn to Play Piano From a Concert Pianist - F...</td>\n",
       "      <td>200</td>\n",
       "      <td>0.11</td>\n",
       "    </tr>\n",
       "    <tr>\n",
       "      <th>89</th>\n",
       "      <td>Learn How to Improvise on Guitar in 30 Days</td>\n",
       "      <td>200</td>\n",
       "      <td>0.47</td>\n",
       "    </tr>\n",
       "    <tr>\n",
       "      <th>97</th>\n",
       "      <td>Drumming Accelerator: How To Get The Best Star...</td>\n",
       "      <td>200</td>\n",
       "      <td>0.11</td>\n",
       "    </tr>\n",
       "    <tr>\n",
       "      <th>108</th>\n",
       "      <td>The Professional Bass Masterclass</td>\n",
       "      <td>200</td>\n",
       "      <td>0.68</td>\n",
       "    </tr>\n",
       "    <tr>\n",
       "      <th>111</th>\n",
       "      <td>101 Blues riffs - learn how the harmonica supe...</td>\n",
       "      <td>200</td>\n",
       "      <td>0.55</td>\n",
       "    </tr>\n",
       "    <tr>\n",
       "      <th>198</th>\n",
       "      <td>Play Sonny Terry style on Harmonica and dazzle...</td>\n",
       "      <td>200</td>\n",
       "      <td>0.07</td>\n",
       "    </tr>\n",
       "    <tr>\n",
       "      <th>205</th>\n",
       "      <td>Music Fundamentals: Learn Beatmaking with Pen ...</td>\n",
       "      <td>200</td>\n",
       "      <td>0.07</td>\n",
       "    </tr>\n",
       "    <tr>\n",
       "      <th>243</th>\n",
       "      <td>Chugging - it don't mean a thing if it ain't g...</td>\n",
       "      <td>200</td>\n",
       "      <td>0.18</td>\n",
       "    </tr>\n",
       "    <tr>\n",
       "      <th>282</th>\n",
       "      <td>Bones of the Blues - learn 4 cool tunes to exp...</td>\n",
       "      <td>200</td>\n",
       "      <td>0.02</td>\n",
       "    </tr>\n",
       "    <tr>\n",
       "      <th>396</th>\n",
       "      <td>Beginner Guitar Method</td>\n",
       "      <td>200</td>\n",
       "      <td>0.04</td>\n",
       "    </tr>\n",
       "    <tr>\n",
       "      <th>667</th>\n",
       "      <td>Suonare la Chitarra</td>\n",
       "      <td>200</td>\n",
       "      <td>0.15</td>\n",
       "    </tr>\n",
       "  </tbody>\n",
       "</table>\n",
       "</div>"
      ],
      "text/plain": [
       "                                          course_title  price  Rating\n",
       "1    Pianoforall - Incredible New Way To Learn Pian...    200    0.96\n",
       "5                  The Professional Guitar Masterclass    200    0.30\n",
       "13   LEARN HARMONICA, amaze your friends and have f...    200    0.43\n",
       "16                Ultimate Beginner Guitar Masterclass    200    0.18\n",
       "17   Quicklessons Piano Course - Learn to Play Pian...    200    0.15\n",
       "20   Acoustic Fingerstyle Guitar Course: Beginner t...    200    0.11\n",
       "26   How to play Piano - Go from a Beginner/Interme...    200    0.14\n",
       "37   Guitar Chord Mastery!Turn Your Brain Into A Ch...    200    0.14\n",
       "43   Learn to Play Piano From a Concert Pianist - F...    200    0.11\n",
       "89         Learn How to Improvise on Guitar in 30 Days    200    0.47\n",
       "97   Drumming Accelerator: How To Get The Best Star...    200    0.11\n",
       "108                  The Professional Bass Masterclass    200    0.68\n",
       "111  101 Blues riffs - learn how the harmonica supe...    200    0.55\n",
       "198  Play Sonny Terry style on Harmonica and dazzle...    200    0.07\n",
       "205  Music Fundamentals: Learn Beatmaking with Pen ...    200    0.07\n",
       "243  Chugging - it don't mean a thing if it ain't g...    200    0.18\n",
       "282  Bones of the Blues - learn 4 cool tunes to exp...    200    0.02\n",
       "396                             Beginner Guitar Method    200    0.04\n",
       "667                                Suonare la Chitarra    200    0.15"
      ]
     },
     "execution_count": 89,
     "metadata": {},
     "output_type": "execute_result"
    }
   ],
   "source": [
    "df.loc[df['price'] >= 200, ['course_title', 'price', 'Rating']]"
   ]
  },
  {
   "cell_type": "code",
   "execution_count": null,
   "id": "0aa13de4",
   "metadata": {},
   "outputs": [],
   "source": []
  },
  {
   "cell_type": "code",
   "execution_count": 79,
   "id": "0f30ca89",
   "metadata": {},
   "outputs": [
    {
     "data": {
      "text/html": [
       "<div>\n",
       "<style scoped>\n",
       "    .dataframe tbody tr th:only-of-type {\n",
       "        vertical-align: middle;\n",
       "    }\n",
       "\n",
       "    .dataframe tbody tr th {\n",
       "        vertical-align: top;\n",
       "    }\n",
       "\n",
       "    .dataframe thead th {\n",
       "        text-align: right;\n",
       "    }\n",
       "</style>\n",
       "<table border=\"1\" class=\"dataframe\">\n",
       "  <thead>\n",
       "    <tr style=\"text-align: right;\">\n",
       "      <th></th>\n",
       "      <th>price</th>\n",
       "    </tr>\n",
       "  </thead>\n",
       "  <tbody>\n",
       "    <tr>\n",
       "      <th>count</th>\n",
       "      <td>680.000000</td>\n",
       "    </tr>\n",
       "    <tr>\n",
       "      <th>mean</th>\n",
       "      <td>49.558824</td>\n",
       "    </tr>\n",
       "    <tr>\n",
       "      <th>std</th>\n",
       "      <td>41.187592</td>\n",
       "    </tr>\n",
       "    <tr>\n",
       "      <th>min</th>\n",
       "      <td>0.000000</td>\n",
       "    </tr>\n",
       "    <tr>\n",
       "      <th>25%</th>\n",
       "      <td>20.000000</td>\n",
       "    </tr>\n",
       "    <tr>\n",
       "      <th>50%</th>\n",
       "      <td>40.000000</td>\n",
       "    </tr>\n",
       "    <tr>\n",
       "      <th>75%</th>\n",
       "      <td>50.000000</td>\n",
       "    </tr>\n",
       "    <tr>\n",
       "      <th>max</th>\n",
       "      <td>200.000000</td>\n",
       "    </tr>\n",
       "  </tbody>\n",
       "</table>\n",
       "</div>"
      ],
      "text/plain": [
       "            price\n",
       "count  680.000000\n",
       "mean    49.558824\n",
       "std     41.187592\n",
       "min      0.000000\n",
       "25%     20.000000\n",
       "50%     40.000000\n",
       "75%     50.000000\n",
       "max    200.000000"
      ]
     },
     "execution_count": 79,
     "metadata": {},
     "output_type": "execute_result"
    }
   ],
   "source": [
    "df[['price']].describe()"
   ]
  },
  {
   "cell_type": "code",
   "execution_count": 101,
   "id": "de7d5c02",
   "metadata": {},
   "outputs": [
    {
     "data": {
      "text/html": [
       "<div>\n",
       "<style scoped>\n",
       "    .dataframe tbody tr th:only-of-type {\n",
       "        vertical-align: middle;\n",
       "    }\n",
       "\n",
       "    .dataframe tbody tr th {\n",
       "        vertical-align: top;\n",
       "    }\n",
       "\n",
       "    .dataframe thead th {\n",
       "        text-align: right;\n",
       "    }\n",
       "</style>\n",
       "<table border=\"1\" class=\"dataframe\">\n",
       "  <thead>\n",
       "    <tr style=\"text-align: right;\">\n",
       "      <th></th>\n",
       "      <th>course_id</th>\n",
       "      <th>course_title</th>\n",
       "      <th>url</th>\n",
       "      <th>price</th>\n",
       "      <th>num_subscribers</th>\n",
       "      <th>num_reviews</th>\n",
       "      <th>num_lectures</th>\n",
       "      <th>level</th>\n",
       "      <th>Rating</th>\n",
       "      <th>content_duration</th>\n",
       "      <th>published_timestamp</th>\n",
       "      <th>subject</th>\n",
       "    </tr>\n",
       "  </thead>\n",
       "  <tbody>\n",
       "    <tr>\n",
       "      <th>0</th>\n",
       "      <td>19421</td>\n",
       "      <td>Free Beginner Electric Guitar Lessons</td>\n",
       "      <td>https://www.udemy.com/beginner-electric-guitar...</td>\n",
       "      <td>0</td>\n",
       "      <td>101154</td>\n",
       "      <td>1042</td>\n",
       "      <td>95</td>\n",
       "      <td>All Levels</td>\n",
       "      <td>0.88</td>\n",
       "      <td>4.500000</td>\n",
       "      <td>2012-06-15T17:00:33Z</td>\n",
       "      <td>Musical Instruments</td>\n",
       "    </tr>\n",
       "    <tr>\n",
       "      <th>1</th>\n",
       "      <td>238934</td>\n",
       "      <td>Pianoforall - Incredible New Way To Learn Pian...</td>\n",
       "      <td>https://www.udemy.com/pianoforall-incredible-n...</td>\n",
       "      <td>200</td>\n",
       "      <td>75499</td>\n",
       "      <td>7676</td>\n",
       "      <td>362</td>\n",
       "      <td>Beginner Level</td>\n",
       "      <td>0.96</td>\n",
       "      <td>30.000000</td>\n",
       "      <td>2014-08-07T06:27:51Z</td>\n",
       "      <td>Musical Instruments</td>\n",
       "    </tr>\n",
       "    <tr>\n",
       "      <th>2</th>\n",
       "      <td>41884</td>\n",
       "      <td>Getting Started with Playing Guitar</td>\n",
       "      <td>https://www.udemy.com/getting-started-with-pla...</td>\n",
       "      <td>0</td>\n",
       "      <td>47652</td>\n",
       "      <td>1141</td>\n",
       "      <td>26</td>\n",
       "      <td>All Levels</td>\n",
       "      <td>0.68</td>\n",
       "      <td>4.000000</td>\n",
       "      <td>2013-05-29T15:28:07Z</td>\n",
       "      <td>Musical Instruments</td>\n",
       "    </tr>\n",
       "    <tr>\n",
       "      <th>3</th>\n",
       "      <td>42271</td>\n",
       "      <td>Complete Guitar System - Beginner to Advanced</td>\n",
       "      <td>https://www.udemy.com/complete-guitar-system-b...</td>\n",
       "      <td>145</td>\n",
       "      <td>32935</td>\n",
       "      <td>2713</td>\n",
       "      <td>310</td>\n",
       "      <td>All Levels</td>\n",
       "      <td>0.65</td>\n",
       "      <td>34.000000</td>\n",
       "      <td>2013-05-29T15:24:47Z</td>\n",
       "      <td>Musical Instruments</td>\n",
       "    </tr>\n",
       "    <tr>\n",
       "      <th>4</th>\n",
       "      <td>26956</td>\n",
       "      <td>Learn Guitar in 21 Days</td>\n",
       "      <td>https://www.udemy.com/learn-guitar-in-21-days/</td>\n",
       "      <td>20</td>\n",
       "      <td>26504</td>\n",
       "      <td>192</td>\n",
       "      <td>82</td>\n",
       "      <td>All Levels</td>\n",
       "      <td>0.41</td>\n",
       "      <td>2.500000</td>\n",
       "      <td>2012-10-21T20:36:50Z</td>\n",
       "      <td>Musical Instruments</td>\n",
       "    </tr>\n",
       "    <tr>\n",
       "      <th>...</th>\n",
       "      <td>...</td>\n",
       "      <td>...</td>\n",
       "      <td>...</td>\n",
       "      <td>...</td>\n",
       "      <td>...</td>\n",
       "      <td>...</td>\n",
       "      <td>...</td>\n",
       "      <td>...</td>\n",
       "      <td>...</td>\n",
       "      <td>...</td>\n",
       "      <td>...</td>\n",
       "      <td>...</td>\n",
       "    </tr>\n",
       "    <tr>\n",
       "      <th>675</th>\n",
       "      <td>1216340</td>\n",
       "      <td>Learn to Play Sweet Child of Mine</td>\n",
       "      <td>https://www.udemy.com/learn-to-play-sweet-chil...</td>\n",
       "      <td>20</td>\n",
       "      <td>0</td>\n",
       "      <td>0</td>\n",
       "      <td>23</td>\n",
       "      <td>All Levels</td>\n",
       "      <td>0.31</td>\n",
       "      <td>1.500000</td>\n",
       "      <td>2017-06-30T17:33:29Z</td>\n",
       "      <td>Musical Instruments</td>\n",
       "    </tr>\n",
       "    <tr>\n",
       "      <th>676</th>\n",
       "      <td>1026762</td>\n",
       "      <td>Coaching Course: Rhythm Instruction for Music ...</td>\n",
       "      <td>https://www.udemy.com/coaching-bundle-rhythm-i...</td>\n",
       "      <td>125</td>\n",
       "      <td>0</td>\n",
       "      <td>0</td>\n",
       "      <td>7</td>\n",
       "      <td>Beginner Level</td>\n",
       "      <td>0.06</td>\n",
       "      <td>0.633333</td>\n",
       "      <td>2017-03-10T17:06:46Z</td>\n",
       "      <td>Musical Instruments</td>\n",
       "    </tr>\n",
       "    <tr>\n",
       "      <th>677</th>\n",
       "      <td>1223240</td>\n",
       "      <td>Learn Pirates of the Caribbean by Ear on the P...</td>\n",
       "      <td>https://www.udemy.com/learn-pirates-of-the-car...</td>\n",
       "      <td>20</td>\n",
       "      <td>0</td>\n",
       "      <td>0</td>\n",
       "      <td>6</td>\n",
       "      <td>All Levels</td>\n",
       "      <td>0.08</td>\n",
       "      <td>0.533333</td>\n",
       "      <td>2017-05-22T17:14:43Z</td>\n",
       "      <td>Musical Instruments</td>\n",
       "    </tr>\n",
       "    <tr>\n",
       "      <th>678</th>\n",
       "      <td>1224186</td>\n",
       "      <td>Learn to Play Piano Like a Pro - Easy Piano Co...</td>\n",
       "      <td>https://www.udemy.com/learn-to-play-piano-like...</td>\n",
       "      <td>35</td>\n",
       "      <td>0</td>\n",
       "      <td>0</td>\n",
       "      <td>13</td>\n",
       "      <td>Beginner Level</td>\n",
       "      <td>0.78</td>\n",
       "      <td>0.516667</td>\n",
       "      <td>2017-05-30T00:19:02Z</td>\n",
       "      <td>Musical Instruments</td>\n",
       "    </tr>\n",
       "    <tr>\n",
       "      <th>679</th>\n",
       "      <td>1234656</td>\n",
       "      <td>4 Week Rhythm Mastery</td>\n",
       "      <td>https://www.udemy.com/4-week-rhythm-mastery/</td>\n",
       "      <td>20</td>\n",
       "      <td>0</td>\n",
       "      <td>0</td>\n",
       "      <td>28</td>\n",
       "      <td>All Levels</td>\n",
       "      <td>0.01</td>\n",
       "      <td>2.500000</td>\n",
       "      <td>2017-07-05T16:07:44Z</td>\n",
       "      <td>Musical Instruments</td>\n",
       "    </tr>\n",
       "  </tbody>\n",
       "</table>\n",
       "<p>680 rows × 12 columns</p>\n",
       "</div>"
      ],
      "text/plain": [
       "     course_id                                       course_title  \\\n",
       "0        19421              Free Beginner Electric Guitar Lessons   \n",
       "1       238934  Pianoforall - Incredible New Way To Learn Pian...   \n",
       "2        41884                Getting Started with Playing Guitar   \n",
       "3        42271      Complete Guitar System - Beginner to Advanced   \n",
       "4        26956                            Learn Guitar in 21 Days   \n",
       "..         ...                                                ...   \n",
       "675    1216340                  Learn to Play Sweet Child of Mine   \n",
       "676    1026762  Coaching Course: Rhythm Instruction for Music ...   \n",
       "677    1223240  Learn Pirates of the Caribbean by Ear on the P...   \n",
       "678    1224186  Learn to Play Piano Like a Pro - Easy Piano Co...   \n",
       "679    1234656                              4 Week Rhythm Mastery   \n",
       "\n",
       "                                                   url  price  \\\n",
       "0    https://www.udemy.com/beginner-electric-guitar...      0   \n",
       "1    https://www.udemy.com/pianoforall-incredible-n...    200   \n",
       "2    https://www.udemy.com/getting-started-with-pla...      0   \n",
       "3    https://www.udemy.com/complete-guitar-system-b...    145   \n",
       "4       https://www.udemy.com/learn-guitar-in-21-days/     20   \n",
       "..                                                 ...    ...   \n",
       "675  https://www.udemy.com/learn-to-play-sweet-chil...     20   \n",
       "676  https://www.udemy.com/coaching-bundle-rhythm-i...    125   \n",
       "677  https://www.udemy.com/learn-pirates-of-the-car...     20   \n",
       "678  https://www.udemy.com/learn-to-play-piano-like...     35   \n",
       "679       https://www.udemy.com/4-week-rhythm-mastery/     20   \n",
       "\n",
       "     num_subscribers  num_reviews  num_lectures           level  Rating  \\\n",
       "0             101154         1042            95      All Levels    0.88   \n",
       "1              75499         7676           362  Beginner Level    0.96   \n",
       "2              47652         1141            26      All Levels    0.68   \n",
       "3              32935         2713           310      All Levels    0.65   \n",
       "4              26504          192            82      All Levels    0.41   \n",
       "..               ...          ...           ...             ...     ...   \n",
       "675                0            0            23      All Levels    0.31   \n",
       "676                0            0             7  Beginner Level    0.06   \n",
       "677                0            0             6      All Levels    0.08   \n",
       "678                0            0            13  Beginner Level    0.78   \n",
       "679                0            0            28      All Levels    0.01   \n",
       "\n",
       "     content_duration   published_timestamp              subject  \n",
       "0            4.500000  2012-06-15T17:00:33Z  Musical Instruments  \n",
       "1           30.000000  2014-08-07T06:27:51Z  Musical Instruments  \n",
       "2            4.000000  2013-05-29T15:28:07Z  Musical Instruments  \n",
       "3           34.000000  2013-05-29T15:24:47Z  Musical Instruments  \n",
       "4            2.500000  2012-10-21T20:36:50Z  Musical Instruments  \n",
       "..                ...                   ...                  ...  \n",
       "675          1.500000  2017-06-30T17:33:29Z  Musical Instruments  \n",
       "676          0.633333  2017-03-10T17:06:46Z  Musical Instruments  \n",
       "677          0.533333  2017-05-22T17:14:43Z  Musical Instruments  \n",
       "678          0.516667  2017-05-30T00:19:02Z  Musical Instruments  \n",
       "679          2.500000  2017-07-05T16:07:44Z  Musical Instruments  \n",
       "\n",
       "[680 rows x 12 columns]"
      ]
     },
     "execution_count": 101,
     "metadata": {},
     "output_type": "execute_result"
    }
   ],
   "source": [
    "df"
   ]
  },
  {
   "cell_type": "code",
   "execution_count": 102,
   "id": "498d3186",
   "metadata": {},
   "outputs": [
    {
     "data": {
      "text/html": [
       "<div>\n",
       "<style scoped>\n",
       "    .dataframe tbody tr th:only-of-type {\n",
       "        vertical-align: middle;\n",
       "    }\n",
       "\n",
       "    .dataframe tbody tr th {\n",
       "        vertical-align: top;\n",
       "    }\n",
       "\n",
       "    .dataframe thead th {\n",
       "        text-align: right;\n",
       "    }\n",
       "</style>\n",
       "<table border=\"1\" class=\"dataframe\">\n",
       "  <thead>\n",
       "    <tr style=\"text-align: right;\">\n",
       "      <th></th>\n",
       "      <th>course_id</th>\n",
       "      <th>course_title</th>\n",
       "    </tr>\n",
       "  </thead>\n",
       "  <tbody>\n",
       "    <tr>\n",
       "      <th>0</th>\n",
       "      <td>19421</td>\n",
       "      <td>Free Beginner Electric Guitar Lessons</td>\n",
       "    </tr>\n",
       "    <tr>\n",
       "      <th>1</th>\n",
       "      <td>238934</td>\n",
       "      <td>Pianoforall - Incredible New Way To Learn Pian...</td>\n",
       "    </tr>\n",
       "    <tr>\n",
       "      <th>2</th>\n",
       "      <td>41884</td>\n",
       "      <td>Getting Started with Playing Guitar</td>\n",
       "    </tr>\n",
       "    <tr>\n",
       "      <th>3</th>\n",
       "      <td>42271</td>\n",
       "      <td>Complete Guitar System - Beginner to Advanced</td>\n",
       "    </tr>\n",
       "    <tr>\n",
       "      <th>4</th>\n",
       "      <td>26956</td>\n",
       "      <td>Learn Guitar in 21 Days</td>\n",
       "    </tr>\n",
       "    <tr>\n",
       "      <th>...</th>\n",
       "      <td>...</td>\n",
       "      <td>...</td>\n",
       "    </tr>\n",
       "    <tr>\n",
       "      <th>675</th>\n",
       "      <td>1216340</td>\n",
       "      <td>Learn to Play Sweet Child of Mine</td>\n",
       "    </tr>\n",
       "    <tr>\n",
       "      <th>676</th>\n",
       "      <td>1026762</td>\n",
       "      <td>Coaching Course: Rhythm Instruction for Music ...</td>\n",
       "    </tr>\n",
       "    <tr>\n",
       "      <th>677</th>\n",
       "      <td>1223240</td>\n",
       "      <td>Learn Pirates of the Caribbean by Ear on the P...</td>\n",
       "    </tr>\n",
       "    <tr>\n",
       "      <th>678</th>\n",
       "      <td>1224186</td>\n",
       "      <td>Learn to Play Piano Like a Pro - Easy Piano Co...</td>\n",
       "    </tr>\n",
       "    <tr>\n",
       "      <th>679</th>\n",
       "      <td>1234656</td>\n",
       "      <td>4 Week Rhythm Mastery</td>\n",
       "    </tr>\n",
       "  </tbody>\n",
       "</table>\n",
       "<p>680 rows × 2 columns</p>\n",
       "</div>"
      ],
      "text/plain": [
       "     course_id                                       course_title\n",
       "0        19421              Free Beginner Electric Guitar Lessons\n",
       "1       238934  Pianoforall - Incredible New Way To Learn Pian...\n",
       "2        41884                Getting Started with Playing Guitar\n",
       "3        42271      Complete Guitar System - Beginner to Advanced\n",
       "4        26956                            Learn Guitar in 21 Days\n",
       "..         ...                                                ...\n",
       "675    1216340                  Learn to Play Sweet Child of Mine\n",
       "676    1026762  Coaching Course: Rhythm Instruction for Music ...\n",
       "677    1223240  Learn Pirates of the Caribbean by Ear on the P...\n",
       "678    1224186  Learn to Play Piano Like a Pro - Easy Piano Co...\n",
       "679    1234656                              4 Week Rhythm Mastery\n",
       "\n",
       "[680 rows x 2 columns]"
      ]
     },
     "execution_count": 102,
     "metadata": {},
     "output_type": "execute_result"
    }
   ],
   "source": [
    "df.loc[:, ['course_id', 'course_title']]"
   ]
  },
  {
   "cell_type": "code",
   "execution_count": 105,
   "id": "d845ebd5",
   "metadata": {},
   "outputs": [
    {
     "data": {
      "text/html": [
       "<div>\n",
       "<style scoped>\n",
       "    .dataframe tbody tr th:only-of-type {\n",
       "        vertical-align: middle;\n",
       "    }\n",
       "\n",
       "    .dataframe tbody tr th {\n",
       "        vertical-align: top;\n",
       "    }\n",
       "\n",
       "    .dataframe thead th {\n",
       "        text-align: right;\n",
       "    }\n",
       "</style>\n",
       "<table border=\"1\" class=\"dataframe\">\n",
       "  <thead>\n",
       "    <tr style=\"text-align: right;\">\n",
       "      <th></th>\n",
       "      <th>course_id</th>\n",
       "      <th>course_title</th>\n",
       "    </tr>\n",
       "  </thead>\n",
       "  <tbody>\n",
       "    <tr>\n",
       "      <th>0</th>\n",
       "      <td>19421</td>\n",
       "      <td>Free Beginner Electric Guitar Lessons</td>\n",
       "    </tr>\n",
       "    <tr>\n",
       "      <th>1</th>\n",
       "      <td>238934</td>\n",
       "      <td>Pianoforall - Incredible New Way To Learn Pian...</td>\n",
       "    </tr>\n",
       "    <tr>\n",
       "      <th>2</th>\n",
       "      <td>41884</td>\n",
       "      <td>Getting Started with Playing Guitar</td>\n",
       "    </tr>\n",
       "    <tr>\n",
       "      <th>3</th>\n",
       "      <td>42271</td>\n",
       "      <td>Complete Guitar System - Beginner to Advanced</td>\n",
       "    </tr>\n",
       "    <tr>\n",
       "      <th>4</th>\n",
       "      <td>26956</td>\n",
       "      <td>Learn Guitar in 21 Days</td>\n",
       "    </tr>\n",
       "    <tr>\n",
       "      <th>...</th>\n",
       "      <td>...</td>\n",
       "      <td>...</td>\n",
       "    </tr>\n",
       "    <tr>\n",
       "      <th>675</th>\n",
       "      <td>1216340</td>\n",
       "      <td>Learn to Play Sweet Child of Mine</td>\n",
       "    </tr>\n",
       "    <tr>\n",
       "      <th>676</th>\n",
       "      <td>1026762</td>\n",
       "      <td>Coaching Course: Rhythm Instruction for Music ...</td>\n",
       "    </tr>\n",
       "    <tr>\n",
       "      <th>677</th>\n",
       "      <td>1223240</td>\n",
       "      <td>Learn Pirates of the Caribbean by Ear on the P...</td>\n",
       "    </tr>\n",
       "    <tr>\n",
       "      <th>678</th>\n",
       "      <td>1224186</td>\n",
       "      <td>Learn to Play Piano Like a Pro - Easy Piano Co...</td>\n",
       "    </tr>\n",
       "    <tr>\n",
       "      <th>679</th>\n",
       "      <td>1234656</td>\n",
       "      <td>4 Week Rhythm Mastery</td>\n",
       "    </tr>\n",
       "  </tbody>\n",
       "</table>\n",
       "<p>680 rows × 2 columns</p>\n",
       "</div>"
      ],
      "text/plain": [
       "     course_id                                       course_title\n",
       "0        19421              Free Beginner Electric Guitar Lessons\n",
       "1       238934  Pianoforall - Incredible New Way To Learn Pian...\n",
       "2        41884                Getting Started with Playing Guitar\n",
       "3        42271      Complete Guitar System - Beginner to Advanced\n",
       "4        26956                            Learn Guitar in 21 Days\n",
       "..         ...                                                ...\n",
       "675    1216340                  Learn to Play Sweet Child of Mine\n",
       "676    1026762  Coaching Course: Rhythm Instruction for Music ...\n",
       "677    1223240  Learn Pirates of the Caribbean by Ear on the P...\n",
       "678    1224186  Learn to Play Piano Like a Pro - Easy Piano Co...\n",
       "679    1234656                              4 Week Rhythm Mastery\n",
       "\n",
       "[680 rows x 2 columns]"
      ]
     },
     "execution_count": 105,
     "metadata": {},
     "output_type": "execute_result"
    }
   ],
   "source": [
    "df.iloc[:, [0,1]]"
   ]
  },
  {
   "cell_type": "code",
   "execution_count": 106,
   "id": "9e781cc7",
   "metadata": {},
   "outputs": [
    {
     "data": {
      "text/html": [
       "<div>\n",
       "<style scoped>\n",
       "    .dataframe tbody tr th:only-of-type {\n",
       "        vertical-align: middle;\n",
       "    }\n",
       "\n",
       "    .dataframe tbody tr th {\n",
       "        vertical-align: top;\n",
       "    }\n",
       "\n",
       "    .dataframe thead th {\n",
       "        text-align: right;\n",
       "    }\n",
       "</style>\n",
       "<table border=\"1\" class=\"dataframe\">\n",
       "  <thead>\n",
       "    <tr style=\"text-align: right;\">\n",
       "      <th></th>\n",
       "      <th>course_id</th>\n",
       "      <th>course_title</th>\n",
       "      <th>url</th>\n",
       "      <th>price</th>\n",
       "      <th>num_subscribers</th>\n",
       "      <th>num_reviews</th>\n",
       "      <th>num_lectures</th>\n",
       "      <th>level</th>\n",
       "      <th>Rating</th>\n",
       "      <th>content_duration</th>\n",
       "      <th>published_timestamp</th>\n",
       "      <th>subject</th>\n",
       "    </tr>\n",
       "  </thead>\n",
       "  <tbody>\n",
       "    <tr>\n",
       "      <th>0</th>\n",
       "      <td>19421</td>\n",
       "      <td>Free Beginner Electric Guitar Lessons</td>\n",
       "      <td>https://www.udemy.com/beginner-electric-guitar...</td>\n",
       "      <td>0</td>\n",
       "      <td>101154</td>\n",
       "      <td>1042</td>\n",
       "      <td>95</td>\n",
       "      <td>All Levels</td>\n",
       "      <td>0.88</td>\n",
       "      <td>4.500000</td>\n",
       "      <td>2012-06-15T17:00:33Z</td>\n",
       "      <td>Musical Instruments</td>\n",
       "    </tr>\n",
       "    <tr>\n",
       "      <th>1</th>\n",
       "      <td>238934</td>\n",
       "      <td>Pianoforall - Incredible New Way To Learn Pian...</td>\n",
       "      <td>https://www.udemy.com/pianoforall-incredible-n...</td>\n",
       "      <td>200</td>\n",
       "      <td>75499</td>\n",
       "      <td>7676</td>\n",
       "      <td>362</td>\n",
       "      <td>Beginner Level</td>\n",
       "      <td>0.96</td>\n",
       "      <td>30.000000</td>\n",
       "      <td>2014-08-07T06:27:51Z</td>\n",
       "      <td>Musical Instruments</td>\n",
       "    </tr>\n",
       "    <tr>\n",
       "      <th>2</th>\n",
       "      <td>41884</td>\n",
       "      <td>Getting Started with Playing Guitar</td>\n",
       "      <td>https://www.udemy.com/getting-started-with-pla...</td>\n",
       "      <td>0</td>\n",
       "      <td>47652</td>\n",
       "      <td>1141</td>\n",
       "      <td>26</td>\n",
       "      <td>All Levels</td>\n",
       "      <td>0.68</td>\n",
       "      <td>4.000000</td>\n",
       "      <td>2013-05-29T15:28:07Z</td>\n",
       "      <td>Musical Instruments</td>\n",
       "    </tr>\n",
       "    <tr>\n",
       "      <th>3</th>\n",
       "      <td>42271</td>\n",
       "      <td>Complete Guitar System - Beginner to Advanced</td>\n",
       "      <td>https://www.udemy.com/complete-guitar-system-b...</td>\n",
       "      <td>145</td>\n",
       "      <td>32935</td>\n",
       "      <td>2713</td>\n",
       "      <td>310</td>\n",
       "      <td>All Levels</td>\n",
       "      <td>0.65</td>\n",
       "      <td>34.000000</td>\n",
       "      <td>2013-05-29T15:24:47Z</td>\n",
       "      <td>Musical Instruments</td>\n",
       "    </tr>\n",
       "    <tr>\n",
       "      <th>4</th>\n",
       "      <td>26956</td>\n",
       "      <td>Learn Guitar in 21 Days</td>\n",
       "      <td>https://www.udemy.com/learn-guitar-in-21-days/</td>\n",
       "      <td>20</td>\n",
       "      <td>26504</td>\n",
       "      <td>192</td>\n",
       "      <td>82</td>\n",
       "      <td>All Levels</td>\n",
       "      <td>0.41</td>\n",
       "      <td>2.500000</td>\n",
       "      <td>2012-10-21T20:36:50Z</td>\n",
       "      <td>Musical Instruments</td>\n",
       "    </tr>\n",
       "    <tr>\n",
       "      <th>...</th>\n",
       "      <td>...</td>\n",
       "      <td>...</td>\n",
       "      <td>...</td>\n",
       "      <td>...</td>\n",
       "      <td>...</td>\n",
       "      <td>...</td>\n",
       "      <td>...</td>\n",
       "      <td>...</td>\n",
       "      <td>...</td>\n",
       "      <td>...</td>\n",
       "      <td>...</td>\n",
       "      <td>...</td>\n",
       "    </tr>\n",
       "    <tr>\n",
       "      <th>675</th>\n",
       "      <td>1216340</td>\n",
       "      <td>Learn to Play Sweet Child of Mine</td>\n",
       "      <td>https://www.udemy.com/learn-to-play-sweet-chil...</td>\n",
       "      <td>20</td>\n",
       "      <td>0</td>\n",
       "      <td>0</td>\n",
       "      <td>23</td>\n",
       "      <td>All Levels</td>\n",
       "      <td>0.31</td>\n",
       "      <td>1.500000</td>\n",
       "      <td>2017-06-30T17:33:29Z</td>\n",
       "      <td>Musical Instruments</td>\n",
       "    </tr>\n",
       "    <tr>\n",
       "      <th>676</th>\n",
       "      <td>1026762</td>\n",
       "      <td>Coaching Course: Rhythm Instruction for Music ...</td>\n",
       "      <td>https://www.udemy.com/coaching-bundle-rhythm-i...</td>\n",
       "      <td>125</td>\n",
       "      <td>0</td>\n",
       "      <td>0</td>\n",
       "      <td>7</td>\n",
       "      <td>Beginner Level</td>\n",
       "      <td>0.06</td>\n",
       "      <td>0.633333</td>\n",
       "      <td>2017-03-10T17:06:46Z</td>\n",
       "      <td>Musical Instruments</td>\n",
       "    </tr>\n",
       "    <tr>\n",
       "      <th>677</th>\n",
       "      <td>1223240</td>\n",
       "      <td>Learn Pirates of the Caribbean by Ear on the P...</td>\n",
       "      <td>https://www.udemy.com/learn-pirates-of-the-car...</td>\n",
       "      <td>20</td>\n",
       "      <td>0</td>\n",
       "      <td>0</td>\n",
       "      <td>6</td>\n",
       "      <td>All Levels</td>\n",
       "      <td>0.08</td>\n",
       "      <td>0.533333</td>\n",
       "      <td>2017-05-22T17:14:43Z</td>\n",
       "      <td>Musical Instruments</td>\n",
       "    </tr>\n",
       "    <tr>\n",
       "      <th>678</th>\n",
       "      <td>1224186</td>\n",
       "      <td>Learn to Play Piano Like a Pro - Easy Piano Co...</td>\n",
       "      <td>https://www.udemy.com/learn-to-play-piano-like...</td>\n",
       "      <td>35</td>\n",
       "      <td>0</td>\n",
       "      <td>0</td>\n",
       "      <td>13</td>\n",
       "      <td>Beginner Level</td>\n",
       "      <td>0.78</td>\n",
       "      <td>0.516667</td>\n",
       "      <td>2017-05-30T00:19:02Z</td>\n",
       "      <td>Musical Instruments</td>\n",
       "    </tr>\n",
       "    <tr>\n",
       "      <th>679</th>\n",
       "      <td>1234656</td>\n",
       "      <td>4 Week Rhythm Mastery</td>\n",
       "      <td>https://www.udemy.com/4-week-rhythm-mastery/</td>\n",
       "      <td>20</td>\n",
       "      <td>0</td>\n",
       "      <td>0</td>\n",
       "      <td>28</td>\n",
       "      <td>All Levels</td>\n",
       "      <td>0.01</td>\n",
       "      <td>2.500000</td>\n",
       "      <td>2017-07-05T16:07:44Z</td>\n",
       "      <td>Musical Instruments</td>\n",
       "    </tr>\n",
       "  </tbody>\n",
       "</table>\n",
       "<p>680 rows × 12 columns</p>\n",
       "</div>"
      ],
      "text/plain": [
       "     course_id                                       course_title  \\\n",
       "0        19421              Free Beginner Electric Guitar Lessons   \n",
       "1       238934  Pianoforall - Incredible New Way To Learn Pian...   \n",
       "2        41884                Getting Started with Playing Guitar   \n",
       "3        42271      Complete Guitar System - Beginner to Advanced   \n",
       "4        26956                            Learn Guitar in 21 Days   \n",
       "..         ...                                                ...   \n",
       "675    1216340                  Learn to Play Sweet Child of Mine   \n",
       "676    1026762  Coaching Course: Rhythm Instruction for Music ...   \n",
       "677    1223240  Learn Pirates of the Caribbean by Ear on the P...   \n",
       "678    1224186  Learn to Play Piano Like a Pro - Easy Piano Co...   \n",
       "679    1234656                              4 Week Rhythm Mastery   \n",
       "\n",
       "                                                   url  price  \\\n",
       "0    https://www.udemy.com/beginner-electric-guitar...      0   \n",
       "1    https://www.udemy.com/pianoforall-incredible-n...    200   \n",
       "2    https://www.udemy.com/getting-started-with-pla...      0   \n",
       "3    https://www.udemy.com/complete-guitar-system-b...    145   \n",
       "4       https://www.udemy.com/learn-guitar-in-21-days/     20   \n",
       "..                                                 ...    ...   \n",
       "675  https://www.udemy.com/learn-to-play-sweet-chil...     20   \n",
       "676  https://www.udemy.com/coaching-bundle-rhythm-i...    125   \n",
       "677  https://www.udemy.com/learn-pirates-of-the-car...     20   \n",
       "678  https://www.udemy.com/learn-to-play-piano-like...     35   \n",
       "679       https://www.udemy.com/4-week-rhythm-mastery/     20   \n",
       "\n",
       "     num_subscribers  num_reviews  num_lectures           level  Rating  \\\n",
       "0             101154         1042            95      All Levels    0.88   \n",
       "1              75499         7676           362  Beginner Level    0.96   \n",
       "2              47652         1141            26      All Levels    0.68   \n",
       "3              32935         2713           310      All Levels    0.65   \n",
       "4              26504          192            82      All Levels    0.41   \n",
       "..               ...          ...           ...             ...     ...   \n",
       "675                0            0            23      All Levels    0.31   \n",
       "676                0            0             7  Beginner Level    0.06   \n",
       "677                0            0             6      All Levels    0.08   \n",
       "678                0            0            13  Beginner Level    0.78   \n",
       "679                0            0            28      All Levels    0.01   \n",
       "\n",
       "     content_duration   published_timestamp              subject  \n",
       "0            4.500000  2012-06-15T17:00:33Z  Musical Instruments  \n",
       "1           30.000000  2014-08-07T06:27:51Z  Musical Instruments  \n",
       "2            4.000000  2013-05-29T15:28:07Z  Musical Instruments  \n",
       "3           34.000000  2013-05-29T15:24:47Z  Musical Instruments  \n",
       "4            2.500000  2012-10-21T20:36:50Z  Musical Instruments  \n",
       "..                ...                   ...                  ...  \n",
       "675          1.500000  2017-06-30T17:33:29Z  Musical Instruments  \n",
       "676          0.633333  2017-03-10T17:06:46Z  Musical Instruments  \n",
       "677          0.533333  2017-05-22T17:14:43Z  Musical Instruments  \n",
       "678          0.516667  2017-05-30T00:19:02Z  Musical Instruments  \n",
       "679          2.500000  2017-07-05T16:07:44Z  Musical Instruments  \n",
       "\n",
       "[680 rows x 12 columns]"
      ]
     },
     "execution_count": 106,
     "metadata": {},
     "output_type": "execute_result"
    }
   ],
   "source": [
    "df"
   ]
  },
  {
   "cell_type": "markdown",
   "id": "7fe76b73",
   "metadata": {},
   "source": [
    "Filter the dataframe and return the rows where the level is beginner level and all the columns from course_id to level"
   ]
  },
  {
   "cell_type": "code",
   "execution_count": 107,
   "id": "28012294",
   "metadata": {},
   "outputs": [
    {
     "data": {
      "text/html": [
       "<div>\n",
       "<style scoped>\n",
       "    .dataframe tbody tr th:only-of-type {\n",
       "        vertical-align: middle;\n",
       "    }\n",
       "\n",
       "    .dataframe tbody tr th {\n",
       "        vertical-align: top;\n",
       "    }\n",
       "\n",
       "    .dataframe thead th {\n",
       "        text-align: right;\n",
       "    }\n",
       "</style>\n",
       "<table border=\"1\" class=\"dataframe\">\n",
       "  <thead>\n",
       "    <tr style=\"text-align: right;\">\n",
       "      <th></th>\n",
       "      <th>course_id</th>\n",
       "      <th>course_title</th>\n",
       "      <th>url</th>\n",
       "      <th>price</th>\n",
       "      <th>num_subscribers</th>\n",
       "      <th>num_reviews</th>\n",
       "      <th>num_lectures</th>\n",
       "      <th>level</th>\n",
       "    </tr>\n",
       "  </thead>\n",
       "  <tbody>\n",
       "    <tr>\n",
       "      <th>1</th>\n",
       "      <td>238934</td>\n",
       "      <td>Pianoforall - Incredible New Way To Learn Pian...</td>\n",
       "      <td>https://www.udemy.com/pianoforall-incredible-n...</td>\n",
       "      <td>200</td>\n",
       "      <td>75499</td>\n",
       "      <td>7676</td>\n",
       "      <td>362</td>\n",
       "      <td>Beginner Level</td>\n",
       "    </tr>\n",
       "    <tr>\n",
       "      <th>8</th>\n",
       "      <td>198690</td>\n",
       "      <td>Acoustic Guitar Basics</td>\n",
       "      <td>https://www.udemy.com/acoustic-guitar-basics/</td>\n",
       "      <td>0</td>\n",
       "      <td>14495</td>\n",
       "      <td>224</td>\n",
       "      <td>21</td>\n",
       "      <td>Beginner Level</td>\n",
       "    </tr>\n",
       "    <tr>\n",
       "      <th>13</th>\n",
       "      <td>200598</td>\n",
       "      <td>LEARN HARMONICA, amaze your friends and have f...</td>\n",
       "      <td>https://www.udemy.com/benhewlettharmonicatuiti...</td>\n",
       "      <td>200</td>\n",
       "      <td>8857</td>\n",
       "      <td>718</td>\n",
       "      <td>131</td>\n",
       "      <td>Beginner Level</td>\n",
       "    </tr>\n",
       "    <tr>\n",
       "      <th>15</th>\n",
       "      <td>99324</td>\n",
       "      <td>Acoustic Blues Guitar Lessons</td>\n",
       "      <td>https://www.udemy.com/finger-picking-blues-gui...</td>\n",
       "      <td>0</td>\n",
       "      <td>8217</td>\n",
       "      <td>109</td>\n",
       "      <td>10</td>\n",
       "      <td>Beginner Level</td>\n",
       "    </tr>\n",
       "    <tr>\n",
       "      <th>21</th>\n",
       "      <td>824044</td>\n",
       "      <td>PI-101 Top 10 Classical Piano Pieces for Begin...</td>\n",
       "      <td>https://www.udemy.com/pi-101-piano/</td>\n",
       "      <td>0</td>\n",
       "      <td>6292</td>\n",
       "      <td>183</td>\n",
       "      <td>38</td>\n",
       "      <td>Beginner Level</td>\n",
       "    </tr>\n",
       "    <tr>\n",
       "      <th>...</th>\n",
       "      <td>...</td>\n",
       "      <td>...</td>\n",
       "      <td>...</td>\n",
       "      <td>...</td>\n",
       "      <td>...</td>\n",
       "      <td>...</td>\n",
       "      <td>...</td>\n",
       "      <td>...</td>\n",
       "    </tr>\n",
       "    <tr>\n",
       "      <th>669</th>\n",
       "      <td>1265814</td>\n",
       "      <td>ABRSM Grade III Piano Class - Handel Sonatina ...</td>\n",
       "      <td>https://www.udemy.com/abrsm-grade-iii-piano-cl...</td>\n",
       "      <td>20</td>\n",
       "      <td>0</td>\n",
       "      <td>0</td>\n",
       "      <td>5</td>\n",
       "      <td>Beginner Level</td>\n",
       "    </tr>\n",
       "    <tr>\n",
       "      <th>671</th>\n",
       "      <td>603902</td>\n",
       "      <td>Curso de Didgeridoo nivel principiante</td>\n",
       "      <td>https://www.udemy.com/curso-de-didgeridoo-nive...</td>\n",
       "      <td>50</td>\n",
       "      <td>0</td>\n",
       "      <td>0</td>\n",
       "      <td>31</td>\n",
       "      <td>Beginner Level</td>\n",
       "    </tr>\n",
       "    <tr>\n",
       "      <th>673</th>\n",
       "      <td>1214670</td>\n",
       "      <td>Tune that Sour Note on Your Piano</td>\n",
       "      <td>https://www.udemy.com/how-to-tune-your-own-piano/</td>\n",
       "      <td>20</td>\n",
       "      <td>0</td>\n",
       "      <td>0</td>\n",
       "      <td>6</td>\n",
       "      <td>Beginner Level</td>\n",
       "    </tr>\n",
       "    <tr>\n",
       "      <th>676</th>\n",
       "      <td>1026762</td>\n",
       "      <td>Coaching Course: Rhythm Instruction for Music ...</td>\n",
       "      <td>https://www.udemy.com/coaching-bundle-rhythm-i...</td>\n",
       "      <td>125</td>\n",
       "      <td>0</td>\n",
       "      <td>0</td>\n",
       "      <td>7</td>\n",
       "      <td>Beginner Level</td>\n",
       "    </tr>\n",
       "    <tr>\n",
       "      <th>678</th>\n",
       "      <td>1224186</td>\n",
       "      <td>Learn to Play Piano Like a Pro - Easy Piano Co...</td>\n",
       "      <td>https://www.udemy.com/learn-to-play-piano-like...</td>\n",
       "      <td>35</td>\n",
       "      <td>0</td>\n",
       "      <td>0</td>\n",
       "      <td>13</td>\n",
       "      <td>Beginner Level</td>\n",
       "    </tr>\n",
       "  </tbody>\n",
       "</table>\n",
       "<p>266 rows × 8 columns</p>\n",
       "</div>"
      ],
      "text/plain": [
       "     course_id                                       course_title  \\\n",
       "1       238934  Pianoforall - Incredible New Way To Learn Pian...   \n",
       "8       198690                             Acoustic Guitar Basics   \n",
       "13      200598  LEARN HARMONICA, amaze your friends and have f...   \n",
       "15       99324                      Acoustic Blues Guitar Lessons   \n",
       "21      824044  PI-101 Top 10 Classical Piano Pieces for Begin...   \n",
       "..         ...                                                ...   \n",
       "669    1265814  ABRSM Grade III Piano Class - Handel Sonatina ...   \n",
       "671     603902             Curso de Didgeridoo nivel principiante   \n",
       "673    1214670                  Tune that Sour Note on Your Piano   \n",
       "676    1026762  Coaching Course: Rhythm Instruction for Music ...   \n",
       "678    1224186  Learn to Play Piano Like a Pro - Easy Piano Co...   \n",
       "\n",
       "                                                   url  price  \\\n",
       "1    https://www.udemy.com/pianoforall-incredible-n...    200   \n",
       "8        https://www.udemy.com/acoustic-guitar-basics/      0   \n",
       "13   https://www.udemy.com/benhewlettharmonicatuiti...    200   \n",
       "15   https://www.udemy.com/finger-picking-blues-gui...      0   \n",
       "21                 https://www.udemy.com/pi-101-piano/      0   \n",
       "..                                                 ...    ...   \n",
       "669  https://www.udemy.com/abrsm-grade-iii-piano-cl...     20   \n",
       "671  https://www.udemy.com/curso-de-didgeridoo-nive...     50   \n",
       "673  https://www.udemy.com/how-to-tune-your-own-piano/     20   \n",
       "676  https://www.udemy.com/coaching-bundle-rhythm-i...    125   \n",
       "678  https://www.udemy.com/learn-to-play-piano-like...     35   \n",
       "\n",
       "     num_subscribers  num_reviews  num_lectures           level  \n",
       "1              75499         7676           362  Beginner Level  \n",
       "8              14495          224            21  Beginner Level  \n",
       "13              8857          718           131  Beginner Level  \n",
       "15              8217          109            10  Beginner Level  \n",
       "21              6292          183            38  Beginner Level  \n",
       "..               ...          ...           ...             ...  \n",
       "669                0            0             5  Beginner Level  \n",
       "671                0            0            31  Beginner Level  \n",
       "673                0            0             6  Beginner Level  \n",
       "676                0            0             7  Beginner Level  \n",
       "678                0            0            13  Beginner Level  \n",
       "\n",
       "[266 rows x 8 columns]"
      ]
     },
     "execution_count": 107,
     "metadata": {},
     "output_type": "execute_result"
    }
   ],
   "source": [
    "df.loc[df.level == 'Beginner Level','course_id':'level']"
   ]
  },
  {
   "cell_type": "markdown",
   "id": "b38f3512",
   "metadata": {},
   "source": [
    "Filter the dataframe and return the rows where the level is all level and the rating is greater and equal to 0.5"
   ]
  },
  {
   "cell_type": "code",
   "execution_count": 120,
   "id": "928efa86",
   "metadata": {},
   "outputs": [
    {
     "name": "stderr",
     "output_type": "stream",
     "text": [
      "C:\\Users\\aaginam\\AppData\\Local\\Temp\\ipykernel_26280\\1233354856.py:1: UserWarning: Boolean Series key will be reindexed to match DataFrame index.\n",
      "  df.loc[df.level == 'All Levels'][df.Rating > 0.5]\n"
     ]
    },
    {
     "data": {
      "text/html": [
       "<div>\n",
       "<style scoped>\n",
       "    .dataframe tbody tr th:only-of-type {\n",
       "        vertical-align: middle;\n",
       "    }\n",
       "\n",
       "    .dataframe tbody tr th {\n",
       "        vertical-align: top;\n",
       "    }\n",
       "\n",
       "    .dataframe thead th {\n",
       "        text-align: right;\n",
       "    }\n",
       "</style>\n",
       "<table border=\"1\" class=\"dataframe\">\n",
       "  <thead>\n",
       "    <tr style=\"text-align: right;\">\n",
       "      <th></th>\n",
       "      <th>course_id</th>\n",
       "      <th>course_title</th>\n",
       "      <th>url</th>\n",
       "      <th>price</th>\n",
       "      <th>num_subscribers</th>\n",
       "      <th>num_reviews</th>\n",
       "      <th>num_lectures</th>\n",
       "      <th>level</th>\n",
       "      <th>Rating</th>\n",
       "      <th>content_duration</th>\n",
       "      <th>published_timestamp</th>\n",
       "      <th>subject</th>\n",
       "    </tr>\n",
       "  </thead>\n",
       "  <tbody>\n",
       "    <tr>\n",
       "      <th>0</th>\n",
       "      <td>19421</td>\n",
       "      <td>Free Beginner Electric Guitar Lessons</td>\n",
       "      <td>https://www.udemy.com/beginner-electric-guitar...</td>\n",
       "      <td>0</td>\n",
       "      <td>101154</td>\n",
       "      <td>1042</td>\n",
       "      <td>95</td>\n",
       "      <td>All Levels</td>\n",
       "      <td>0.88</td>\n",
       "      <td>4.500000</td>\n",
       "      <td>2012-06-15T17:00:33Z</td>\n",
       "      <td>Musical Instruments</td>\n",
       "    </tr>\n",
       "    <tr>\n",
       "      <th>2</th>\n",
       "      <td>41884</td>\n",
       "      <td>Getting Started with Playing Guitar</td>\n",
       "      <td>https://www.udemy.com/getting-started-with-pla...</td>\n",
       "      <td>0</td>\n",
       "      <td>47652</td>\n",
       "      <td>1141</td>\n",
       "      <td>26</td>\n",
       "      <td>All Levels</td>\n",
       "      <td>0.68</td>\n",
       "      <td>4.000000</td>\n",
       "      <td>2013-05-29T15:28:07Z</td>\n",
       "      <td>Musical Instruments</td>\n",
       "    </tr>\n",
       "    <tr>\n",
       "      <th>3</th>\n",
       "      <td>42271</td>\n",
       "      <td>Complete Guitar System - Beginner to Advanced</td>\n",
       "      <td>https://www.udemy.com/complete-guitar-system-b...</td>\n",
       "      <td>145</td>\n",
       "      <td>32935</td>\n",
       "      <td>2713</td>\n",
       "      <td>310</td>\n",
       "      <td>All Levels</td>\n",
       "      <td>0.65</td>\n",
       "      <td>34.000000</td>\n",
       "      <td>2013-05-29T15:24:47Z</td>\n",
       "      <td>Musical Instruments</td>\n",
       "    </tr>\n",
       "    <tr>\n",
       "      <th>14</th>\n",
       "      <td>101496</td>\n",
       "      <td>How To Play Blues Guitar - Broonzy &amp; McGhee Bl...</td>\n",
       "      <td>https://www.udemy.com/swing-acoustic-blues-gui...</td>\n",
       "      <td>0</td>\n",
       "      <td>8240</td>\n",
       "      <td>31</td>\n",
       "      <td>6</td>\n",
       "      <td>All Levels</td>\n",
       "      <td>0.52</td>\n",
       "      <td>1.500000</td>\n",
       "      <td>2013-11-23T12:27:56Z</td>\n",
       "      <td>Musical Instruments</td>\n",
       "    </tr>\n",
       "    <tr>\n",
       "      <th>78</th>\n",
       "      <td>1123184</td>\n",
       "      <td>#7 Piano Hand Coordination: Play Piano Runs in...</td>\n",
       "      <td>https://www.udemy.com/learn-piano-hand-coordin...</td>\n",
       "      <td>65</td>\n",
       "      <td>2015</td>\n",
       "      <td>2</td>\n",
       "      <td>25</td>\n",
       "      <td>All Levels</td>\n",
       "      <td>0.95</td>\n",
       "      <td>1.000000</td>\n",
       "      <td>2017-03-08T18:09:32Z</td>\n",
       "      <td>Musical Instruments</td>\n",
       "    </tr>\n",
       "    <tr>\n",
       "      <th>...</th>\n",
       "      <td>...</td>\n",
       "      <td>...</td>\n",
       "      <td>...</td>\n",
       "      <td>...</td>\n",
       "      <td>...</td>\n",
       "      <td>...</td>\n",
       "      <td>...</td>\n",
       "      <td>...</td>\n",
       "      <td>...</td>\n",
       "      <td>...</td>\n",
       "      <td>...</td>\n",
       "      <td>...</td>\n",
       "    </tr>\n",
       "    <tr>\n",
       "      <th>658</th>\n",
       "      <td>834422</td>\n",
       "      <td>Curso de Teclado</td>\n",
       "      <td>https://www.udemy.com/curso-de-teclado-gospel-...</td>\n",
       "      <td>40</td>\n",
       "      <td>1</td>\n",
       "      <td>0</td>\n",
       "      <td>26</td>\n",
       "      <td>All Levels</td>\n",
       "      <td>0.96</td>\n",
       "      <td>1.500000</td>\n",
       "      <td>2016-05-16T18:46:15Z</td>\n",
       "      <td>Musical Instruments</td>\n",
       "    </tr>\n",
       "    <tr>\n",
       "      <th>660</th>\n",
       "      <td>968026</td>\n",
       "      <td>Learn to Play Tabla - The Indian drums</td>\n",
       "      <td>https://www.udemy.com/learn-to-play-tabla/</td>\n",
       "      <td>0</td>\n",
       "      <td>1</td>\n",
       "      <td>0</td>\n",
       "      <td>20</td>\n",
       "      <td>All Levels</td>\n",
       "      <td>0.78</td>\n",
       "      <td>1.500000</td>\n",
       "      <td>2017-07-04T21:04:11Z</td>\n",
       "      <td>Musical Instruments</td>\n",
       "    </tr>\n",
       "    <tr>\n",
       "      <th>670</th>\n",
       "      <td>1272282</td>\n",
       "      <td>Learn Vikings Soundtracks on the Piano by Ear</td>\n",
       "      <td>https://www.udemy.com/learn-vikings-soundtrack...</td>\n",
       "      <td>20</td>\n",
       "      <td>0</td>\n",
       "      <td>0</td>\n",
       "      <td>8</td>\n",
       "      <td>All Levels</td>\n",
       "      <td>0.63</td>\n",
       "      <td>0.583333</td>\n",
       "      <td>2017-06-29T15:10:58Z</td>\n",
       "      <td>Musical Instruments</td>\n",
       "    </tr>\n",
       "    <tr>\n",
       "      <th>672</th>\n",
       "      <td>1026760</td>\n",
       "      <td>Coaching Course: Rhythm Instruction for Music ...</td>\n",
       "      <td>https://www.udemy.com/coaching-bundle-rhythm-i...</td>\n",
       "      <td>130</td>\n",
       "      <td>0</td>\n",
       "      <td>0</td>\n",
       "      <td>6</td>\n",
       "      <td>All Levels</td>\n",
       "      <td>0.66</td>\n",
       "      <td>0.533333</td>\n",
       "      <td>2017-03-10T16:55:04Z</td>\n",
       "      <td>Musical Instruments</td>\n",
       "    </tr>\n",
       "    <tr>\n",
       "      <th>674</th>\n",
       "      <td>993892</td>\n",
       "      <td>Beginners Guitar Course - 'Try it and love it ...</td>\n",
       "      <td>https://www.udemy.com/beginners-guitar-course-...</td>\n",
       "      <td>25</td>\n",
       "      <td>0</td>\n",
       "      <td>0</td>\n",
       "      <td>16</td>\n",
       "      <td>All Levels</td>\n",
       "      <td>0.51</td>\n",
       "      <td>2.000000</td>\n",
       "      <td>2016-10-31T18:10:06Z</td>\n",
       "      <td>Musical Instruments</td>\n",
       "    </tr>\n",
       "  </tbody>\n",
       "</table>\n",
       "<p>87 rows × 12 columns</p>\n",
       "</div>"
      ],
      "text/plain": [
       "     course_id                                       course_title  \\\n",
       "0        19421              Free Beginner Electric Guitar Lessons   \n",
       "2        41884                Getting Started with Playing Guitar   \n",
       "3        42271      Complete Guitar System - Beginner to Advanced   \n",
       "14      101496  How To Play Blues Guitar - Broonzy & McGhee Bl...   \n",
       "78     1123184  #7 Piano Hand Coordination: Play Piano Runs in...   \n",
       "..         ...                                                ...   \n",
       "658     834422                                   Curso de Teclado   \n",
       "660     968026             Learn to Play Tabla - The Indian drums   \n",
       "670    1272282      Learn Vikings Soundtracks on the Piano by Ear   \n",
       "672    1026760  Coaching Course: Rhythm Instruction for Music ...   \n",
       "674     993892  Beginners Guitar Course - 'Try it and love it ...   \n",
       "\n",
       "                                                   url  price  \\\n",
       "0    https://www.udemy.com/beginner-electric-guitar...      0   \n",
       "2    https://www.udemy.com/getting-started-with-pla...      0   \n",
       "3    https://www.udemy.com/complete-guitar-system-b...    145   \n",
       "14   https://www.udemy.com/swing-acoustic-blues-gui...      0   \n",
       "78   https://www.udemy.com/learn-piano-hand-coordin...     65   \n",
       "..                                                 ...    ...   \n",
       "658  https://www.udemy.com/curso-de-teclado-gospel-...     40   \n",
       "660         https://www.udemy.com/learn-to-play-tabla/      0   \n",
       "670  https://www.udemy.com/learn-vikings-soundtrack...     20   \n",
       "672  https://www.udemy.com/coaching-bundle-rhythm-i...    130   \n",
       "674  https://www.udemy.com/beginners-guitar-course-...     25   \n",
       "\n",
       "     num_subscribers  num_reviews  num_lectures       level  Rating  \\\n",
       "0             101154         1042            95  All Levels    0.88   \n",
       "2              47652         1141            26  All Levels    0.68   \n",
       "3              32935         2713           310  All Levels    0.65   \n",
       "14              8240           31             6  All Levels    0.52   \n",
       "78              2015            2            25  All Levels    0.95   \n",
       "..               ...          ...           ...         ...     ...   \n",
       "658                1            0            26  All Levels    0.96   \n",
       "660                1            0            20  All Levels    0.78   \n",
       "670                0            0             8  All Levels    0.63   \n",
       "672                0            0             6  All Levels    0.66   \n",
       "674                0            0            16  All Levels    0.51   \n",
       "\n",
       "     content_duration   published_timestamp              subject  \n",
       "0            4.500000  2012-06-15T17:00:33Z  Musical Instruments  \n",
       "2            4.000000  2013-05-29T15:28:07Z  Musical Instruments  \n",
       "3           34.000000  2013-05-29T15:24:47Z  Musical Instruments  \n",
       "14           1.500000  2013-11-23T12:27:56Z  Musical Instruments  \n",
       "78           1.000000  2017-03-08T18:09:32Z  Musical Instruments  \n",
       "..                ...                   ...                  ...  \n",
       "658          1.500000  2016-05-16T18:46:15Z  Musical Instruments  \n",
       "660          1.500000  2017-07-04T21:04:11Z  Musical Instruments  \n",
       "670          0.583333  2017-06-29T15:10:58Z  Musical Instruments  \n",
       "672          0.533333  2017-03-10T16:55:04Z  Musical Instruments  \n",
       "674          2.000000  2016-10-31T18:10:06Z  Musical Instruments  \n",
       "\n",
       "[87 rows x 12 columns]"
      ]
     },
     "execution_count": 120,
     "metadata": {},
     "output_type": "execute_result"
    }
   ],
   "source": [
    "df.loc[df.level == 'All Levels'][df.Rating > 0.5]"
   ]
  },
  {
   "cell_type": "code",
   "execution_count": 108,
   "id": "df258d3f",
   "metadata": {},
   "outputs": [
    {
     "data": {
      "text/plain": [
       "level\n",
       "All Levels            324\n",
       "Beginner Level        266\n",
       "Intermediate Level     78\n",
       "Expert Level           12\n",
       "Name: count, dtype: int64"
      ]
     },
     "execution_count": 108,
     "metadata": {},
     "output_type": "execute_result"
    }
   ],
   "source": [
    "df['level'].value_counts()"
   ]
  },
  {
   "cell_type": "code",
   "execution_count": 117,
   "id": "45d97e6b",
   "metadata": {},
   "outputs": [
    {
     "ename": "ValueError",
     "evalue": "The truth value of a Series is ambiguous. Use a.empty, a.bool(), a.item(), a.any() or a.all().",
     "output_type": "error",
     "traceback": [
      "\u001b[1;31m---------------------------------------------------------------------------\u001b[0m",
      "\u001b[1;31mValueError\u001b[0m                                Traceback (most recent call last)",
      "\u001b[1;32m~\\AppData\\Local\\Temp\\ipykernel_26280\\1064278080.py\u001b[0m in \u001b[0;36m?\u001b[1;34m()\u001b[0m\n\u001b[1;32m----> 1\u001b[1;33m \u001b[0mdf\u001b[0m\u001b[1;33m.\u001b[0m\u001b[0mlevel\u001b[0m \u001b[1;33m==\u001b[0m \u001b[1;34m'All Levels'\u001b[0m \u001b[1;32mand\u001b[0m \u001b[0mdf\u001b[0m\u001b[1;33m.\u001b[0m\u001b[0mRating\u001b[0m \u001b[1;33m>\u001b[0m \u001b[1;36m0.5\u001b[0m\u001b[1;33m\u001b[0m\u001b[1;33m\u001b[0m\u001b[0m\n\u001b[0m",
      "\u001b[1;32m~\\AppData\\Local\\anaconda3\\Lib\\site-packages\\pandas\\core\\generic.py\u001b[0m in \u001b[0;36m?\u001b[1;34m(self)\u001b[0m\n\u001b[0;32m   1574\u001b[0m     \u001b[1;33m@\u001b[0m\u001b[0mfinal\u001b[0m\u001b[1;33m\u001b[0m\u001b[1;33m\u001b[0m\u001b[0m\n\u001b[0;32m   1575\u001b[0m     \u001b[1;32mdef\u001b[0m \u001b[0m__nonzero__\u001b[0m\u001b[1;33m(\u001b[0m\u001b[0mself\u001b[0m\u001b[1;33m)\u001b[0m \u001b[1;33m->\u001b[0m \u001b[0mNoReturn\u001b[0m\u001b[1;33m:\u001b[0m\u001b[1;33m\u001b[0m\u001b[1;33m\u001b[0m\u001b[0m\n\u001b[1;32m-> 1576\u001b[1;33m         raise ValueError(\n\u001b[0m\u001b[0;32m   1577\u001b[0m             \u001b[1;34mf\"The truth value of a {type(self).__name__} is ambiguous. \"\u001b[0m\u001b[1;33m\u001b[0m\u001b[1;33m\u001b[0m\u001b[0m\n\u001b[0;32m   1578\u001b[0m             \u001b[1;34m\"Use a.empty, a.bool(), a.item(), a.any() or a.all().\"\u001b[0m\u001b[1;33m\u001b[0m\u001b[1;33m\u001b[0m\u001b[0m\n\u001b[0;32m   1579\u001b[0m         )\n",
      "\u001b[1;31mValueError\u001b[0m: The truth value of a Series is ambiguous. Use a.empty, a.bool(), a.item(), a.any() or a.all()."
     ]
    }
   ],
   "source": [
    "df.level == 'All Levels' and df.Rating > 0.5"
   ]
  },
  {
   "cell_type": "code",
   "execution_count": 116,
   "id": "25d91467",
   "metadata": {},
   "outputs": [
    {
     "data": {
      "text/plain": [
       "0       True\n",
       "1       True\n",
       "2       True\n",
       "3       True\n",
       "4      False\n",
       "       ...  \n",
       "675    False\n",
       "676    False\n",
       "677    False\n",
       "678     True\n",
       "679    False\n",
       "Name: Rating, Length: 680, dtype: bool"
      ]
     },
     "execution_count": 116,
     "metadata": {},
     "output_type": "execute_result"
    }
   ],
   "source": [
    "df.Rating > 0.5"
   ]
  },
  {
   "cell_type": "code",
   "execution_count": null,
   "id": "90a4753c",
   "metadata": {},
   "outputs": [],
   "source": []
  }
 ],
 "metadata": {
  "kernelspec": {
   "display_name": "Python 3 (ipykernel)",
   "language": "python",
   "name": "python3"
  },
  "language_info": {
   "codemirror_mode": {
    "name": "ipython",
    "version": 3
   },
   "file_extension": ".py",
   "mimetype": "text/x-python",
   "name": "python",
   "nbconvert_exporter": "python",
   "pygments_lexer": "ipython3",
   "version": "3.11.5"
  }
 },
 "nbformat": 4,
 "nbformat_minor": 5
}
