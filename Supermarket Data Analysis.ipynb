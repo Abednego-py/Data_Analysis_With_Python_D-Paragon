{
 "cells": [
  {
   "cell_type": "markdown",
   "id": "8bf4ccd4",
   "metadata": {},
   "source": [
    "### Problem Statement\n",
    "\n",
    "D'Paragon owns a supermarket chain across the country. Each major branch is located in 3 cities - Lagos, Abuja and PH. You have been hired as a data analyst to help them understand sales trend and also measure growth to be able compete with other supermarkets in the same location. \n",
    "\n",
    "\n",
    "### Approach\n",
    "\n",
    "- CRISP - DM framework \n",
    "\n",
    "- Properly understand the business and data\n",
    "\n",
    "- Prepare the data for analysis\n",
    "\n",
    "- Answer questions to help us achieve our objectives\n",
    "\n",
    "- Draw conclusions\n",
    "\n",
    "- Prepare a summary. "
   ]
  },
  {
   "cell_type": "markdown",
   "id": "ce426134",
   "metadata": {},
   "source": [
    "1. Data Understanding / Exploration"
   ]
  },
  {
   "cell_type": "code",
   "execution_count": 1,
   "id": "adf24326",
   "metadata": {},
   "outputs": [
    {
     "name": "stderr",
     "output_type": "stream",
     "text": [
      "C:\\Users\\aaginam\\AppData\\Local\\anaconda3\\Lib\\site-packages\\pandas\\core\\arrays\\masked.py:60: UserWarning: Pandas requires version '1.3.6' or newer of 'bottleneck' (version '1.3.5' currently installed).\n",
      "  from pandas.core import (\n"
     ]
    }
   ],
   "source": [
    "# data structure libraries\n",
    "import numpy as np\n",
    "import pandas as pd\n",
    "\n",
    "# visualization libraries\n",
    "import matplotlib.pyplot as plt\n",
    "import seaborn as sb\n",
    "\n",
    "%matplotlib inline"
   ]
  },
  {
   "cell_type": "code",
   "execution_count": 76,
   "id": "47b940ff",
   "metadata": {},
   "outputs": [],
   "source": [
    "# read in the data\n",
    "\n",
    "lagos_df =  pd.read_csv('Datasets/Lagos_Branch.csv') \n",
    "abuja_df =  pd.read_csv('Datasets/Abuja_Branch.csv')\n",
    "ph_df =  pd.read_csv('Datasets/Port_Harcourt_Branch.csv')"
   ]
  },
  {
   "cell_type": "code",
   "execution_count": 3,
   "id": "67bc4aaa",
   "metadata": {},
   "outputs": [
    {
     "data": {
      "text/html": [
       "<div>\n",
       "<style scoped>\n",
       "    .dataframe tbody tr th:only-of-type {\n",
       "        vertical-align: middle;\n",
       "    }\n",
       "\n",
       "    .dataframe tbody tr th {\n",
       "        vertical-align: top;\n",
       "    }\n",
       "\n",
       "    .dataframe thead th {\n",
       "        text-align: right;\n",
       "    }\n",
       "</style>\n",
       "<table border=\"1\" class=\"dataframe\">\n",
       "  <thead>\n",
       "    <tr style=\"text-align: right;\">\n",
       "      <th></th>\n",
       "      <th>Invoice ID</th>\n",
       "      <th>Branch</th>\n",
       "      <th>City</th>\n",
       "      <th>Customer type</th>\n",
       "      <th>Gender</th>\n",
       "      <th>Product line</th>\n",
       "      <th>Unit price</th>\n",
       "      <th>Quantity</th>\n",
       "      <th>Tax 5%</th>\n",
       "      <th>Total</th>\n",
       "      <th>Date</th>\n",
       "      <th>Time</th>\n",
       "      <th>Payment</th>\n",
       "      <th>cogs</th>\n",
       "      <th>gross margin percentage</th>\n",
       "      <th>gross income</th>\n",
       "      <th>Rating</th>\n",
       "    </tr>\n",
       "  </thead>\n",
       "  <tbody>\n",
       "    <tr>\n",
       "      <th>335</th>\n",
       "      <td>886-18-2897</td>\n",
       "      <td>A</td>\n",
       "      <td>Lagos</td>\n",
       "      <td>Normal</td>\n",
       "      <td>Female</td>\n",
       "      <td>Food and beverages</td>\n",
       "      <td>20361.6</td>\n",
       "      <td>5</td>\n",
       "      <td>5090.40</td>\n",
       "      <td>106898.40</td>\n",
       "      <td>3/22/2019</td>\n",
       "      <td>19:06</td>\n",
       "      <td>Card</td>\n",
       "      <td>101808.0</td>\n",
       "      <td>4.761905</td>\n",
       "      <td>5090.40</td>\n",
       "      <td>4.5</td>\n",
       "    </tr>\n",
       "    <tr>\n",
       "      <th>336</th>\n",
       "      <td>745-74-0715</td>\n",
       "      <td>A</td>\n",
       "      <td>Lagos</td>\n",
       "      <td>Normal</td>\n",
       "      <td>Male</td>\n",
       "      <td>Electronic accessories</td>\n",
       "      <td>20890.8</td>\n",
       "      <td>2</td>\n",
       "      <td>2089.08</td>\n",
       "      <td>43870.68</td>\n",
       "      <td>3/10/2019</td>\n",
       "      <td>20:46</td>\n",
       "      <td>Epay</td>\n",
       "      <td>41781.6</td>\n",
       "      <td>4.761905</td>\n",
       "      <td>2089.08</td>\n",
       "      <td>8.8</td>\n",
       "    </tr>\n",
       "    <tr>\n",
       "      <th>337</th>\n",
       "      <td>727-02-1313</td>\n",
       "      <td>A</td>\n",
       "      <td>Lagos</td>\n",
       "      <td>Member</td>\n",
       "      <td>Male</td>\n",
       "      <td>Food and beverages</td>\n",
       "      <td>11462.4</td>\n",
       "      <td>1</td>\n",
       "      <td>573.12</td>\n",
       "      <td>12035.52</td>\n",
       "      <td>2/9/2019</td>\n",
       "      <td>13:22</td>\n",
       "      <td>Cash</td>\n",
       "      <td>11462.4</td>\n",
       "      <td>4.761905</td>\n",
       "      <td>573.12</td>\n",
       "      <td>7.7</td>\n",
       "    </tr>\n",
       "    <tr>\n",
       "      <th>338</th>\n",
       "      <td>347-56-2442</td>\n",
       "      <td>A</td>\n",
       "      <td>Lagos</td>\n",
       "      <td>Normal</td>\n",
       "      <td>Male</td>\n",
       "      <td>Home and lifestyle</td>\n",
       "      <td>23695.2</td>\n",
       "      <td>1</td>\n",
       "      <td>1184.76</td>\n",
       "      <td>24879.96</td>\n",
       "      <td>2/22/2019</td>\n",
       "      <td>15:33</td>\n",
       "      <td>Cash</td>\n",
       "      <td>23695.2</td>\n",
       "      <td>4.761905</td>\n",
       "      <td>1184.76</td>\n",
       "      <td>4.1</td>\n",
       "    </tr>\n",
       "    <tr>\n",
       "      <th>339</th>\n",
       "      <td>849-09-3807</td>\n",
       "      <td>A</td>\n",
       "      <td>Lagos</td>\n",
       "      <td>Member</td>\n",
       "      <td>Female</td>\n",
       "      <td>Fashion accessories</td>\n",
       "      <td>31802.4</td>\n",
       "      <td>7</td>\n",
       "      <td>11130.84</td>\n",
       "      <td>233747.64</td>\n",
       "      <td>2/18/2019</td>\n",
       "      <td>13:28</td>\n",
       "      <td>Cash</td>\n",
       "      <td>222616.8</td>\n",
       "      <td>4.761905</td>\n",
       "      <td>11130.84</td>\n",
       "      <td>6.6</td>\n",
       "    </tr>\n",
       "  </tbody>\n",
       "</table>\n",
       "</div>"
      ],
      "text/plain": [
       "      Invoice ID Branch   City Customer type  Gender            Product line  \\\n",
       "335  886-18-2897      A  Lagos        Normal  Female      Food and beverages   \n",
       "336  745-74-0715      A  Lagos        Normal    Male  Electronic accessories   \n",
       "337  727-02-1313      A  Lagos        Member    Male      Food and beverages   \n",
       "338  347-56-2442      A  Lagos        Normal    Male      Home and lifestyle   \n",
       "339  849-09-3807      A  Lagos        Member  Female     Fashion accessories   \n",
       "\n",
       "     Unit price  Quantity    Tax 5%      Total       Date   Time Payment  \\\n",
       "335     20361.6         5   5090.40  106898.40  3/22/2019  19:06    Card   \n",
       "336     20890.8         2   2089.08   43870.68  3/10/2019  20:46    Epay   \n",
       "337     11462.4         1    573.12   12035.52   2/9/2019  13:22    Cash   \n",
       "338     23695.2         1   1184.76   24879.96  2/22/2019  15:33    Cash   \n",
       "339     31802.4         7  11130.84  233747.64  2/18/2019  13:28    Cash   \n",
       "\n",
       "         cogs  gross margin percentage  gross income  Rating  \n",
       "335  101808.0                 4.761905       5090.40     4.5  \n",
       "336   41781.6                 4.761905       2089.08     8.8  \n",
       "337   11462.4                 4.761905        573.12     7.7  \n",
       "338   23695.2                 4.761905       1184.76     4.1  \n",
       "339  222616.8                 4.761905      11130.84     6.6  "
      ]
     },
     "execution_count": 3,
     "metadata": {},
     "output_type": "execute_result"
    }
   ],
   "source": [
    "lagos_df.tail()"
   ]
  },
  {
   "cell_type": "code",
   "execution_count": 4,
   "id": "5cb10ab3",
   "metadata": {},
   "outputs": [
    {
     "data": {
      "text/html": [
       "<div>\n",
       "<style scoped>\n",
       "    .dataframe tbody tr th:only-of-type {\n",
       "        vertical-align: middle;\n",
       "    }\n",
       "\n",
       "    .dataframe tbody tr th {\n",
       "        vertical-align: top;\n",
       "    }\n",
       "\n",
       "    .dataframe thead th {\n",
       "        text-align: right;\n",
       "    }\n",
       "</style>\n",
       "<table border=\"1\" class=\"dataframe\">\n",
       "  <thead>\n",
       "    <tr style=\"text-align: right;\">\n",
       "      <th></th>\n",
       "      <th>Invoice ID</th>\n",
       "      <th>Branch</th>\n",
       "      <th>City</th>\n",
       "      <th>Customer type</th>\n",
       "      <th>Gender</th>\n",
       "      <th>Product line</th>\n",
       "      <th>Unit price</th>\n",
       "      <th>Quantity</th>\n",
       "      <th>Tax 5%</th>\n",
       "      <th>Total</th>\n",
       "      <th>Date</th>\n",
       "      <th>Time</th>\n",
       "      <th>Payment</th>\n",
       "      <th>cogs</th>\n",
       "      <th>gross margin percentage</th>\n",
       "      <th>gross income</th>\n",
       "      <th>Rating</th>\n",
       "    </tr>\n",
       "  </thead>\n",
       "  <tbody>\n",
       "    <tr>\n",
       "      <th>0</th>\n",
       "      <td>226-31-3081</td>\n",
       "      <td>C</td>\n",
       "      <td>Port Harcourt</td>\n",
       "      <td>Normal</td>\n",
       "      <td>Female</td>\n",
       "      <td>Electronic accessories</td>\n",
       "      <td>5500.8</td>\n",
       "      <td>5</td>\n",
       "      <td>1375.20</td>\n",
       "      <td>28879.20</td>\n",
       "      <td>3/8/2019</td>\n",
       "      <td>10:29</td>\n",
       "      <td>Cash</td>\n",
       "      <td>27504.0</td>\n",
       "      <td>4.761905</td>\n",
       "      <td>1375.20</td>\n",
       "      <td>9.6</td>\n",
       "    </tr>\n",
       "    <tr>\n",
       "      <th>1</th>\n",
       "      <td>699-14-3026</td>\n",
       "      <td>C</td>\n",
       "      <td>Port Harcourt</td>\n",
       "      <td>Normal</td>\n",
       "      <td>Male</td>\n",
       "      <td>Electronic accessories</td>\n",
       "      <td>30740.4</td>\n",
       "      <td>7</td>\n",
       "      <td>10759.14</td>\n",
       "      <td>225941.94</td>\n",
       "      <td>3/25/2019</td>\n",
       "      <td>18:30</td>\n",
       "      <td>Epay</td>\n",
       "      <td>215182.8</td>\n",
       "      <td>4.761905</td>\n",
       "      <td>10759.14</td>\n",
       "      <td>4.1</td>\n",
       "    </tr>\n",
       "    <tr>\n",
       "      <th>2</th>\n",
       "      <td>315-22-5665</td>\n",
       "      <td>C</td>\n",
       "      <td>Port Harcourt</td>\n",
       "      <td>Normal</td>\n",
       "      <td>Female</td>\n",
       "      <td>Home and lifestyle</td>\n",
       "      <td>26481.6</td>\n",
       "      <td>10</td>\n",
       "      <td>13240.80</td>\n",
       "      <td>278056.80</td>\n",
       "      <td>2/24/2019</td>\n",
       "      <td>11:38</td>\n",
       "      <td>Epay</td>\n",
       "      <td>264816.0</td>\n",
       "      <td>4.761905</td>\n",
       "      <td>13240.80</td>\n",
       "      <td>8.0</td>\n",
       "    </tr>\n",
       "    <tr>\n",
       "      <th>3</th>\n",
       "      <td>300-71-4605</td>\n",
       "      <td>C</td>\n",
       "      <td>Port Harcourt</td>\n",
       "      <td>Member</td>\n",
       "      <td>Male</td>\n",
       "      <td>Electronic accessories</td>\n",
       "      <td>30974.4</td>\n",
       "      <td>5</td>\n",
       "      <td>7743.60</td>\n",
       "      <td>162615.60</td>\n",
       "      <td>2/25/2019</td>\n",
       "      <td>11:24</td>\n",
       "      <td>Epay</td>\n",
       "      <td>154872.0</td>\n",
       "      <td>4.761905</td>\n",
       "      <td>7743.60</td>\n",
       "      <td>4.8</td>\n",
       "    </tr>\n",
       "    <tr>\n",
       "      <th>4</th>\n",
       "      <td>183-56-6882</td>\n",
       "      <td>C</td>\n",
       "      <td>Port Harcourt</td>\n",
       "      <td>Member</td>\n",
       "      <td>Female</td>\n",
       "      <td>Food and beverages</td>\n",
       "      <td>35791.2</td>\n",
       "      <td>4</td>\n",
       "      <td>7158.24</td>\n",
       "      <td>150323.04</td>\n",
       "      <td>2/6/2019</td>\n",
       "      <td>10:42</td>\n",
       "      <td>Epay</td>\n",
       "      <td>143164.8</td>\n",
       "      <td>4.761905</td>\n",
       "      <td>7158.24</td>\n",
       "      <td>7.5</td>\n",
       "    </tr>\n",
       "  </tbody>\n",
       "</table>\n",
       "</div>"
      ],
      "text/plain": [
       "    Invoice ID Branch           City Customer type  Gender  \\\n",
       "0  226-31-3081      C  Port Harcourt        Normal  Female   \n",
       "1  699-14-3026      C  Port Harcourt        Normal    Male   \n",
       "2  315-22-5665      C  Port Harcourt        Normal  Female   \n",
       "3  300-71-4605      C  Port Harcourt        Member    Male   \n",
       "4  183-56-6882      C  Port Harcourt        Member  Female   \n",
       "\n",
       "             Product line  Unit price  Quantity    Tax 5%      Total  \\\n",
       "0  Electronic accessories      5500.8         5   1375.20   28879.20   \n",
       "1  Electronic accessories     30740.4         7  10759.14  225941.94   \n",
       "2      Home and lifestyle     26481.6        10  13240.80  278056.80   \n",
       "3  Electronic accessories     30974.4         5   7743.60  162615.60   \n",
       "4      Food and beverages     35791.2         4   7158.24  150323.04   \n",
       "\n",
       "        Date   Time Payment      cogs  gross margin percentage  gross income  \\\n",
       "0   3/8/2019  10:29    Cash   27504.0                 4.761905       1375.20   \n",
       "1  3/25/2019  18:30    Epay  215182.8                 4.761905      10759.14   \n",
       "2  2/24/2019  11:38    Epay  264816.0                 4.761905      13240.80   \n",
       "3  2/25/2019  11:24    Epay  154872.0                 4.761905       7743.60   \n",
       "4   2/6/2019  10:42    Epay  143164.8                 4.761905       7158.24   \n",
       "\n",
       "   Rating  \n",
       "0     9.6  \n",
       "1     4.1  \n",
       "2     8.0  \n",
       "3     4.8  \n",
       "4     7.5  "
      ]
     },
     "execution_count": 4,
     "metadata": {},
     "output_type": "execute_result"
    }
   ],
   "source": [
    "ph_df.head()"
   ]
  },
  {
   "cell_type": "code",
   "execution_count": 5,
   "id": "165a6376",
   "metadata": {},
   "outputs": [
    {
     "data": {
      "text/html": [
       "<div>\n",
       "<style scoped>\n",
       "    .dataframe tbody tr th:only-of-type {\n",
       "        vertical-align: middle;\n",
       "    }\n",
       "\n",
       "    .dataframe tbody tr th {\n",
       "        vertical-align: top;\n",
       "    }\n",
       "\n",
       "    .dataframe thead th {\n",
       "        text-align: right;\n",
       "    }\n",
       "</style>\n",
       "<table border=\"1\" class=\"dataframe\">\n",
       "  <thead>\n",
       "    <tr style=\"text-align: right;\">\n",
       "      <th></th>\n",
       "      <th>Invoice ID</th>\n",
       "      <th>Branch</th>\n",
       "      <th>City</th>\n",
       "      <th>Customer type</th>\n",
       "      <th>Gender</th>\n",
       "      <th>Product line</th>\n",
       "      <th>Unit price</th>\n",
       "      <th>Quantity</th>\n",
       "      <th>Tax 5%</th>\n",
       "      <th>Total</th>\n",
       "      <th>Date</th>\n",
       "      <th>Time</th>\n",
       "      <th>Payment</th>\n",
       "      <th>cogs</th>\n",
       "      <th>gross margin percentage</th>\n",
       "      <th>gross income</th>\n",
       "      <th>Rating</th>\n",
       "    </tr>\n",
       "  </thead>\n",
       "  <tbody>\n",
       "    <tr>\n",
       "      <th>0</th>\n",
       "      <td>692-92-5582</td>\n",
       "      <td>B</td>\n",
       "      <td>Abuja</td>\n",
       "      <td>Member</td>\n",
       "      <td>Female</td>\n",
       "      <td>Food and beverages</td>\n",
       "      <td>19742.4</td>\n",
       "      <td>3</td>\n",
       "      <td>2961.36</td>\n",
       "      <td>62188.56</td>\n",
       "      <td>2/20/2019</td>\n",
       "      <td>13:27</td>\n",
       "      <td>Card</td>\n",
       "      <td>59227.2</td>\n",
       "      <td>4.761905</td>\n",
       "      <td>2961.36</td>\n",
       "      <td>5.9</td>\n",
       "    </tr>\n",
       "    <tr>\n",
       "      <th>1</th>\n",
       "      <td>351-62-0822</td>\n",
       "      <td>B</td>\n",
       "      <td>Abuja</td>\n",
       "      <td>Member</td>\n",
       "      <td>Female</td>\n",
       "      <td>Fashion accessories</td>\n",
       "      <td>5212.8</td>\n",
       "      <td>4</td>\n",
       "      <td>1042.56</td>\n",
       "      <td>21893.76</td>\n",
       "      <td>2/6/2019</td>\n",
       "      <td>18:07</td>\n",
       "      <td>Epay</td>\n",
       "      <td>20851.2</td>\n",
       "      <td>4.761905</td>\n",
       "      <td>1042.56</td>\n",
       "      <td>4.5</td>\n",
       "    </tr>\n",
       "    <tr>\n",
       "      <th>2</th>\n",
       "      <td>529-56-3974</td>\n",
       "      <td>B</td>\n",
       "      <td>Abuja</td>\n",
       "      <td>Member</td>\n",
       "      <td>Male</td>\n",
       "      <td>Electronic accessories</td>\n",
       "      <td>9183.6</td>\n",
       "      <td>4</td>\n",
       "      <td>1836.72</td>\n",
       "      <td>38571.12</td>\n",
       "      <td>3/9/2019</td>\n",
       "      <td>17:03</td>\n",
       "      <td>Cash</td>\n",
       "      <td>36734.4</td>\n",
       "      <td>4.761905</td>\n",
       "      <td>1836.72</td>\n",
       "      <td>6.8</td>\n",
       "    </tr>\n",
       "    <tr>\n",
       "      <th>3</th>\n",
       "      <td>299-46-1805</td>\n",
       "      <td>B</td>\n",
       "      <td>Abuja</td>\n",
       "      <td>Member</td>\n",
       "      <td>Female</td>\n",
       "      <td>Sports and travel</td>\n",
       "      <td>33739.2</td>\n",
       "      <td>6</td>\n",
       "      <td>10121.76</td>\n",
       "      <td>212556.96</td>\n",
       "      <td>1/15/2019</td>\n",
       "      <td>16:19</td>\n",
       "      <td>Cash</td>\n",
       "      <td>202435.2</td>\n",
       "      <td>4.761905</td>\n",
       "      <td>10121.76</td>\n",
       "      <td>4.5</td>\n",
       "    </tr>\n",
       "    <tr>\n",
       "      <th>4</th>\n",
       "      <td>319-50-3348</td>\n",
       "      <td>B</td>\n",
       "      <td>Abuja</td>\n",
       "      <td>Normal</td>\n",
       "      <td>Female</td>\n",
       "      <td>Home and lifestyle</td>\n",
       "      <td>14508.0</td>\n",
       "      <td>2</td>\n",
       "      <td>1450.80</td>\n",
       "      <td>30466.80</td>\n",
       "      <td>3/11/2019</td>\n",
       "      <td>15:30</td>\n",
       "      <td>Epay</td>\n",
       "      <td>29016.0</td>\n",
       "      <td>4.761905</td>\n",
       "      <td>1450.80</td>\n",
       "      <td>4.4</td>\n",
       "    </tr>\n",
       "  </tbody>\n",
       "</table>\n",
       "</div>"
      ],
      "text/plain": [
       "    Invoice ID Branch   City Customer type  Gender            Product line  \\\n",
       "0  692-92-5582      B  Abuja        Member  Female      Food and beverages   \n",
       "1  351-62-0822      B  Abuja        Member  Female     Fashion accessories   \n",
       "2  529-56-3974      B  Abuja        Member    Male  Electronic accessories   \n",
       "3  299-46-1805      B  Abuja        Member  Female       Sports and travel   \n",
       "4  319-50-3348      B  Abuja        Normal  Female      Home and lifestyle   \n",
       "\n",
       "   Unit price  Quantity    Tax 5%      Total       Date   Time Payment  \\\n",
       "0     19742.4         3   2961.36   62188.56  2/20/2019  13:27    Card   \n",
       "1      5212.8         4   1042.56   21893.76   2/6/2019  18:07    Epay   \n",
       "2      9183.6         4   1836.72   38571.12   3/9/2019  17:03    Cash   \n",
       "3     33739.2         6  10121.76  212556.96  1/15/2019  16:19    Cash   \n",
       "4     14508.0         2   1450.80   30466.80  3/11/2019  15:30    Epay   \n",
       "\n",
       "       cogs  gross margin percentage  gross income  Rating  \n",
       "0   59227.2                 4.761905       2961.36     5.9  \n",
       "1   20851.2                 4.761905       1042.56     4.5  \n",
       "2   36734.4                 4.761905       1836.72     6.8  \n",
       "3  202435.2                 4.761905      10121.76     4.5  \n",
       "4   29016.0                 4.761905       1450.80     4.4  "
      ]
     },
     "execution_count": 5,
     "metadata": {},
     "output_type": "execute_result"
    }
   ],
   "source": [
    "abuja_df.head()"
   ]
  },
  {
   "cell_type": "code",
   "execution_count": 6,
   "id": "88eec8b2",
   "metadata": {},
   "outputs": [],
   "source": [
    "lagos_df['Id'] = 'Lagos' #vectorised"
   ]
  },
  {
   "cell_type": "code",
   "execution_count": 8,
   "id": "f45fcdff",
   "metadata": {},
   "outputs": [],
   "source": [
    "lagos_df.drop('Id', axis=1, inplace=True)"
   ]
  },
  {
   "cell_type": "code",
   "execution_count": 9,
   "id": "d22cd656",
   "metadata": {},
   "outputs": [
    {
     "data": {
      "text/html": [
       "<div>\n",
       "<style scoped>\n",
       "    .dataframe tbody tr th:only-of-type {\n",
       "        vertical-align: middle;\n",
       "    }\n",
       "\n",
       "    .dataframe tbody tr th {\n",
       "        vertical-align: top;\n",
       "    }\n",
       "\n",
       "    .dataframe thead th {\n",
       "        text-align: right;\n",
       "    }\n",
       "</style>\n",
       "<table border=\"1\" class=\"dataframe\">\n",
       "  <thead>\n",
       "    <tr style=\"text-align: right;\">\n",
       "      <th></th>\n",
       "      <th>Invoice ID</th>\n",
       "      <th>Branch</th>\n",
       "      <th>City</th>\n",
       "      <th>Customer type</th>\n",
       "      <th>Gender</th>\n",
       "      <th>Product line</th>\n",
       "      <th>Unit price</th>\n",
       "      <th>Quantity</th>\n",
       "      <th>Tax 5%</th>\n",
       "      <th>Total</th>\n",
       "      <th>Date</th>\n",
       "      <th>Time</th>\n",
       "      <th>Payment</th>\n",
       "      <th>cogs</th>\n",
       "      <th>gross margin percentage</th>\n",
       "      <th>gross income</th>\n",
       "      <th>Rating</th>\n",
       "    </tr>\n",
       "  </thead>\n",
       "  <tbody>\n",
       "    <tr>\n",
       "      <th>0</th>\n",
       "      <td>750-67-8428</td>\n",
       "      <td>A</td>\n",
       "      <td>Lagos</td>\n",
       "      <td>Member</td>\n",
       "      <td>Female</td>\n",
       "      <td>Health and beauty</td>\n",
       "      <td>26888.4</td>\n",
       "      <td>7</td>\n",
       "      <td>9410.94</td>\n",
       "      <td>197629.74</td>\n",
       "      <td>1/5/2019</td>\n",
       "      <td>13:08</td>\n",
       "      <td>Epay</td>\n",
       "      <td>188218.8</td>\n",
       "      <td>4.761905</td>\n",
       "      <td>9410.94</td>\n",
       "      <td>9.1</td>\n",
       "    </tr>\n",
       "    <tr>\n",
       "      <th>1</th>\n",
       "      <td>631-41-3108</td>\n",
       "      <td>A</td>\n",
       "      <td>Lagos</td>\n",
       "      <td>Normal</td>\n",
       "      <td>Male</td>\n",
       "      <td>Home and lifestyle</td>\n",
       "      <td>16678.8</td>\n",
       "      <td>7</td>\n",
       "      <td>5837.58</td>\n",
       "      <td>122589.18</td>\n",
       "      <td>3/3/2019</td>\n",
       "      <td>13:23</td>\n",
       "      <td>Card</td>\n",
       "      <td>116751.6</td>\n",
       "      <td>4.761905</td>\n",
       "      <td>5837.58</td>\n",
       "      <td>7.4</td>\n",
       "    </tr>\n",
       "    <tr>\n",
       "      <th>2</th>\n",
       "      <td>123-19-1176</td>\n",
       "      <td>A</td>\n",
       "      <td>Lagos</td>\n",
       "      <td>Member</td>\n",
       "      <td>Male</td>\n",
       "      <td>Health and beauty</td>\n",
       "      <td>20959.2</td>\n",
       "      <td>8</td>\n",
       "      <td>8383.68</td>\n",
       "      <td>176057.28</td>\n",
       "      <td>1/27/2019</td>\n",
       "      <td>20:33</td>\n",
       "      <td>Epay</td>\n",
       "      <td>167673.6</td>\n",
       "      <td>4.761905</td>\n",
       "      <td>8383.68</td>\n",
       "      <td>8.4</td>\n",
       "    </tr>\n",
       "    <tr>\n",
       "      <th>3</th>\n",
       "      <td>373-73-7910</td>\n",
       "      <td>A</td>\n",
       "      <td>Lagos</td>\n",
       "      <td>Normal</td>\n",
       "      <td>Male</td>\n",
       "      <td>Sports and travel</td>\n",
       "      <td>31071.6</td>\n",
       "      <td>7</td>\n",
       "      <td>10875.06</td>\n",
       "      <td>228376.26</td>\n",
       "      <td>2/8/2019</td>\n",
       "      <td>10:37</td>\n",
       "      <td>Epay</td>\n",
       "      <td>217501.2</td>\n",
       "      <td>4.761905</td>\n",
       "      <td>10875.06</td>\n",
       "      <td>5.3</td>\n",
       "    </tr>\n",
       "    <tr>\n",
       "      <th>4</th>\n",
       "      <td>355-53-5943</td>\n",
       "      <td>A</td>\n",
       "      <td>Lagos</td>\n",
       "      <td>Member</td>\n",
       "      <td>Female</td>\n",
       "      <td>Electronic accessories</td>\n",
       "      <td>24782.4</td>\n",
       "      <td>6</td>\n",
       "      <td>7434.72</td>\n",
       "      <td>156129.12</td>\n",
       "      <td>2/25/2019</td>\n",
       "      <td>14:36</td>\n",
       "      <td>Epay</td>\n",
       "      <td>148694.4</td>\n",
       "      <td>4.761905</td>\n",
       "      <td>7434.72</td>\n",
       "      <td>5.8</td>\n",
       "    </tr>\n",
       "  </tbody>\n",
       "</table>\n",
       "</div>"
      ],
      "text/plain": [
       "    Invoice ID Branch   City Customer type  Gender            Product line  \\\n",
       "0  750-67-8428      A  Lagos        Member  Female       Health and beauty   \n",
       "1  631-41-3108      A  Lagos        Normal    Male      Home and lifestyle   \n",
       "2  123-19-1176      A  Lagos        Member    Male       Health and beauty   \n",
       "3  373-73-7910      A  Lagos        Normal    Male       Sports and travel   \n",
       "4  355-53-5943      A  Lagos        Member  Female  Electronic accessories   \n",
       "\n",
       "   Unit price  Quantity    Tax 5%      Total       Date   Time Payment  \\\n",
       "0     26888.4         7   9410.94  197629.74   1/5/2019  13:08    Epay   \n",
       "1     16678.8         7   5837.58  122589.18   3/3/2019  13:23    Card   \n",
       "2     20959.2         8   8383.68  176057.28  1/27/2019  20:33    Epay   \n",
       "3     31071.6         7  10875.06  228376.26   2/8/2019  10:37    Epay   \n",
       "4     24782.4         6   7434.72  156129.12  2/25/2019  14:36    Epay   \n",
       "\n",
       "       cogs  gross margin percentage  gross income  Rating  \n",
       "0  188218.8                 4.761905       9410.94     9.1  \n",
       "1  116751.6                 4.761905       5837.58     7.4  \n",
       "2  167673.6                 4.761905       8383.68     8.4  \n",
       "3  217501.2                 4.761905      10875.06     5.3  \n",
       "4  148694.4                 4.761905       7434.72     5.8  "
      ]
     },
     "execution_count": 9,
     "metadata": {},
     "output_type": "execute_result"
    }
   ],
   "source": [
    "lagos_df.head()"
   ]
  },
  {
   "cell_type": "code",
   "execution_count": 10,
   "id": "950bc111",
   "metadata": {},
   "outputs": [],
   "source": [
    "comb_df = pd.concat([lagos_df, abuja_df, ph_df], ignore_index = True)"
   ]
  },
  {
   "cell_type": "code",
   "execution_count": 11,
   "id": "97f7c295",
   "metadata": {
    "scrolled": true
   },
   "outputs": [
    {
     "data": {
      "text/html": [
       "<div>\n",
       "<style scoped>\n",
       "    .dataframe tbody tr th:only-of-type {\n",
       "        vertical-align: middle;\n",
       "    }\n",
       "\n",
       "    .dataframe tbody tr th {\n",
       "        vertical-align: top;\n",
       "    }\n",
       "\n",
       "    .dataframe thead th {\n",
       "        text-align: right;\n",
       "    }\n",
       "</style>\n",
       "<table border=\"1\" class=\"dataframe\">\n",
       "  <thead>\n",
       "    <tr style=\"text-align: right;\">\n",
       "      <th></th>\n",
       "      <th>Invoice ID</th>\n",
       "      <th>Branch</th>\n",
       "      <th>City</th>\n",
       "      <th>Customer type</th>\n",
       "      <th>Gender</th>\n",
       "      <th>Product line</th>\n",
       "      <th>Unit price</th>\n",
       "      <th>Quantity</th>\n",
       "      <th>Tax 5%</th>\n",
       "      <th>Total</th>\n",
       "      <th>Date</th>\n",
       "      <th>Time</th>\n",
       "      <th>Payment</th>\n",
       "      <th>cogs</th>\n",
       "      <th>gross margin percentage</th>\n",
       "      <th>gross income</th>\n",
       "      <th>Rating</th>\n",
       "    </tr>\n",
       "  </thead>\n",
       "  <tbody>\n",
       "    <tr>\n",
       "      <th>0</th>\n",
       "      <td>750-67-8428</td>\n",
       "      <td>A</td>\n",
       "      <td>Lagos</td>\n",
       "      <td>Member</td>\n",
       "      <td>Female</td>\n",
       "      <td>Health and beauty</td>\n",
       "      <td>26888.4</td>\n",
       "      <td>7</td>\n",
       "      <td>9410.94</td>\n",
       "      <td>197629.74</td>\n",
       "      <td>1/5/2019</td>\n",
       "      <td>13:08</td>\n",
       "      <td>Epay</td>\n",
       "      <td>188218.8</td>\n",
       "      <td>4.761905</td>\n",
       "      <td>9410.94</td>\n",
       "      <td>9.1</td>\n",
       "    </tr>\n",
       "    <tr>\n",
       "      <th>1</th>\n",
       "      <td>631-41-3108</td>\n",
       "      <td>A</td>\n",
       "      <td>Lagos</td>\n",
       "      <td>Normal</td>\n",
       "      <td>Male</td>\n",
       "      <td>Home and lifestyle</td>\n",
       "      <td>16678.8</td>\n",
       "      <td>7</td>\n",
       "      <td>5837.58</td>\n",
       "      <td>122589.18</td>\n",
       "      <td>3/3/2019</td>\n",
       "      <td>13:23</td>\n",
       "      <td>Card</td>\n",
       "      <td>116751.6</td>\n",
       "      <td>4.761905</td>\n",
       "      <td>5837.58</td>\n",
       "      <td>7.4</td>\n",
       "    </tr>\n",
       "    <tr>\n",
       "      <th>2</th>\n",
       "      <td>123-19-1176</td>\n",
       "      <td>A</td>\n",
       "      <td>Lagos</td>\n",
       "      <td>Member</td>\n",
       "      <td>Male</td>\n",
       "      <td>Health and beauty</td>\n",
       "      <td>20959.2</td>\n",
       "      <td>8</td>\n",
       "      <td>8383.68</td>\n",
       "      <td>176057.28</td>\n",
       "      <td>1/27/2019</td>\n",
       "      <td>20:33</td>\n",
       "      <td>Epay</td>\n",
       "      <td>167673.6</td>\n",
       "      <td>4.761905</td>\n",
       "      <td>8383.68</td>\n",
       "      <td>8.4</td>\n",
       "    </tr>\n",
       "    <tr>\n",
       "      <th>3</th>\n",
       "      <td>373-73-7910</td>\n",
       "      <td>A</td>\n",
       "      <td>Lagos</td>\n",
       "      <td>Normal</td>\n",
       "      <td>Male</td>\n",
       "      <td>Sports and travel</td>\n",
       "      <td>31071.6</td>\n",
       "      <td>7</td>\n",
       "      <td>10875.06</td>\n",
       "      <td>228376.26</td>\n",
       "      <td>2/8/2019</td>\n",
       "      <td>10:37</td>\n",
       "      <td>Epay</td>\n",
       "      <td>217501.2</td>\n",
       "      <td>4.761905</td>\n",
       "      <td>10875.06</td>\n",
       "      <td>5.3</td>\n",
       "    </tr>\n",
       "    <tr>\n",
       "      <th>4</th>\n",
       "      <td>355-53-5943</td>\n",
       "      <td>A</td>\n",
       "      <td>Lagos</td>\n",
       "      <td>Member</td>\n",
       "      <td>Female</td>\n",
       "      <td>Electronic accessories</td>\n",
       "      <td>24782.4</td>\n",
       "      <td>6</td>\n",
       "      <td>7434.72</td>\n",
       "      <td>156129.12</td>\n",
       "      <td>2/25/2019</td>\n",
       "      <td>14:36</td>\n",
       "      <td>Epay</td>\n",
       "      <td>148694.4</td>\n",
       "      <td>4.761905</td>\n",
       "      <td>7434.72</td>\n",
       "      <td>5.8</td>\n",
       "    </tr>\n",
       "  </tbody>\n",
       "</table>\n",
       "</div>"
      ],
      "text/plain": [
       "    Invoice ID Branch   City Customer type  Gender            Product line  \\\n",
       "0  750-67-8428      A  Lagos        Member  Female       Health and beauty   \n",
       "1  631-41-3108      A  Lagos        Normal    Male      Home and lifestyle   \n",
       "2  123-19-1176      A  Lagos        Member    Male       Health and beauty   \n",
       "3  373-73-7910      A  Lagos        Normal    Male       Sports and travel   \n",
       "4  355-53-5943      A  Lagos        Member  Female  Electronic accessories   \n",
       "\n",
       "   Unit price  Quantity    Tax 5%      Total       Date   Time Payment  \\\n",
       "0     26888.4         7   9410.94  197629.74   1/5/2019  13:08    Epay   \n",
       "1     16678.8         7   5837.58  122589.18   3/3/2019  13:23    Card   \n",
       "2     20959.2         8   8383.68  176057.28  1/27/2019  20:33    Epay   \n",
       "3     31071.6         7  10875.06  228376.26   2/8/2019  10:37    Epay   \n",
       "4     24782.4         6   7434.72  156129.12  2/25/2019  14:36    Epay   \n",
       "\n",
       "       cogs  gross margin percentage  gross income  Rating  \n",
       "0  188218.8                 4.761905       9410.94     9.1  \n",
       "1  116751.6                 4.761905       5837.58     7.4  \n",
       "2  167673.6                 4.761905       8383.68     8.4  \n",
       "3  217501.2                 4.761905      10875.06     5.3  \n",
       "4  148694.4                 4.761905       7434.72     5.8  "
      ]
     },
     "execution_count": 11,
     "metadata": {},
     "output_type": "execute_result"
    }
   ],
   "source": [
    "comb_df.head()"
   ]
  },
  {
   "cell_type": "code",
   "execution_count": 12,
   "id": "5da4936d",
   "metadata": {},
   "outputs": [
    {
     "data": {
      "text/plain": [
       "(328, 17)"
      ]
     },
     "execution_count": 12,
     "metadata": {},
     "output_type": "execute_result"
    }
   ],
   "source": [
    "# PH\n",
    "comb_df.loc[comb_df.Branch == 'C'].shape"
   ]
  },
  {
   "cell_type": "code",
   "execution_count": 13,
   "id": "1cbc00bd",
   "metadata": {},
   "outputs": [
    {
     "data": {
      "text/plain": [
       "(340, 17)"
      ]
     },
     "execution_count": 13,
     "metadata": {},
     "output_type": "execute_result"
    }
   ],
   "source": [
    "# Lagos\n",
    "comb_df[comb_df['Branch'] == 'A'].shape"
   ]
  },
  {
   "cell_type": "code",
   "execution_count": 14,
   "id": "e13e9cd3",
   "metadata": {},
   "outputs": [
    {
     "data": {
      "text/plain": [
       "(332, 17)"
      ]
     },
     "execution_count": 14,
     "metadata": {},
     "output_type": "execute_result"
    }
   ],
   "source": [
    "# Abuja\n",
    "comb_df[comb_df['Branch'] == 'B'].shape"
   ]
  },
  {
   "cell_type": "code",
   "execution_count": 15,
   "id": "fe7ea824",
   "metadata": {},
   "outputs": [
    {
     "data": {
      "text/plain": [
       "(1000, 17)"
      ]
     },
     "execution_count": 15,
     "metadata": {},
     "output_type": "execute_result"
    }
   ],
   "source": [
    "comb_df.shape"
   ]
  },
  {
   "cell_type": "markdown",
   "id": "0c8eb180",
   "metadata": {},
   "source": [
    "The no of rows of data for each branch is \n",
    "\n",
    "- Lagos - 340\n",
    "- Abuja - 332\n",
    "- PH - 328"
   ]
  },
  {
   "cell_type": "code",
   "execution_count": 16,
   "id": "ad361fb6",
   "metadata": {},
   "outputs": [
    {
     "data": {
      "text/plain": [
       "Index(['Invoice ID', 'Branch', 'City', 'Customer type', 'Gender',\n",
       "       'Product line', 'Unit price', 'Quantity', 'Tax 5%', 'Total', 'Date',\n",
       "       'Time', 'Payment', 'cogs', 'gross margin percentage', 'gross income',\n",
       "       'Rating'],\n",
       "      dtype='object')"
      ]
     },
     "execution_count": 16,
     "metadata": {},
     "output_type": "execute_result"
    }
   ],
   "source": [
    "comb_df.columns"
   ]
  },
  {
   "cell_type": "code",
   "execution_count": 17,
   "id": "d2de6956",
   "metadata": {},
   "outputs": [
    {
     "name": "stdout",
     "output_type": "stream",
     "text": [
      "<class 'pandas.core.frame.DataFrame'>\n",
      "RangeIndex: 1000 entries, 0 to 999\n",
      "Data columns (total 17 columns):\n",
      " #   Column                   Non-Null Count  Dtype  \n",
      "---  ------                   --------------  -----  \n",
      " 0   Invoice ID               1000 non-null   object \n",
      " 1   Branch                   1000 non-null   object \n",
      " 2   City                     1000 non-null   object \n",
      " 3   Customer type            1000 non-null   object \n",
      " 4   Gender                   1000 non-null   object \n",
      " 5   Product line             1000 non-null   object \n",
      " 6   Unit price               1000 non-null   float64\n",
      " 7   Quantity                 1000 non-null   int64  \n",
      " 8   Tax 5%                   1000 non-null   float64\n",
      " 9   Total                    1000 non-null   float64\n",
      " 10  Date                     1000 non-null   object \n",
      " 11  Time                     1000 non-null   object \n",
      " 12  Payment                  1000 non-null   object \n",
      " 13  cogs                     1000 non-null   float64\n",
      " 14  gross margin percentage  1000 non-null   float64\n",
      " 15  gross income             1000 non-null   float64\n",
      " 16  Rating                   1000 non-null   float64\n",
      "dtypes: float64(7), int64(1), object(9)\n",
      "memory usage: 132.9+ KB\n"
     ]
    }
   ],
   "source": [
    "comb_df.info()"
   ]
  },
  {
   "cell_type": "markdown",
   "id": "d40775e1",
   "metadata": {},
   "source": [
    "#### Todo\n",
    "\n",
    "1. Combine the date and time column into a single column \n",
    "\n",
    "2. Cast the column to a datetime column\n",
    "\n",
    "3. Rename Payment to Payment Type "
   ]
  },
  {
   "cell_type": "code",
   "execution_count": 12,
   "id": "825ada6b",
   "metadata": {},
   "outputs": [
    {
     "data": {
      "text/html": [
       "<div>\n",
       "<style scoped>\n",
       "    .dataframe tbody tr th:only-of-type {\n",
       "        vertical-align: middle;\n",
       "    }\n",
       "\n",
       "    .dataframe tbody tr th {\n",
       "        vertical-align: top;\n",
       "    }\n",
       "\n",
       "    .dataframe thead th {\n",
       "        text-align: right;\n",
       "    }\n",
       "</style>\n",
       "<table border=\"1\" class=\"dataframe\">\n",
       "  <thead>\n",
       "    <tr style=\"text-align: right;\">\n",
       "      <th></th>\n",
       "      <th>Unit price</th>\n",
       "      <th>Quantity</th>\n",
       "      <th>Tax 5%</th>\n",
       "      <th>Total</th>\n",
       "      <th>cogs</th>\n",
       "      <th>gross margin percentage</th>\n",
       "      <th>gross income</th>\n",
       "      <th>Rating</th>\n",
       "    </tr>\n",
       "  </thead>\n",
       "  <tbody>\n",
       "    <tr>\n",
       "      <th>count</th>\n",
       "      <td>1000.000000</td>\n",
       "      <td>1000.000000</td>\n",
       "      <td>1000.000000</td>\n",
       "      <td>1000.000000</td>\n",
       "      <td>1000.000000</td>\n",
       "      <td>1000.000000</td>\n",
       "      <td>1000.000000</td>\n",
       "      <td>1000.00000</td>\n",
       "    </tr>\n",
       "    <tr>\n",
       "      <th>mean</th>\n",
       "      <td>20041.966800</td>\n",
       "      <td>5.510000</td>\n",
       "      <td>5536.572840</td>\n",
       "      <td>116268.029640</td>\n",
       "      <td>110731.456800</td>\n",
       "      <td>4.761905</td>\n",
       "      <td>5536.572840</td>\n",
       "      <td>6.97270</td>\n",
       "    </tr>\n",
       "    <tr>\n",
       "      <th>std</th>\n",
       "      <td>9538.066205</td>\n",
       "      <td>2.923431</td>\n",
       "      <td>4215.177173</td>\n",
       "      <td>88518.720636</td>\n",
       "      <td>84303.543463</td>\n",
       "      <td>0.000000</td>\n",
       "      <td>4215.177173</td>\n",
       "      <td>1.71858</td>\n",
       "    </tr>\n",
       "    <tr>\n",
       "      <th>min</th>\n",
       "      <td>3628.800000</td>\n",
       "      <td>1.000000</td>\n",
       "      <td>183.060000</td>\n",
       "      <td>3844.260000</td>\n",
       "      <td>3661.200000</td>\n",
       "      <td>4.761905</td>\n",
       "      <td>183.060000</td>\n",
       "      <td>4.00000</td>\n",
       "    </tr>\n",
       "    <tr>\n",
       "      <th>25%</th>\n",
       "      <td>11835.000000</td>\n",
       "      <td>3.000000</td>\n",
       "      <td>2132.955000</td>\n",
       "      <td>44792.055000</td>\n",
       "      <td>42659.100000</td>\n",
       "      <td>4.761905</td>\n",
       "      <td>2132.955000</td>\n",
       "      <td>5.50000</td>\n",
       "    </tr>\n",
       "    <tr>\n",
       "      <th>50%</th>\n",
       "      <td>19882.800000</td>\n",
       "      <td>5.000000</td>\n",
       "      <td>4351.680000</td>\n",
       "      <td>91385.280000</td>\n",
       "      <td>87033.600000</td>\n",
       "      <td>4.761905</td>\n",
       "      <td>4351.680000</td>\n",
       "      <td>7.00000</td>\n",
       "    </tr>\n",
       "    <tr>\n",
       "      <th>75%</th>\n",
       "      <td>28056.600000</td>\n",
       "      <td>8.000000</td>\n",
       "      <td>8080.290000</td>\n",
       "      <td>169686.090000</td>\n",
       "      <td>161605.800000</td>\n",
       "      <td>4.761905</td>\n",
       "      <td>8080.290000</td>\n",
       "      <td>8.50000</td>\n",
       "    </tr>\n",
       "    <tr>\n",
       "      <th>max</th>\n",
       "      <td>35985.600000</td>\n",
       "      <td>10.000000</td>\n",
       "      <td>17874.000000</td>\n",
       "      <td>375354.000000</td>\n",
       "      <td>357480.000000</td>\n",
       "      <td>4.761905</td>\n",
       "      <td>17874.000000</td>\n",
       "      <td>10.00000</td>\n",
       "    </tr>\n",
       "  </tbody>\n",
       "</table>\n",
       "</div>"
      ],
      "text/plain": [
       "         Unit price     Quantity        Tax 5%          Total           cogs  \\\n",
       "count   1000.000000  1000.000000   1000.000000    1000.000000    1000.000000   \n",
       "mean   20041.966800     5.510000   5536.572840  116268.029640  110731.456800   \n",
       "std     9538.066205     2.923431   4215.177173   88518.720636   84303.543463   \n",
       "min     3628.800000     1.000000    183.060000    3844.260000    3661.200000   \n",
       "25%    11835.000000     3.000000   2132.955000   44792.055000   42659.100000   \n",
       "50%    19882.800000     5.000000   4351.680000   91385.280000   87033.600000   \n",
       "75%    28056.600000     8.000000   8080.290000  169686.090000  161605.800000   \n",
       "max    35985.600000    10.000000  17874.000000  375354.000000  357480.000000   \n",
       "\n",
       "       gross margin percentage  gross income      Rating  \n",
       "count              1000.000000   1000.000000  1000.00000  \n",
       "mean                  4.761905   5536.572840     6.97270  \n",
       "std                   0.000000   4215.177173     1.71858  \n",
       "min                   4.761905    183.060000     4.00000  \n",
       "25%                   4.761905   2132.955000     5.50000  \n",
       "50%                   4.761905   4351.680000     7.00000  \n",
       "75%                   4.761905   8080.290000     8.50000  \n",
       "max                   4.761905  17874.000000    10.00000  "
      ]
     },
     "execution_count": 12,
     "metadata": {},
     "output_type": "execute_result"
    }
   ],
   "source": [
    "comb_df.describe() # summary/descriptive stats"
   ]
  },
  {
   "cell_type": "code",
   "execution_count": 13,
   "id": "5c849dc1",
   "metadata": {},
   "outputs": [],
   "source": [
    "## categorize columns into measures/dimensions or num col/cat col\n",
    "\n",
    "measures = [i for i in comb_df.select_dtypes(include=['int64', 'float64']).columns]\n",
    "dimensions = [i for i in comb_df.select_dtypes(include=['object']).columns]"
   ]
  },
  {
   "cell_type": "code",
   "execution_count": 14,
   "id": "f65aad38",
   "metadata": {},
   "outputs": [
    {
     "data": {
      "text/plain": [
       "['Unit price',\n",
       " 'Quantity',\n",
       " 'Tax 5%',\n",
       " 'Total',\n",
       " 'cogs',\n",
       " 'gross margin percentage',\n",
       " 'gross income',\n",
       " 'Rating']"
      ]
     },
     "execution_count": 14,
     "metadata": {},
     "output_type": "execute_result"
    }
   ],
   "source": [
    "measures"
   ]
  },
  {
   "cell_type": "code",
   "execution_count": 15,
   "id": "fdc3f3be",
   "metadata": {},
   "outputs": [
    {
     "data": {
      "text/plain": [
       "['Invoice ID',\n",
       " 'Branch',\n",
       " 'City',\n",
       " 'Customer type',\n",
       " 'Gender',\n",
       " 'Product line',\n",
       " 'Date',\n",
       " 'Time',\n",
       " 'Payment']"
      ]
     },
     "execution_count": 15,
     "metadata": {},
     "output_type": "execute_result"
    }
   ],
   "source": [
    "dimensions"
   ]
  },
  {
   "cell_type": "code",
   "execution_count": 18,
   "id": "632cc48e",
   "metadata": {},
   "outputs": [],
   "source": [
    "# util data distribution visualization functions\n",
    "\n",
    "def draw_hist(df, col):\n",
    "    plt.hist(df[col], color='grey', edgecolor='black')\n",
    "    plt.title(f'Histogram plot of {col}')\n",
    "    plt.xlabel(col)\n",
    "    plt.ylabel('Frequency')\n",
    "    plt.show()\n",
    "    \n",
    "def draw_count_plot(df, col):\n",
    "    sb.countplot(y=col, data=df, palette='Greys_r')\n",
    "    plt.title(f'Countplot of {col}')\n",
    "    plt.show()\n"
   ]
  },
  {
   "cell_type": "code",
   "execution_count": 17,
   "id": "8a5d8dde",
   "metadata": {},
   "outputs": [
    {
     "data": {
      "image/png": "[encoded data removed]",
      "text/plain": [
       "<Figure size 640x480 with 1 Axes>"
      ]
     },
     "metadata": {},
     "output_type": "display_data"
    },
    {
     "data": {
      "image/png": "[encoded data removed]",
      "text/plain": [
       "<Figure size 640x480 with 1 Axes>"
      ]
     },
     "metadata": {},
     "output_type": "display_data"
    },
    {
     "data": {
      "image/png": "[encoded data removed]",
      "text/plain": [
       "<Figure size 640x480 with 1 Axes>"
      ]
     },
     "metadata": {},
     "output_type": "display_data"
    },
    {
     "data": {
      "image/png": "[encoded data removed]",
      "text/plain": [
       "<Figure size 640x480 with 1 Axes>"
      ]
     },
     "metadata": {},
     "output_type": "display_data"
    },
    {
     "data": {
      "image/png": "[encoded data removed]",
      "text/plain": [
       "<Figure size 640x480 with 1 Axes>"
      ]
     },
     "metadata": {},
     "output_type": "display_data"
    },
    {
     "data": {
      "image/png": "[encoded data removed]",
      "text/plain": [
       "<Figure size 640x480 with 1 Axes>"
      ]
     },
     "metadata": {},
     "output_type": "display_data"
    },
    {
     "data": {
      "image/png": "[encoded data removed]",
      "text/plain": [
       "<Figure size 640x480 with 1 Axes>"
      ]
     },
     "metadata": {},
     "output_type": "display_data"
    },
    {
     "data": {
      "image/png": "[encoded data removed]",
      "text/plain": [
       "<Figure size 640x480 with 1 Axes>"
      ]
     },
     "metadata": {},
     "output_type": "display_data"
    }
   ],
   "source": [
    "# Histogram plot of each measure column\n",
    "\n",
    "for column in measures:\n",
    "    draw_hist(comb_df, column)"
   ]
  },
  {
   "cell_type": "markdown",
   "id": "62d2f739",
   "metadata": {},
   "source": [
    "#### What we found\n",
    "\n",
    "-  Rating, unit price and Quantity show a distribution that is almost uniform \n",
    "\n",
    "- The other colimns show a distribution that is right-skewed - more values on the left than on the right"
   ]
  },
  {
   "cell_type": "code",
   "execution_count": 19,
   "id": "204a2da0",
   "metadata": {},
   "outputs": [],
   "source": [
    "dimensions.remove('Date')\n",
    "dimensions.remove('Time')"
   ]
  },
  {
   "cell_type": "code",
   "execution_count": 21,
   "id": "10311f8f",
   "metadata": {},
   "outputs": [
    {
     "data": {
      "text/plain": [
       "['Invoice ID',\n",
       " 'Branch',\n",
       " 'City',\n",
       " 'Customer type',\n",
       " 'Gender',\n",
       " 'Product line',\n",
       " 'Payment']"
      ]
     },
     "execution_count": 21,
     "metadata": {},
     "output_type": "execute_result"
    }
   ],
   "source": [
    "dimensions"
   ]
  },
  {
   "cell_type": "code",
   "execution_count": 22,
   "id": "2d537fe8",
   "metadata": {},
   "outputs": [
    {
     "data": {
      "image/png": "[encoded data removed]",
      "text/plain": [
       "<Figure size 640x480 with 1 Axes>"
      ]
     },
     "metadata": {},
     "output_type": "display_data"
    },
    {
     "data": {
      "image/png": "[encoded data removed]",
      "text/plain": [
       "<Figure size 640x480 with 1 Axes>"
      ]
     },
     "metadata": {},
     "output_type": "display_data"
    },
    {
     "data": {
      "image/png": "[encoded data removed]",
      "text/plain": [
       "<Figure size 640x480 with 1 Axes>"
      ]
     },
     "metadata": {},
     "output_type": "display_data"
    },
    {
     "data": {
      "image/png": "[encoded data removed]",
      "text/plain": [
       "<Figure size 640x480 with 1 Axes>"
      ]
     },
     "metadata": {},
     "output_type": "display_data"
    },
    {
     "data": {
      "image/png": "[encoded data removed]",
      "text/plain": [
       "<Figure size 640x480 with 1 Axes>"
      ]
     },
     "metadata": {},
     "output_type": "display_data"
    },
    {
     "data": {
      "image/png": "[encoded data removed]",
      "text/plain": [
       "<Figure size 640x480 with 1 Axes>"
      ]
     },
     "metadata": {},
     "output_type": "display_data"
    },
    {
     "data": {
      "image/png": "[encoded data removed]",
      "text/plain": [
       "<Figure size 640x480 with 1 Axes>"
      ]
     },
     "metadata": {},
     "output_type": "display_data"
    }
   ],
   "source": [
    "for column in dimensions:\n",
    "    draw_count_plot(comb_df, column)"
   ]
  },
  {
   "cell_type": "code",
   "execution_count": 25,
   "id": "37e9d58d",
   "metadata": {},
   "outputs": [
    {
     "name": "stdout",
     "output_type": "stream",
     "text": [
      "Invoice ID\n",
      "750-67-8428    1\n",
      "303-96-2227    1\n",
      "746-04-1077    1\n",
      "448-34-8700    1\n",
      "452-04-8808    1\n",
      "              ..\n",
      "347-56-2442    1\n",
      "849-09-3807    1\n",
      "692-92-5582    1\n",
      "351-62-0822    1\n",
      "233-67-5758    1\n",
      "Name: count, Length: 1000, dtype: int64\n",
      "Branch\n",
      "A    340\n",
      "B    332\n",
      "C    328\n",
      "Name: count, dtype: int64\n",
      "City\n",
      "Lagos            340\n",
      "Abuja            332\n",
      "Port Harcourt    328\n",
      "Name: count, dtype: int64\n",
      "Customer type\n",
      "Member    501\n",
      "Normal    499\n",
      "Name: count, dtype: int64\n",
      "Gender\n",
      "Female    501\n",
      "Male      499\n",
      "Name: count, dtype: int64\n",
      "Product line\n",
      "Fashion accessories       178\n",
      "Food and beverages        174\n",
      "Electronic accessories    170\n",
      "Sports and travel         166\n",
      "Home and lifestyle        160\n",
      "Health and beauty         152\n",
      "Name: count, dtype: int64\n",
      "Payment\n",
      "Epay    345\n",
      "Cash    344\n",
      "Card    311\n",
      "Name: count, dtype: int64\n"
     ]
    }
   ],
   "source": [
    "for column in dimensions:\n",
    "    print(comb_df[column].value_counts())"
   ]
  },
  {
   "cell_type": "markdown",
   "id": "5acf5d1a",
   "metadata": {},
   "source": [
    "#### Data Cleaning\n",
    "\n",
    "- Duplicate values\n",
    "\n",
    "- Null values\n",
    "\n",
    "- Incorrect data types and inconsistencies\n",
    "\n",
    "- Rename columns"
   ]
  },
  {
   "cell_type": "code",
   "execution_count": 29,
   "id": "d1c58509",
   "metadata": {},
   "outputs": [
    {
     "data": {
      "text/plain": [
       "0"
      ]
     },
     "execution_count": 29,
     "metadata": {},
     "output_type": "execute_result"
    }
   ],
   "source": [
    "comb_df.duplicated().sum()"
   ]
  },
  {
   "cell_type": "code",
   "execution_count": null,
   "id": "ed8f4572",
   "metadata": {},
   "outputs": [],
   "source": [
    "comb_df.drop_duplicates(inplace=True)"
   ]
  },
  {
   "cell_type": "code",
   "execution_count": 31,
   "id": "73e0152a",
   "metadata": {},
   "outputs": [],
   "source": [
    "duplicate_rows = comb_df[comb_df.duplicated()]"
   ]
  },
  {
   "cell_type": "code",
   "execution_count": 32,
   "id": "9b7529cf",
   "metadata": {},
   "outputs": [
    {
     "data": {
      "text/html": [
       "<div>\n",
       "<style scoped>\n",
       "    .dataframe tbody tr th:only-of-type {\n",
       "        vertical-align: middle;\n",
       "    }\n",
       "\n",
       "    .dataframe tbody tr th {\n",
       "        vertical-align: top;\n",
       "    }\n",
       "\n",
       "    .dataframe thead th {\n",
       "        text-align: right;\n",
       "    }\n",
       "</style>\n",
       "<table border=\"1\" class=\"dataframe\">\n",
       "  <thead>\n",
       "    <tr style=\"text-align: right;\">\n",
       "      <th></th>\n",
       "      <th>Invoice ID</th>\n",
       "      <th>Branch</th>\n",
       "      <th>City</th>\n",
       "      <th>Customer type</th>\n",
       "      <th>Gender</th>\n",
       "      <th>Product line</th>\n",
       "      <th>Unit price</th>\n",
       "      <th>Quantity</th>\n",
       "      <th>Tax 5%</th>\n",
       "      <th>Total</th>\n",
       "      <th>Date</th>\n",
       "      <th>Time</th>\n",
       "      <th>Payment</th>\n",
       "      <th>cogs</th>\n",
       "      <th>gross margin percentage</th>\n",
       "      <th>gross income</th>\n",
       "      <th>Rating</th>\n",
       "    </tr>\n",
       "  </thead>\n",
       "  <tbody>\n",
       "  </tbody>\n",
       "</table>\n",
       "</div>"
      ],
      "text/plain": [
       "Empty DataFrame\n",
       "Columns: [Invoice ID, Branch, City, Customer type, Gender, Product line, Unit price, Quantity, Tax 5%, Total, Date, Time, Payment, cogs, gross margin percentage, gross income, Rating]\n",
       "Index: []"
      ]
     },
     "execution_count": 32,
     "metadata": {},
     "output_type": "execute_result"
    }
   ],
   "source": [
    "duplicate_rows"
   ]
  },
  {
   "cell_type": "code",
   "execution_count": 33,
   "id": "f6a08b6e",
   "metadata": {},
   "outputs": [
    {
     "data": {
      "text/plain": [
       "Invoice ID                 0\n",
       "Branch                     0\n",
       "City                       0\n",
       "Customer type              0\n",
       "Gender                     0\n",
       "Product line               0\n",
       "Unit price                 0\n",
       "Quantity                   0\n",
       "Tax 5%                     0\n",
       "Total                      0\n",
       "Date                       0\n",
       "Time                       0\n",
       "Payment                    0\n",
       "cogs                       0\n",
       "gross margin percentage    0\n",
       "gross income               0\n",
       "Rating                     0\n",
       "dtype: int64"
      ]
     },
     "execution_count": 33,
     "metadata": {},
     "output_type": "execute_result"
    }
   ],
   "source": [
    "comb_df.isnull().sum()"
   ]
  },
  {
   "cell_type": "code",
   "execution_count": 35,
   "id": "f988adb5",
   "metadata": {},
   "outputs": [
    {
     "data": {
      "text/plain": [
       "Invoice ID                 0.0\n",
       "Branch                     0.0\n",
       "City                       0.0\n",
       "Customer type              0.0\n",
       "Gender                     0.0\n",
       "Product line               0.0\n",
       "Unit price                 0.0\n",
       "Quantity                   0.0\n",
       "Tax 5%                     0.0\n",
       "Total                      0.0\n",
       "Date                       0.0\n",
       "Time                       0.0\n",
       "Payment                    0.0\n",
       "cogs                       0.0\n",
       "gross margin percentage    0.0\n",
       "gross income               0.0\n",
       "Rating                     0.0\n",
       "dtype: float64"
      ]
     },
     "execution_count": 35,
     "metadata": {},
     "output_type": "execute_result"
    }
   ],
   "source": [
    "(comb_df.isna().sum() / len(comb_df)) * 100"
   ]
  },
  {
   "cell_type": "markdown",
   "id": "cb6b1153",
   "metadata": {},
   "source": [
    "#### Treating null values\n",
    "\n",
    "- Drop the row/column\n",
    "\n",
    "- Fill in the null values"
   ]
  },
  {
   "cell_type": "code",
   "execution_count": 36,
   "id": "679420f2",
   "metadata": {},
   "outputs": [],
   "source": [
    "# Assuming Invoice Id has a lot of null values\n",
    "\n",
    "# Dropping the column assuming a lot of null values\n",
    "comb_df.drop('Invoice ID', axis=1, inplace=True)"
   ]
  },
  {
   "cell_type": "code",
   "execution_count": 37,
   "id": "ddcfeeb6",
   "metadata": {},
   "outputs": [
    {
     "data": {
      "text/plain": [
       "Index(['Branch', 'City', 'Customer type', 'Gender', 'Product line',\n",
       "       'Unit price', 'Quantity', 'Tax 5%', 'Total', 'Date', 'Time', 'Payment',\n",
       "       'cogs', 'gross margin percentage', 'gross income', 'Rating'],\n",
       "      dtype='object')"
      ]
     },
     "execution_count": 37,
     "metadata": {},
     "output_type": "execute_result"
    }
   ],
   "source": [
    "comb_df.columns"
   ]
  },
  {
   "cell_type": "code",
   "execution_count": 40,
   "id": "06b93a6b",
   "metadata": {},
   "outputs": [],
   "source": [
    "comb_df.dropna(axis=0, how='all',inplace=True)"
   ]
  },
  {
   "cell_type": "code",
   "execution_count": 42,
   "id": "4fbc66c6",
   "metadata": {},
   "outputs": [],
   "source": [
    "comb_df['Total'] = comb_df['Total'].fillna(comb_df['Total'].mean())"
   ]
  },
  {
   "cell_type": "code",
   "execution_count": 46,
   "id": "65374b7f",
   "metadata": {},
   "outputs": [],
   "source": [
    "## rename function\n",
    "\n",
    "def rename_col(df, prev_name, new_name):\n",
    "    df.rename(columns={prev_name : new_name}, inplace=True)"
   ]
  },
  {
   "cell_type": "code",
   "execution_count": 47,
   "id": "0bc8418b",
   "metadata": {},
   "outputs": [],
   "source": [
    "rename_col(comb_df, 'Payment', 'Payment Type')"
   ]
  },
  {
   "cell_type": "code",
   "execution_count": 48,
   "id": "7eea8465",
   "metadata": {},
   "outputs": [
    {
     "data": {
      "text/plain": [
       "Index(['Branch', 'City', 'Customer type', 'Gender', 'Product line',\n",
       "       'Unit price', 'Quantity', 'Tax 5%', 'Total', 'Date', 'Time',\n",
       "       'Payment Type', 'cogs', 'gross margin percentage', 'gross income',\n",
       "       'Rating'],\n",
       "      dtype='object')"
      ]
     },
     "execution_count": 48,
     "metadata": {},
     "output_type": "execute_result"
    }
   ],
   "source": [
    "comb_df.columns"
   ]
  },
  {
   "cell_type": "code",
   "execution_count": 50,
   "id": "90c02d47",
   "metadata": {},
   "outputs": [
    {
     "data": {
      "text/html": [
       "<div>\n",
       "<style scoped>\n",
       "    .dataframe tbody tr th:only-of-type {\n",
       "        vertical-align: middle;\n",
       "    }\n",
       "\n",
       "    .dataframe tbody tr th {\n",
       "        vertical-align: top;\n",
       "    }\n",
       "\n",
       "    .dataframe thead th {\n",
       "        text-align: right;\n",
       "    }\n",
       "</style>\n",
       "<table border=\"1\" class=\"dataframe\">\n",
       "  <thead>\n",
       "    <tr style=\"text-align: right;\">\n",
       "      <th></th>\n",
       "      <th>Branch</th>\n",
       "      <th>City</th>\n",
       "      <th>Customer type</th>\n",
       "      <th>Gender</th>\n",
       "      <th>Product line</th>\n",
       "      <th>Unit price</th>\n",
       "      <th>Quantity</th>\n",
       "      <th>Tax 5%</th>\n",
       "      <th>Total</th>\n",
       "      <th>Date</th>\n",
       "      <th>Time</th>\n",
       "      <th>Payment Type</th>\n",
       "      <th>cogs</th>\n",
       "      <th>gross margin percentage</th>\n",
       "      <th>gross income</th>\n",
       "      <th>Rating</th>\n",
       "    </tr>\n",
       "  </thead>\n",
       "  <tbody>\n",
       "    <tr>\n",
       "      <th>0</th>\n",
       "      <td>A</td>\n",
       "      <td>Lagos</td>\n",
       "      <td>Member</td>\n",
       "      <td>Female</td>\n",
       "      <td>Health and beauty</td>\n",
       "      <td>26888.4</td>\n",
       "      <td>7</td>\n",
       "      <td>9410.94</td>\n",
       "      <td>197629.74</td>\n",
       "      <td>1/5/2019</td>\n",
       "      <td>13:08</td>\n",
       "      <td>Epay</td>\n",
       "      <td>188218.8</td>\n",
       "      <td>4.761905</td>\n",
       "      <td>9410.94</td>\n",
       "      <td>9.1</td>\n",
       "    </tr>\n",
       "    <tr>\n",
       "      <th>1</th>\n",
       "      <td>A</td>\n",
       "      <td>Lagos</td>\n",
       "      <td>Normal</td>\n",
       "      <td>Male</td>\n",
       "      <td>Home and lifestyle</td>\n",
       "      <td>16678.8</td>\n",
       "      <td>7</td>\n",
       "      <td>5837.58</td>\n",
       "      <td>122589.18</td>\n",
       "      <td>3/3/2019</td>\n",
       "      <td>13:23</td>\n",
       "      <td>Card</td>\n",
       "      <td>116751.6</td>\n",
       "      <td>4.761905</td>\n",
       "      <td>5837.58</td>\n",
       "      <td>7.4</td>\n",
       "    </tr>\n",
       "    <tr>\n",
       "      <th>2</th>\n",
       "      <td>A</td>\n",
       "      <td>Lagos</td>\n",
       "      <td>Member</td>\n",
       "      <td>Male</td>\n",
       "      <td>Health and beauty</td>\n",
       "      <td>20959.2</td>\n",
       "      <td>8</td>\n",
       "      <td>8383.68</td>\n",
       "      <td>176057.28</td>\n",
       "      <td>1/27/2019</td>\n",
       "      <td>20:33</td>\n",
       "      <td>Epay</td>\n",
       "      <td>167673.6</td>\n",
       "      <td>4.761905</td>\n",
       "      <td>8383.68</td>\n",
       "      <td>8.4</td>\n",
       "    </tr>\n",
       "    <tr>\n",
       "      <th>3</th>\n",
       "      <td>A</td>\n",
       "      <td>Lagos</td>\n",
       "      <td>Normal</td>\n",
       "      <td>Male</td>\n",
       "      <td>Sports and travel</td>\n",
       "      <td>31071.6</td>\n",
       "      <td>7</td>\n",
       "      <td>10875.06</td>\n",
       "      <td>228376.26</td>\n",
       "      <td>2/8/2019</td>\n",
       "      <td>10:37</td>\n",
       "      <td>Epay</td>\n",
       "      <td>217501.2</td>\n",
       "      <td>4.761905</td>\n",
       "      <td>10875.06</td>\n",
       "      <td>5.3</td>\n",
       "    </tr>\n",
       "    <tr>\n",
       "      <th>4</th>\n",
       "      <td>A</td>\n",
       "      <td>Lagos</td>\n",
       "      <td>Member</td>\n",
       "      <td>Female</td>\n",
       "      <td>Electronic accessories</td>\n",
       "      <td>24782.4</td>\n",
       "      <td>6</td>\n",
       "      <td>7434.72</td>\n",
       "      <td>156129.12</td>\n",
       "      <td>2/25/2019</td>\n",
       "      <td>14:36</td>\n",
       "      <td>Epay</td>\n",
       "      <td>148694.4</td>\n",
       "      <td>4.761905</td>\n",
       "      <td>7434.72</td>\n",
       "      <td>5.8</td>\n",
       "    </tr>\n",
       "  </tbody>\n",
       "</table>\n",
       "</div>"
      ],
      "text/plain": [
       "  Branch   City Customer type  Gender            Product line  Unit price  \\\n",
       "0      A  Lagos        Member  Female       Health and beauty     26888.4   \n",
       "1      A  Lagos        Normal    Male      Home and lifestyle     16678.8   \n",
       "2      A  Lagos        Member    Male       Health and beauty     20959.2   \n",
       "3      A  Lagos        Normal    Male       Sports and travel     31071.6   \n",
       "4      A  Lagos        Member  Female  Electronic accessories     24782.4   \n",
       "\n",
       "   Quantity    Tax 5%      Total       Date   Time Payment Type      cogs  \\\n",
       "0         7   9410.94  197629.74   1/5/2019  13:08         Epay  188218.8   \n",
       "1         7   5837.58  122589.18   3/3/2019  13:23         Card  116751.6   \n",
       "2         8   8383.68  176057.28  1/27/2019  20:33         Epay  167673.6   \n",
       "3         7  10875.06  228376.26   2/8/2019  10:37         Epay  217501.2   \n",
       "4         6   7434.72  156129.12  2/25/2019  14:36         Epay  148694.4   \n",
       "\n",
       "   gross margin percentage  gross income  Rating  \n",
       "0                 4.761905       9410.94     9.1  \n",
       "1                 4.761905       5837.58     7.4  \n",
       "2                 4.761905       8383.68     8.4  \n",
       "3                 4.761905      10875.06     5.3  \n",
       "4                 4.761905       7434.72     5.8  "
      ]
     },
     "execution_count": 50,
     "metadata": {},
     "output_type": "execute_result"
    }
   ],
   "source": [
    "comb_df.head()"
   ]
  },
  {
   "cell_type": "code",
   "execution_count": 51,
   "id": "8fe7d33d",
   "metadata": {},
   "outputs": [],
   "source": [
    "comb_df['DateTime'] = comb_df['Date'] + ' ' + comb_df['Time']"
   ]
  },
  {
   "cell_type": "code",
   "execution_count": 52,
   "id": "28c5aa08",
   "metadata": {},
   "outputs": [
    {
     "data": {
      "text/html": [
       "<div>\n",
       "<style scoped>\n",
       "    .dataframe tbody tr th:only-of-type {\n",
       "        vertical-align: middle;\n",
       "    }\n",
       "\n",
       "    .dataframe tbody tr th {\n",
       "        vertical-align: top;\n",
       "    }\n",
       "\n",
       "    .dataframe thead th {\n",
       "        text-align: right;\n",
       "    }\n",
       "</style>\n",
       "<table border=\"1\" class=\"dataframe\">\n",
       "  <thead>\n",
       "    <tr style=\"text-align: right;\">\n",
       "      <th></th>\n",
       "      <th>Branch</th>\n",
       "      <th>City</th>\n",
       "      <th>Customer type</th>\n",
       "      <th>Gender</th>\n",
       "      <th>Product line</th>\n",
       "      <th>Unit price</th>\n",
       "      <th>Quantity</th>\n",
       "      <th>Tax 5%</th>\n",
       "      <th>Total</th>\n",
       "      <th>Date</th>\n",
       "      <th>Time</th>\n",
       "      <th>Payment Type</th>\n",
       "      <th>cogs</th>\n",
       "      <th>gross margin percentage</th>\n",
       "      <th>gross income</th>\n",
       "      <th>Rating</th>\n",
       "      <th>DateTime</th>\n",
       "    </tr>\n",
       "  </thead>\n",
       "  <tbody>\n",
       "    <tr>\n",
       "      <th>0</th>\n",
       "      <td>A</td>\n",
       "      <td>Lagos</td>\n",
       "      <td>Member</td>\n",
       "      <td>Female</td>\n",
       "      <td>Health and beauty</td>\n",
       "      <td>26888.4</td>\n",
       "      <td>7</td>\n",
       "      <td>9410.94</td>\n",
       "      <td>197629.74</td>\n",
       "      <td>1/5/2019</td>\n",
       "      <td>13:08</td>\n",
       "      <td>Epay</td>\n",
       "      <td>188218.8</td>\n",
       "      <td>4.761905</td>\n",
       "      <td>9410.94</td>\n",
       "      <td>9.1</td>\n",
       "      <td>1/5/2019 13:08</td>\n",
       "    </tr>\n",
       "    <tr>\n",
       "      <th>1</th>\n",
       "      <td>A</td>\n",
       "      <td>Lagos</td>\n",
       "      <td>Normal</td>\n",
       "      <td>Male</td>\n",
       "      <td>Home and lifestyle</td>\n",
       "      <td>16678.8</td>\n",
       "      <td>7</td>\n",
       "      <td>5837.58</td>\n",
       "      <td>122589.18</td>\n",
       "      <td>3/3/2019</td>\n",
       "      <td>13:23</td>\n",
       "      <td>Card</td>\n",
       "      <td>116751.6</td>\n",
       "      <td>4.761905</td>\n",
       "      <td>5837.58</td>\n",
       "      <td>7.4</td>\n",
       "      <td>3/3/2019 13:23</td>\n",
       "    </tr>\n",
       "    <tr>\n",
       "      <th>2</th>\n",
       "      <td>A</td>\n",
       "      <td>Lagos</td>\n",
       "      <td>Member</td>\n",
       "      <td>Male</td>\n",
       "      <td>Health and beauty</td>\n",
       "      <td>20959.2</td>\n",
       "      <td>8</td>\n",
       "      <td>8383.68</td>\n",
       "      <td>176057.28</td>\n",
       "      <td>1/27/2019</td>\n",
       "      <td>20:33</td>\n",
       "      <td>Epay</td>\n",
       "      <td>167673.6</td>\n",
       "      <td>4.761905</td>\n",
       "      <td>8383.68</td>\n",
       "      <td>8.4</td>\n",
       "      <td>1/27/2019 20:33</td>\n",
       "    </tr>\n",
       "    <tr>\n",
       "      <th>3</th>\n",
       "      <td>A</td>\n",
       "      <td>Lagos</td>\n",
       "      <td>Normal</td>\n",
       "      <td>Male</td>\n",
       "      <td>Sports and travel</td>\n",
       "      <td>31071.6</td>\n",
       "      <td>7</td>\n",
       "      <td>10875.06</td>\n",
       "      <td>228376.26</td>\n",
       "      <td>2/8/2019</td>\n",
       "      <td>10:37</td>\n",
       "      <td>Epay</td>\n",
       "      <td>217501.2</td>\n",
       "      <td>4.761905</td>\n",
       "      <td>10875.06</td>\n",
       "      <td>5.3</td>\n",
       "      <td>2/8/2019 10:37</td>\n",
       "    </tr>\n",
       "    <tr>\n",
       "      <th>4</th>\n",
       "      <td>A</td>\n",
       "      <td>Lagos</td>\n",
       "      <td>Member</td>\n",
       "      <td>Female</td>\n",
       "      <td>Electronic accessories</td>\n",
       "      <td>24782.4</td>\n",
       "      <td>6</td>\n",
       "      <td>7434.72</td>\n",
       "      <td>156129.12</td>\n",
       "      <td>2/25/2019</td>\n",
       "      <td>14:36</td>\n",
       "      <td>Epay</td>\n",
       "      <td>148694.4</td>\n",
       "      <td>4.761905</td>\n",
       "      <td>7434.72</td>\n",
       "      <td>5.8</td>\n",
       "      <td>2/25/2019 14:36</td>\n",
       "    </tr>\n",
       "  </tbody>\n",
       "</table>\n",
       "</div>"
      ],
      "text/plain": [
       "  Branch   City Customer type  Gender            Product line  Unit price  \\\n",
       "0      A  Lagos        Member  Female       Health and beauty     26888.4   \n",
       "1      A  Lagos        Normal    Male      Home and lifestyle     16678.8   \n",
       "2      A  Lagos        Member    Male       Health and beauty     20959.2   \n",
       "3      A  Lagos        Normal    Male       Sports and travel     31071.6   \n",
       "4      A  Lagos        Member  Female  Electronic accessories     24782.4   \n",
       "\n",
       "   Quantity    Tax 5%      Total       Date   Time Payment Type      cogs  \\\n",
       "0         7   9410.94  197629.74   1/5/2019  13:08         Epay  188218.8   \n",
       "1         7   5837.58  122589.18   3/3/2019  13:23         Card  116751.6   \n",
       "2         8   8383.68  176057.28  1/27/2019  20:33         Epay  167673.6   \n",
       "3         7  10875.06  228376.26   2/8/2019  10:37         Epay  217501.2   \n",
       "4         6   7434.72  156129.12  2/25/2019  14:36         Epay  148694.4   \n",
       "\n",
       "   gross margin percentage  gross income  Rating         DateTime  \n",
       "0                 4.761905       9410.94     9.1   1/5/2019 13:08  \n",
       "1                 4.761905       5837.58     7.4   3/3/2019 13:23  \n",
       "2                 4.761905       8383.68     8.4  1/27/2019 20:33  \n",
       "3                 4.761905      10875.06     5.3   2/8/2019 10:37  \n",
       "4                 4.761905       7434.72     5.8  2/25/2019 14:36  "
      ]
     },
     "execution_count": 52,
     "metadata": {},
     "output_type": "execute_result"
    }
   ],
   "source": [
    "comb_df.head()"
   ]
  },
  {
   "cell_type": "code",
   "execution_count": 53,
   "id": "935d2040",
   "metadata": {},
   "outputs": [
    {
     "name": "stdout",
     "output_type": "stream",
     "text": [
      "<class 'pandas.core.frame.DataFrame'>\n",
      "Index: 1000 entries, 0 to 999\n",
      "Data columns (total 17 columns):\n",
      " #   Column                   Non-Null Count  Dtype  \n",
      "---  ------                   --------------  -----  \n",
      " 0   Branch                   1000 non-null   object \n",
      " 1   City                     1000 non-null   object \n",
      " 2   Customer type            1000 non-null   object \n",
      " 3   Gender                   1000 non-null   object \n",
      " 4   Product line             1000 non-null   object \n",
      " 5   Unit price               1000 non-null   float64\n",
      " 6   Quantity                 1000 non-null   int64  \n",
      " 7   Tax 5%                   1000 non-null   float64\n",
      " 8   Total                    1000 non-null   float64\n",
      " 9   Date                     1000 non-null   object \n",
      " 10  Time                     1000 non-null   object \n",
      " 11  Payment Type             1000 non-null   object \n",
      " 12  cogs                     1000 non-null   float64\n",
      " 13  gross margin percentage  1000 non-null   float64\n",
      " 14  gross income             1000 non-null   float64\n",
      " 15  Rating                   1000 non-null   float64\n",
      " 16  DateTime                 1000 non-null   object \n",
      "dtypes: float64(7), int64(1), object(9)\n",
      "memory usage: 140.6+ KB\n"
     ]
    }
   ],
   "source": [
    "comb_df.info()"
   ]
  },
  {
   "cell_type": "code",
   "execution_count": 54,
   "id": "50383af2",
   "metadata": {},
   "outputs": [],
   "source": [
    "comb_df['DateTime'] = pd.to_datetime(comb_df['DateTime'])"
   ]
  },
  {
   "cell_type": "code",
   "execution_count": 55,
   "id": "e17ed042",
   "metadata": {},
   "outputs": [
    {
     "name": "stdout",
     "output_type": "stream",
     "text": [
      "<class 'pandas.core.frame.DataFrame'>\n",
      "Index: 1000 entries, 0 to 999\n",
      "Data columns (total 17 columns):\n",
      " #   Column                   Non-Null Count  Dtype         \n",
      "---  ------                   --------------  -----         \n",
      " 0   Branch                   1000 non-null   object        \n",
      " 1   City                     1000 non-null   object        \n",
      " 2   Customer type            1000 non-null   object        \n",
      " 3   Gender                   1000 non-null   object        \n",
      " 4   Product line             1000 non-null   object        \n",
      " 5   Unit price               1000 non-null   float64       \n",
      " 6   Quantity                 1000 non-null   int64         \n",
      " 7   Tax 5%                   1000 non-null   float64       \n",
      " 8   Total                    1000 non-null   float64       \n",
      " 9   Date                     1000 non-null   object        \n",
      " 10  Time                     1000 non-null   object        \n",
      " 11  Payment Type             1000 non-null   object        \n",
      " 12  cogs                     1000 non-null   float64       \n",
      " 13  gross margin percentage  1000 non-null   float64       \n",
      " 14  gross income             1000 non-null   float64       \n",
      " 15  Rating                   1000 non-null   float64       \n",
      " 16  DateTime                 1000 non-null   datetime64[ns]\n",
      "dtypes: datetime64[ns](1), float64(7), int64(1), object(8)\n",
      "memory usage: 140.6+ KB\n"
     ]
    }
   ],
   "source": [
    "comb_df.info()"
   ]
  },
  {
   "cell_type": "code",
   "execution_count": 56,
   "id": "924a729e",
   "metadata": {},
   "outputs": [],
   "source": [
    "comb_df.drop(['Date', 'Time'], axis=1, inplace=True)"
   ]
  },
  {
   "cell_type": "code",
   "execution_count": 58,
   "id": "5449ad6c",
   "metadata": {},
   "outputs": [],
   "source": [
    "comb_df['Month'] = comb_df['DateTime'].dt.month_name()\n",
    "comb_df['Day'] = comb_df['DateTime'].dt.day_name()"
   ]
  },
  {
   "cell_type": "code",
   "execution_count": 59,
   "id": "1289d826",
   "metadata": {},
   "outputs": [
    {
     "data": {
      "text/html": [
       "<div>\n",
       "<style scoped>\n",
       "    .dataframe tbody tr th:only-of-type {\n",
       "        vertical-align: middle;\n",
       "    }\n",
       "\n",
       "    .dataframe tbody tr th {\n",
       "        vertical-align: top;\n",
       "    }\n",
       "\n",
       "    .dataframe thead th {\n",
       "        text-align: right;\n",
       "    }\n",
       "</style>\n",
       "<table border=\"1\" class=\"dataframe\">\n",
       "  <thead>\n",
       "    <tr style=\"text-align: right;\">\n",
       "      <th></th>\n",
       "      <th>Branch</th>\n",
       "      <th>City</th>\n",
       "      <th>Customer type</th>\n",
       "      <th>Gender</th>\n",
       "      <th>Product line</th>\n",
       "      <th>Unit price</th>\n",
       "      <th>Quantity</th>\n",
       "      <th>Tax 5%</th>\n",
       "      <th>Total</th>\n",
       "      <th>Payment Type</th>\n",
       "      <th>cogs</th>\n",
       "      <th>gross margin percentage</th>\n",
       "      <th>gross income</th>\n",
       "      <th>Rating</th>\n",
       "      <th>DateTime</th>\n",
       "      <th>Month</th>\n",
       "      <th>Day</th>\n",
       "    </tr>\n",
       "  </thead>\n",
       "  <tbody>\n",
       "    <tr>\n",
       "      <th>0</th>\n",
       "      <td>A</td>\n",
       "      <td>Lagos</td>\n",
       "      <td>Member</td>\n",
       "      <td>Female</td>\n",
       "      <td>Health and beauty</td>\n",
       "      <td>26888.4</td>\n",
       "      <td>7</td>\n",
       "      <td>9410.94</td>\n",
       "      <td>197629.74</td>\n",
       "      <td>Epay</td>\n",
       "      <td>188218.8</td>\n",
       "      <td>4.761905</td>\n",
       "      <td>9410.94</td>\n",
       "      <td>9.1</td>\n",
       "      <td>2019-01-05 13:08:00</td>\n",
       "      <td>January</td>\n",
       "      <td>Saturday</td>\n",
       "    </tr>\n",
       "    <tr>\n",
       "      <th>1</th>\n",
       "      <td>A</td>\n",
       "      <td>Lagos</td>\n",
       "      <td>Normal</td>\n",
       "      <td>Male</td>\n",
       "      <td>Home and lifestyle</td>\n",
       "      <td>16678.8</td>\n",
       "      <td>7</td>\n",
       "      <td>5837.58</td>\n",
       "      <td>122589.18</td>\n",
       "      <td>Card</td>\n",
       "      <td>116751.6</td>\n",
       "      <td>4.761905</td>\n",
       "      <td>5837.58</td>\n",
       "      <td>7.4</td>\n",
       "      <td>2019-03-03 13:23:00</td>\n",
       "      <td>March</td>\n",
       "      <td>Sunday</td>\n",
       "    </tr>\n",
       "    <tr>\n",
       "      <th>2</th>\n",
       "      <td>A</td>\n",
       "      <td>Lagos</td>\n",
       "      <td>Member</td>\n",
       "      <td>Male</td>\n",
       "      <td>Health and beauty</td>\n",
       "      <td>20959.2</td>\n",
       "      <td>8</td>\n",
       "      <td>8383.68</td>\n",
       "      <td>176057.28</td>\n",
       "      <td>Epay</td>\n",
       "      <td>167673.6</td>\n",
       "      <td>4.761905</td>\n",
       "      <td>8383.68</td>\n",
       "      <td>8.4</td>\n",
       "      <td>2019-01-27 20:33:00</td>\n",
       "      <td>January</td>\n",
       "      <td>Sunday</td>\n",
       "    </tr>\n",
       "    <tr>\n",
       "      <th>3</th>\n",
       "      <td>A</td>\n",
       "      <td>Lagos</td>\n",
       "      <td>Normal</td>\n",
       "      <td>Male</td>\n",
       "      <td>Sports and travel</td>\n",
       "      <td>31071.6</td>\n",
       "      <td>7</td>\n",
       "      <td>10875.06</td>\n",
       "      <td>228376.26</td>\n",
       "      <td>Epay</td>\n",
       "      <td>217501.2</td>\n",
       "      <td>4.761905</td>\n",
       "      <td>10875.06</td>\n",
       "      <td>5.3</td>\n",
       "      <td>2019-02-08 10:37:00</td>\n",
       "      <td>February</td>\n",
       "      <td>Friday</td>\n",
       "    </tr>\n",
       "    <tr>\n",
       "      <th>4</th>\n",
       "      <td>A</td>\n",
       "      <td>Lagos</td>\n",
       "      <td>Member</td>\n",
       "      <td>Female</td>\n",
       "      <td>Electronic accessories</td>\n",
       "      <td>24782.4</td>\n",
       "      <td>6</td>\n",
       "      <td>7434.72</td>\n",
       "      <td>156129.12</td>\n",
       "      <td>Epay</td>\n",
       "      <td>148694.4</td>\n",
       "      <td>4.761905</td>\n",
       "      <td>7434.72</td>\n",
       "      <td>5.8</td>\n",
       "      <td>2019-02-25 14:36:00</td>\n",
       "      <td>February</td>\n",
       "      <td>Monday</td>\n",
       "    </tr>\n",
       "  </tbody>\n",
       "</table>\n",
       "</div>"
      ],
      "text/plain": [
       "  Branch   City Customer type  Gender            Product line  Unit price  \\\n",
       "0      A  Lagos        Member  Female       Health and beauty     26888.4   \n",
       "1      A  Lagos        Normal    Male      Home and lifestyle     16678.8   \n",
       "2      A  Lagos        Member    Male       Health and beauty     20959.2   \n",
       "3      A  Lagos        Normal    Male       Sports and travel     31071.6   \n",
       "4      A  Lagos        Member  Female  Electronic accessories     24782.4   \n",
       "\n",
       "   Quantity    Tax 5%      Total Payment Type      cogs  \\\n",
       "0         7   9410.94  197629.74         Epay  188218.8   \n",
       "1         7   5837.58  122589.18         Card  116751.6   \n",
       "2         8   8383.68  176057.28         Epay  167673.6   \n",
       "3         7  10875.06  228376.26         Epay  217501.2   \n",
       "4         6   7434.72  156129.12         Epay  148694.4   \n",
       "\n",
       "   gross margin percentage  gross income  Rating            DateTime  \\\n",
       "0                 4.761905       9410.94     9.1 2019-01-05 13:08:00   \n",
       "1                 4.761905       5837.58     7.4 2019-03-03 13:23:00   \n",
       "2                 4.761905       8383.68     8.4 2019-01-27 20:33:00   \n",
       "3                 4.761905      10875.06     5.3 2019-02-08 10:37:00   \n",
       "4                 4.761905       7434.72     5.8 2019-02-25 14:36:00   \n",
       "\n",
       "      Month       Day  \n",
       "0   January  Saturday  \n",
       "1     March    Sunday  \n",
       "2   January    Sunday  \n",
       "3  February    Friday  \n",
       "4  February    Monday  "
      ]
     },
     "execution_count": 59,
     "metadata": {},
     "output_type": "execute_result"
    }
   ],
   "source": [
    "comb_df.head()"
   ]
  },
  {
   "cell_type": "code",
   "execution_count": 60,
   "id": "e61f18c2",
   "metadata": {},
   "outputs": [],
   "source": [
    "comb_df_copy = comb_df.copy()"
   ]
  },
  {
   "cell_type": "code",
   "execution_count": 61,
   "id": "18960ab8",
   "metadata": {},
   "outputs": [],
   "source": [
    "## export cleaned \n",
    "\n",
    "comb_df.to_csv('Cleaned_supermarket_data.csv')"
   ]
  },
  {
   "cell_type": "markdown",
   "id": "aa24fbd7",
   "metadata": {},
   "source": [
    "#### Data Analysis"
   ]
  },
  {
   "cell_type": "code",
   "execution_count": 62,
   "id": "a37bade5",
   "metadata": {},
   "outputs": [],
   "source": [
    "## Categorize Rating\n",
    "\n",
    "def categorize_rating(value):\n",
    "    if value <= 5:\n",
    "        return 'Low'\n",
    "    elif value >5 and value <= 8:\n",
    "        return 'Good'\n",
    "    else:\n",
    "        return 'Excellent'\n",
    "\n",
    "comb_df['Rating Category'] = comb_df['Rating'].apply(categorize_rating)"
   ]
  },
  {
   "cell_type": "code",
   "execution_count": 63,
   "id": "d4b5df17",
   "metadata": {},
   "outputs": [
    {
     "data": {
      "text/html": [
       "<div>\n",
       "<style scoped>\n",
       "    .dataframe tbody tr th:only-of-type {\n",
       "        vertical-align: middle;\n",
       "    }\n",
       "\n",
       "    .dataframe tbody tr th {\n",
       "        vertical-align: top;\n",
       "    }\n",
       "\n",
       "    .dataframe thead th {\n",
       "        text-align: right;\n",
       "    }\n",
       "</style>\n",
       "<table border=\"1\" class=\"dataframe\">\n",
       "  <thead>\n",
       "    <tr style=\"text-align: right;\">\n",
       "      <th></th>\n",
       "      <th>Branch</th>\n",
       "      <th>City</th>\n",
       "      <th>Customer type</th>\n",
       "      <th>Gender</th>\n",
       "      <th>Product line</th>\n",
       "      <th>Unit price</th>\n",
       "      <th>Quantity</th>\n",
       "      <th>Tax 5%</th>\n",
       "      <th>Total</th>\n",
       "      <th>Payment Type</th>\n",
       "      <th>cogs</th>\n",
       "      <th>gross margin percentage</th>\n",
       "      <th>gross income</th>\n",
       "      <th>Rating</th>\n",
       "      <th>DateTime</th>\n",
       "      <th>Month</th>\n",
       "      <th>Day</th>\n",
       "      <th>Rating Category</th>\n",
       "    </tr>\n",
       "  </thead>\n",
       "  <tbody>\n",
       "    <tr>\n",
       "      <th>0</th>\n",
       "      <td>A</td>\n",
       "      <td>Lagos</td>\n",
       "      <td>Member</td>\n",
       "      <td>Female</td>\n",
       "      <td>Health and beauty</td>\n",
       "      <td>26888.4</td>\n",
       "      <td>7</td>\n",
       "      <td>9410.94</td>\n",
       "      <td>197629.74</td>\n",
       "      <td>Epay</td>\n",
       "      <td>188218.8</td>\n",
       "      <td>4.761905</td>\n",
       "      <td>9410.94</td>\n",
       "      <td>9.1</td>\n",
       "      <td>2019-01-05 13:08:00</td>\n",
       "      <td>January</td>\n",
       "      <td>Saturday</td>\n",
       "      <td>Excellent</td>\n",
       "    </tr>\n",
       "    <tr>\n",
       "      <th>1</th>\n",
       "      <td>A</td>\n",
       "      <td>Lagos</td>\n",
       "      <td>Normal</td>\n",
       "      <td>Male</td>\n",
       "      <td>Home and lifestyle</td>\n",
       "      <td>16678.8</td>\n",
       "      <td>7</td>\n",
       "      <td>5837.58</td>\n",
       "      <td>122589.18</td>\n",
       "      <td>Card</td>\n",
       "      <td>116751.6</td>\n",
       "      <td>4.761905</td>\n",
       "      <td>5837.58</td>\n",
       "      <td>7.4</td>\n",
       "      <td>2019-03-03 13:23:00</td>\n",
       "      <td>March</td>\n",
       "      <td>Sunday</td>\n",
       "      <td>Good</td>\n",
       "    </tr>\n",
       "    <tr>\n",
       "      <th>2</th>\n",
       "      <td>A</td>\n",
       "      <td>Lagos</td>\n",
       "      <td>Member</td>\n",
       "      <td>Male</td>\n",
       "      <td>Health and beauty</td>\n",
       "      <td>20959.2</td>\n",
       "      <td>8</td>\n",
       "      <td>8383.68</td>\n",
       "      <td>176057.28</td>\n",
       "      <td>Epay</td>\n",
       "      <td>167673.6</td>\n",
       "      <td>4.761905</td>\n",
       "      <td>8383.68</td>\n",
       "      <td>8.4</td>\n",
       "      <td>2019-01-27 20:33:00</td>\n",
       "      <td>January</td>\n",
       "      <td>Sunday</td>\n",
       "      <td>Excellent</td>\n",
       "    </tr>\n",
       "    <tr>\n",
       "      <th>3</th>\n",
       "      <td>A</td>\n",
       "      <td>Lagos</td>\n",
       "      <td>Normal</td>\n",
       "      <td>Male</td>\n",
       "      <td>Sports and travel</td>\n",
       "      <td>31071.6</td>\n",
       "      <td>7</td>\n",
       "      <td>10875.06</td>\n",
       "      <td>228376.26</td>\n",
       "      <td>Epay</td>\n",
       "      <td>217501.2</td>\n",
       "      <td>4.761905</td>\n",
       "      <td>10875.06</td>\n",
       "      <td>5.3</td>\n",
       "      <td>2019-02-08 10:37:00</td>\n",
       "      <td>February</td>\n",
       "      <td>Friday</td>\n",
       "      <td>Good</td>\n",
       "    </tr>\n",
       "    <tr>\n",
       "      <th>4</th>\n",
       "      <td>A</td>\n",
       "      <td>Lagos</td>\n",
       "      <td>Member</td>\n",
       "      <td>Female</td>\n",
       "      <td>Electronic accessories</td>\n",
       "      <td>24782.4</td>\n",
       "      <td>6</td>\n",
       "      <td>7434.72</td>\n",
       "      <td>156129.12</td>\n",
       "      <td>Epay</td>\n",
       "      <td>148694.4</td>\n",
       "      <td>4.761905</td>\n",
       "      <td>7434.72</td>\n",
       "      <td>5.8</td>\n",
       "      <td>2019-02-25 14:36:00</td>\n",
       "      <td>February</td>\n",
       "      <td>Monday</td>\n",
       "      <td>Good</td>\n",
       "    </tr>\n",
       "  </tbody>\n",
       "</table>\n",
       "</div>"
      ],
      "text/plain": [
       "  Branch   City Customer type  Gender            Product line  Unit price  \\\n",
       "0      A  Lagos        Member  Female       Health and beauty     26888.4   \n",
       "1      A  Lagos        Normal    Male      Home and lifestyle     16678.8   \n",
       "2      A  Lagos        Member    Male       Health and beauty     20959.2   \n",
       "3      A  Lagos        Normal    Male       Sports and travel     31071.6   \n",
       "4      A  Lagos        Member  Female  Electronic accessories     24782.4   \n",
       "\n",
       "   Quantity    Tax 5%      Total Payment Type      cogs  \\\n",
       "0         7   9410.94  197629.74         Epay  188218.8   \n",
       "1         7   5837.58  122589.18         Card  116751.6   \n",
       "2         8   8383.68  176057.28         Epay  167673.6   \n",
       "3         7  10875.06  228376.26         Epay  217501.2   \n",
       "4         6   7434.72  156129.12         Epay  148694.4   \n",
       "\n",
       "   gross margin percentage  gross income  Rating            DateTime  \\\n",
       "0                 4.761905       9410.94     9.1 2019-01-05 13:08:00   \n",
       "1                 4.761905       5837.58     7.4 2019-03-03 13:23:00   \n",
       "2                 4.761905       8383.68     8.4 2019-01-27 20:33:00   \n",
       "3                 4.761905      10875.06     5.3 2019-02-08 10:37:00   \n",
       "4                 4.761905       7434.72     5.8 2019-02-25 14:36:00   \n",
       "\n",
       "      Month       Day Rating Category  \n",
       "0   January  Saturday       Excellent  \n",
       "1     March    Sunday            Good  \n",
       "2   January    Sunday       Excellent  \n",
       "3  February    Friday            Good  \n",
       "4  February    Monday            Good  "
      ]
     },
     "execution_count": 63,
     "metadata": {},
     "output_type": "execute_result"
    }
   ],
   "source": [
    "comb_df.head()"
   ]
  },
  {
   "cell_type": "code",
   "execution_count": 89,
   "id": "ef9e67fe",
   "metadata": {},
   "outputs": [
    {
     "data": {
      "text/plain": [
       "<Figure size 2000x1000 with 0 Axes>"
      ]
     },
     "metadata": {},
     "output_type": "display_data"
    }
   ],
   "source": [
    "# helper functions\n",
    "\n",
    "# generate bar plot\n",
    "\n",
    "plt.figure(figsize=(20, 10))\n",
    "\n",
    "def generate_bar_plot(x, y, xlabel, ylabel):\n",
    "    plt.bar(x, y, color='grey', edgecolor='black')\n",
    "    plt.title(f'Plot of {ylabel} against {xlabel}')\n",
    "    plt.xlabel(xlabel)\n",
    "    plt.ylabel(ylabel)\n",
    "    plt.show()\n",
    "\n",
    "# generate line chart\n",
    "\n",
    "def generate_line_chart(x, y, xlabel,ylabel,data,color='grey',estimator=sum):\n",
    "    sb.lineplot(x=x,y=y,markers=True, dashes=False, data=data,estimator=estimator, color=color)\n",
    "    plt.xlabel(xlabel)\n",
    "    plt.ylabel(ylabel)\n",
    "    plt.title(f'Plot of {ylabel} with changes in {xlabel}')\n",
    "    plt.show()"
   ]
  },
  {
   "cell_type": "markdown",
   "id": "1554fdea",
   "metadata": {},
   "source": [
    "Question 1\n",
    "\n",
    "City with the highest total income"
   ]
  },
  {
   "cell_type": "code",
   "execution_count": 69,
   "id": "9285830d",
   "metadata": {},
   "outputs": [
    {
     "data": {
      "text/html": [
       "<div>\n",
       "<style scoped>\n",
       "    .dataframe tbody tr th:only-of-type {\n",
       "        vertical-align: middle;\n",
       "    }\n",
       "\n",
       "    .dataframe tbody tr th {\n",
       "        vertical-align: top;\n",
       "    }\n",
       "\n",
       "    .dataframe thead th {\n",
       "        text-align: right;\n",
       "    }\n",
       "</style>\n",
       "<table border=\"1\" class=\"dataframe\">\n",
       "  <thead>\n",
       "    <tr style=\"text-align: right;\">\n",
       "      <th></th>\n",
       "      <th>gross income</th>\n",
       "    </tr>\n",
       "    <tr>\n",
       "      <th>City</th>\n",
       "      <th></th>\n",
       "    </tr>\n",
       "  </thead>\n",
       "  <tbody>\n",
       "    <tr>\n",
       "      <th>Abuja</th>\n",
       "      <td>1820531.52</td>\n",
       "    </tr>\n",
       "    <tr>\n",
       "      <th>Lagos</th>\n",
       "      <td>1820577.78</td>\n",
       "    </tr>\n",
       "    <tr>\n",
       "      <th>Port Harcourt</th>\n",
       "      <td>1895463.54</td>\n",
       "    </tr>\n",
       "  </tbody>\n",
       "</table>\n",
       "</div>"
      ],
      "text/plain": [
       "               gross income\n",
       "City                       \n",
       "Abuja            1820531.52\n",
       "Lagos            1820577.78\n",
       "Port Harcourt    1895463.54"
      ]
     },
     "execution_count": 69,
     "metadata": {},
     "output_type": "execute_result"
    }
   ],
   "source": [
    "result = comb_df.groupby('City')[['gross income']].sum()\n",
    "result"
   ]
  },
  {
   "cell_type": "code",
   "execution_count": 70,
   "id": "bce1d9ff",
   "metadata": {},
   "outputs": [
    {
     "data": {
      "text/html": [
       "<div>\n",
       "<style scoped>\n",
       "    .dataframe tbody tr th:only-of-type {\n",
       "        vertical-align: middle;\n",
       "    }\n",
       "\n",
       "    .dataframe tbody tr th {\n",
       "        vertical-align: top;\n",
       "    }\n",
       "\n",
       "    .dataframe thead th {\n",
       "        text-align: right;\n",
       "    }\n",
       "</style>\n",
       "<table border=\"1\" class=\"dataframe\">\n",
       "  <thead>\n",
       "    <tr style=\"text-align: right;\">\n",
       "      <th></th>\n",
       "      <th>gross income</th>\n",
       "    </tr>\n",
       "    <tr>\n",
       "      <th>City</th>\n",
       "      <th></th>\n",
       "    </tr>\n",
       "  </thead>\n",
       "  <tbody>\n",
       "    <tr>\n",
       "      <th>Port Harcourt</th>\n",
       "      <td>1895463.54</td>\n",
       "    </tr>\n",
       "    <tr>\n",
       "      <th>Lagos</th>\n",
       "      <td>1820577.78</td>\n",
       "    </tr>\n",
       "    <tr>\n",
       "      <th>Abuja</th>\n",
       "      <td>1820531.52</td>\n",
       "    </tr>\n",
       "  </tbody>\n",
       "</table>\n",
       "</div>"
      ],
      "text/plain": [
       "               gross income\n",
       "City                       \n",
       "Port Harcourt    1895463.54\n",
       "Lagos            1820577.78\n",
       "Abuja            1820531.52"
      ]
     },
     "execution_count": 70,
     "metadata": {},
     "output_type": "execute_result"
    }
   ],
   "source": [
    "result = result.sort_values(by='gross income', ascending=False)\n",
    "result"
   ]
  },
  {
   "cell_type": "code",
   "execution_count": 75,
   "id": "3c893a81",
   "metadata": {},
   "outputs": [
    {
     "data": {
      "image/png": "[encoded data removed]",
      "text/plain": [
       "<Figure size 640x480 with 1 Axes>"
      ]
     },
     "metadata": {},
     "output_type": "display_data"
    }
   ],
   "source": [
    "generate_bar_plot(result.index, result['gross income'], 'Branch Location', 'Total gross Income')"
   ]
  },
  {
   "cell_type": "markdown",
   "id": "d425462f",
   "metadata": {},
   "source": [
    "Result: PH branch generate the most income, followed by Lagos then Abuja. "
   ]
  },
  {
   "cell_type": "markdown",
   "id": "0fc86f88",
   "metadata": {},
   "source": [
    "Question 2:  How do the product line compare in terms of no of items bought"
   ]
  },
  {
   "cell_type": "code",
   "execution_count": 78,
   "id": "7d0599f7",
   "metadata": {},
   "outputs": [
    {
     "data": {
      "text/html": [
       "<div>\n",
       "<style scoped>\n",
       "    .dataframe tbody tr th:only-of-type {\n",
       "        vertical-align: middle;\n",
       "    }\n",
       "\n",
       "    .dataframe tbody tr th {\n",
       "        vertical-align: top;\n",
       "    }\n",
       "\n",
       "    .dataframe thead th {\n",
       "        text-align: right;\n",
       "    }\n",
       "</style>\n",
       "<table border=\"1\" class=\"dataframe\">\n",
       "  <thead>\n",
       "    <tr style=\"text-align: right;\">\n",
       "      <th></th>\n",
       "      <th>Quantity</th>\n",
       "    </tr>\n",
       "    <tr>\n",
       "      <th>Product line</th>\n",
       "      <th></th>\n",
       "    </tr>\n",
       "  </thead>\n",
       "  <tbody>\n",
       "    <tr>\n",
       "      <th>Electronic accessories</th>\n",
       "      <td>971</td>\n",
       "    </tr>\n",
       "    <tr>\n",
       "      <th>Fashion accessories</th>\n",
       "      <td>902</td>\n",
       "    </tr>\n",
       "    <tr>\n",
       "      <th>Food and beverages</th>\n",
       "      <td>952</td>\n",
       "    </tr>\n",
       "    <tr>\n",
       "      <th>Health and beauty</th>\n",
       "      <td>854</td>\n",
       "    </tr>\n",
       "    <tr>\n",
       "      <th>Home and lifestyle</th>\n",
       "      <td>911</td>\n",
       "    </tr>\n",
       "    <tr>\n",
       "      <th>Sports and travel</th>\n",
       "      <td>920</td>\n",
       "    </tr>\n",
       "  </tbody>\n",
       "</table>\n",
       "</div>"
      ],
      "text/plain": [
       "                        Quantity\n",
       "Product line                    \n",
       "Electronic accessories       971\n",
       "Fashion accessories          902\n",
       "Food and beverages           952\n",
       "Health and beauty            854\n",
       "Home and lifestyle           911\n",
       "Sports and travel            920"
      ]
     },
     "execution_count": 78,
     "metadata": {},
     "output_type": "execute_result"
    }
   ],
   "source": [
    "df_items_bought = comb_df.groupby('Product line')[['Quantity']].sum()\n",
    "\n",
    "df_items_bought"
   ]
  },
  {
   "cell_type": "code",
   "execution_count": 79,
   "id": "89ec665b",
   "metadata": {},
   "outputs": [
    {
     "data": {
      "text/html": [
       "<div>\n",
       "<style scoped>\n",
       "    .dataframe tbody tr th:only-of-type {\n",
       "        vertical-align: middle;\n",
       "    }\n",
       "\n",
       "    .dataframe tbody tr th {\n",
       "        vertical-align: top;\n",
       "    }\n",
       "\n",
       "    .dataframe thead th {\n",
       "        text-align: right;\n",
       "    }\n",
       "</style>\n",
       "<table border=\"1\" class=\"dataframe\">\n",
       "  <thead>\n",
       "    <tr style=\"text-align: right;\">\n",
       "      <th></th>\n",
       "      <th>Quantity</th>\n",
       "      <th>Quantity Percent</th>\n",
       "    </tr>\n",
       "    <tr>\n",
       "      <th>Product line</th>\n",
       "      <th></th>\n",
       "      <th></th>\n",
       "    </tr>\n",
       "  </thead>\n",
       "  <tbody>\n",
       "    <tr>\n",
       "      <th>Electronic accessories</th>\n",
       "      <td>971</td>\n",
       "      <td>17.622505</td>\n",
       "    </tr>\n",
       "    <tr>\n",
       "      <th>Fashion accessories</th>\n",
       "      <td>902</td>\n",
       "      <td>16.370236</td>\n",
       "    </tr>\n",
       "    <tr>\n",
       "      <th>Food and beverages</th>\n",
       "      <td>952</td>\n",
       "      <td>17.277677</td>\n",
       "    </tr>\n",
       "    <tr>\n",
       "      <th>Health and beauty</th>\n",
       "      <td>854</td>\n",
       "      <td>15.499093</td>\n",
       "    </tr>\n",
       "    <tr>\n",
       "      <th>Home and lifestyle</th>\n",
       "      <td>911</td>\n",
       "      <td>16.533575</td>\n",
       "    </tr>\n",
       "    <tr>\n",
       "      <th>Sports and travel</th>\n",
       "      <td>920</td>\n",
       "      <td>16.696915</td>\n",
       "    </tr>\n",
       "  </tbody>\n",
       "</table>\n",
       "</div>"
      ],
      "text/plain": [
       "                        Quantity  Quantity Percent\n",
       "Product line                                      \n",
       "Electronic accessories       971         17.622505\n",
       "Fashion accessories          902         16.370236\n",
       "Food and beverages           952         17.277677\n",
       "Health and beauty            854         15.499093\n",
       "Home and lifestyle           911         16.533575\n",
       "Sports and travel            920         16.696915"
      ]
     },
     "execution_count": 79,
     "metadata": {},
     "output_type": "execute_result"
    }
   ],
   "source": [
    "df_items_bought['Quantity Percent'] = (df_items_bought['Quantity'] /sum(df_items_bought['Quantity'])) * 100\n",
    "\n",
    "df_items_bought"
   ]
  },
  {
   "cell_type": "code",
   "execution_count": 83,
   "id": "2f08c8cd",
   "metadata": {},
   "outputs": [
    {
     "data": {
      "image/png": "[encoded data removed]",
      "text/plain": [
       "<Figure size 4000x2000 with 1 Axes>"
      ]
     },
     "metadata": {},
     "output_type": "display_data"
    }
   ],
   "source": [
    "plt.figure(figsize=(40, 20))\n",
    "df_result2 = df_items_bought[['Quantity']].sort_values(by='Quantity', ascending=False)\n",
    "generate_bar_plot(df_result2.index, df_result2['Quantity'], \"Product Categories\", \"Total Quantity of Items Purchased\" )"
   ]
  },
  {
   "cell_type": "markdown",
   "id": "848b8a36",
   "metadata": {},
   "source": [
    "Result : In terms of quantity of items bought, electronic accessories and Food beverages come tops where health and beauty items are least purchased"
   ]
  },
  {
   "cell_type": "markdown",
   "id": "03f66cf4",
   "metadata": {},
   "source": [
    "3. Understand the trend of sales across days of the week and month"
   ]
  },
  {
   "cell_type": "code",
   "execution_count": 90,
   "id": "519f4969",
   "metadata": {},
   "outputs": [
    {
     "name": "stderr",
     "output_type": "stream",
     "text": [
      "C:\\Users\\aaginam\\AppData\\Local\\anaconda3\\Lib\\site-packages\\seaborn\\_oldcore.py:1119: FutureWarning: use_inf_as_na option is deprecated and will be removed in a future version. Convert inf values to NaN before operating instead.\n",
      "  with pd.option_context('mode.use_inf_as_na', True):\n",
      "C:\\Users\\aaginam\\AppData\\Local\\anaconda3\\Lib\\site-packages\\seaborn\\_oldcore.py:1119: FutureWarning: use_inf_as_na option is deprecated and will be removed in a future version. Convert inf values to NaN before operating instead.\n",
      "  with pd.option_context('mode.use_inf_as_na', True):\n"
     ]
    },
    {
     "data": {
      "image/png": "[encoded data removed]",
      "text/plain": [
       "<Figure size 640x480 with 1 Axes>"
      ]
     },
     "metadata": {},
     "output_type": "display_data"
    }
   ],
   "source": [
    "# create a month mapping dictionary so we sort the months in desc order\n",
    "\n",
    "month_mapping = {'January': 1, 'February': 2, 'March': 3}\n",
    "\n",
    "comb_df['Month_Num'] = comb_df['Month'].map(month_mapping)\n",
    "\n",
    "generate_line_chart(x='Month', y ='Total', xlabel='Month',ylabel='Sales', data=comb_df.sort_values(by='Month_Num'))"
   ]
  },
  {
   "cell_type": "markdown",
   "id": "140aa7d0",
   "metadata": {},
   "source": [
    "Result : The highes sales was recorded in January, there was a decline in February and pick up in March"
   ]
  },
  {
   "cell_type": "code",
   "execution_count": 91,
   "id": "bbd9fbd9",
   "metadata": {},
   "outputs": [
    {
     "name": "stderr",
     "output_type": "stream",
     "text": [
      "C:\\Users\\aaginam\\AppData\\Local\\anaconda3\\Lib\\site-packages\\seaborn\\axisgrid.py:118: UserWarning: The figure layout has changed to tight\n",
      "  self._figure.tight_layout(*args, **kwargs)\n"
     ]
    },
    {
     "data": {
      "text/plain": [
       "<seaborn.axisgrid.FacetGrid at 0x1abe3d42850>"
      ]
     },
     "execution_count": 91,
     "metadata": {},
     "output_type": "execute_result"
    },
    {
     "data": {
      "image/png": "[encoded data removed]",
      "text/plain": [
       "<Figure size 1130.38x500 with 1 Axes>"
      ]
     },
     "metadata": {},
     "output_type": "display_data"
    }
   ],
   "source": [
    "# create a day of week mapping dictionary so we sort the days in desc order\n",
    "dayOfWeek_mapping = {'Sunday': 1, 'Monday': 2, 'Tuesday': 3, 'Wednesday': 4, 'Thursday': 5, 'Friday': 6, 'Saturday' : 7}\n",
    "\n",
    "comb_df['Day_of_week_nos'] = comb_df['Day'].map(dayOfWeek_mapping)\n",
    "\n",
    "sb.catplot(x='Month', y='Total', hue='Day', kind='bar', data=comb_df.sort_values(by='Day_of_week_nos'), height=5, aspect=2)"
   ]
  },
  {
   "cell_type": "markdown",
   "id": "c22df942",
   "metadata": {},
   "source": [
    "Result :\n",
    "\n",
    "In the month of January, Wednesdays, Thursdays and Tuesday are when we generate most sales\n",
    "\n",
    "For February, it is Friday, Sunday and Tuesday. It is obvious that compared to January, the sales were not steady in February.\n",
    "\n",
    "For March, Saturdays were far better in sales compared to the rest, then Sunday and Friday"
   ]
  },
  {
   "cell_type": "markdown",
   "id": "c2a37871",
   "metadata": {},
   "source": [
    "Question 4. How Customer type compare for each product line"
   ]
  },
  {
   "cell_type": "code",
   "execution_count": 92,
   "id": "11a4c59c",
   "metadata": {},
   "outputs": [
    {
     "name": "stderr",
     "output_type": "stream",
     "text": [
      "C:\\Users\\aaginam\\AppData\\Local\\anaconda3\\Lib\\site-packages\\seaborn\\axisgrid.py:118: UserWarning: The figure layout has changed to tight\n",
      "  self._figure.tight_layout(*args, **kwargs)\n"
     ]
    },
    {
     "data": {
      "text/plain": [
       "<seaborn.axisgrid.FacetGrid at 0x1abe408e6d0>"
      ]
     },
     "execution_count": 92,
     "metadata": {},
     "output_type": "execute_result"
    },
    {
     "data": {
      "image/png": "[encoded data removed]",
      "text/plain": [
       "<Figure size 1113.99x500 with 1 Axes>"
      ]
     },
     "metadata": {},
     "output_type": "display_data"
    }
   ],
   "source": [
    "\n",
    "sb.catplot(y='Product line', x='Total', hue='Customer type', kind='bar', data=comb_df.sort_values(by='Total'), height=5, aspect=2)"
   ]
  },
  {
   "cell_type": "markdown",
   "id": "d171c1bc",
   "metadata": {},
   "source": [
    "\n",
    "Result :\n",
    "\n",
    "For the following product categories : Sports and travel, health and lifestyle and Electronic accessories, normal customers generate more sales.\n",
    "\n",
    "For the rest , member customers generate more sales. This is more significant for the health and beauty category and less significant for fashion accessories category"
   ]
  },
  {
   "cell_type": "markdown",
   "id": "05c29491",
   "metadata": {},
   "source": [
    "Question 5: Average Rating for each branch and rating distribution"
   ]
  },
  {
   "cell_type": "code",
   "execution_count": 94,
   "id": "d52139a9",
   "metadata": {},
   "outputs": [
    {
     "data": {
      "text/html": [
       "<div>\n",
       "<style scoped>\n",
       "    .dataframe tbody tr th:only-of-type {\n",
       "        vertical-align: middle;\n",
       "    }\n",
       "\n",
       "    .dataframe tbody tr th {\n",
       "        vertical-align: top;\n",
       "    }\n",
       "\n",
       "    .dataframe thead th {\n",
       "        text-align: right;\n",
       "    }\n",
       "</style>\n",
       "<table border=\"1\" class=\"dataframe\">\n",
       "  <thead>\n",
       "    <tr style=\"text-align: right;\">\n",
       "      <th></th>\n",
       "      <th>Rating</th>\n",
       "    </tr>\n",
       "    <tr>\n",
       "      <th>Branch</th>\n",
       "      <th></th>\n",
       "    </tr>\n",
       "  </thead>\n",
       "  <tbody>\n",
       "    <tr>\n",
       "      <th>A</th>\n",
       "      <td>7.027059</td>\n",
       "    </tr>\n",
       "    <tr>\n",
       "      <th>B</th>\n",
       "      <td>6.818072</td>\n",
       "    </tr>\n",
       "    <tr>\n",
       "      <th>C</th>\n",
       "      <td>7.072866</td>\n",
       "    </tr>\n",
       "  </tbody>\n",
       "</table>\n",
       "</div>"
      ],
      "text/plain": [
       "          Rating\n",
       "Branch          \n",
       "A       7.027059\n",
       "B       6.818072\n",
       "C       7.072866"
      ]
     },
     "execution_count": 94,
     "metadata": {},
     "output_type": "execute_result"
    }
   ],
   "source": [
    "df_rating_branch = comb_df.groupby('Branch')[['Rating']].mean()\n",
    "\n",
    "df_rating_branch "
   ]
  },
  {
   "cell_type": "code",
   "execution_count": 95,
   "id": "c0b9db47",
   "metadata": {},
   "outputs": [
    {
     "data": {
      "image/png": "[encoded data removed]",
      "text/plain": [
       "<Figure size 640x480 with 1 Axes>"
      ]
     },
     "metadata": {},
     "output_type": "display_data"
    }
   ],
   "source": [
    "\n",
    "df_rating_branch = df_rating_branch.sort_values(by='Rating', ascending=False)\n",
    "\n",
    "generate_bar_plot(df_rating_branch.index, df_rating_branch['Rating'], \"Branch\", \"Rating\" )"
   ]
  },
  {
   "cell_type": "markdown",
   "id": "73b156ac",
   "metadata": {},
   "source": [
    "\n",
    "Result : PH has the highest rating then Lagos and Abuja."
   ]
  },
  {
   "cell_type": "code",
   "execution_count": 96,
   "id": "257a1fb9",
   "metadata": {},
   "outputs": [
    {
     "data": {
      "text/html": [
       "<div>\n",
       "<style scoped>\n",
       "    .dataframe tbody tr th:only-of-type {\n",
       "        vertical-align: middle;\n",
       "    }\n",
       "\n",
       "    .dataframe tbody tr th {\n",
       "        vertical-align: top;\n",
       "    }\n",
       "\n",
       "    .dataframe thead th {\n",
       "        text-align: right;\n",
       "    }\n",
       "</style>\n",
       "<table border=\"1\" class=\"dataframe\">\n",
       "  <thead>\n",
       "    <tr style=\"text-align: right;\">\n",
       "      <th></th>\n",
       "      <th>Rating</th>\n",
       "    </tr>\n",
       "    <tr>\n",
       "      <th>Rating Category</th>\n",
       "      <th></th>\n",
       "    </tr>\n",
       "  </thead>\n",
       "  <tbody>\n",
       "    <tr>\n",
       "      <th>Good</th>\n",
       "      <td>518</td>\n",
       "    </tr>\n",
       "    <tr>\n",
       "      <th>Excellent</th>\n",
       "      <td>308</td>\n",
       "    </tr>\n",
       "    <tr>\n",
       "      <th>Low</th>\n",
       "      <td>174</td>\n",
       "    </tr>\n",
       "  </tbody>\n",
       "</table>\n",
       "</div>"
      ],
      "text/plain": [
       "                 Rating\n",
       "Rating Category        \n",
       "Good                518\n",
       "Excellent           308\n",
       "Low                 174"
      ]
     },
     "execution_count": 96,
     "metadata": {},
     "output_type": "execute_result"
    }
   ],
   "source": [
    "\n",
    "df_rating_count = comb_df.groupby('Rating Category')[['Rating']].count().sort_values(by='Rating', ascending =False)\n",
    "\n",
    "df_rating_count"
   ]
  },
  {
   "cell_type": "code",
   "execution_count": 97,
   "id": "944a6ecd",
   "metadata": {},
   "outputs": [
    {
     "data": {
      "image/png": "[encoded data removed]",
      "text/plain": [
       "<Figure size 640x480 with 1 Axes>"
      ]
     },
     "metadata": {},
     "output_type": "display_data"
    }
   ],
   "source": [
    "\n",
    "plt.pie(df_rating_count['Rating'], labels=df_rating_count.index, autopct='%.0f%%')\n",
    "plt.show()"
   ]
  },
  {
   "cell_type": "markdown",
   "id": "2e824bb3",
   "metadata": {},
   "source": [
    "Result : There are more good ratings then excellent and low."
   ]
  },
  {
   "cell_type": "markdown",
   "id": "95fa2ac2",
   "metadata": {},
   "source": [
    "Question 6 : Payment Channel For each branch"
   ]
  },
  {
   "cell_type": "code",
   "execution_count": 98,
   "id": "c93bec4d",
   "metadata": {},
   "outputs": [
    {
     "data": {
      "text/plain": [
       "Text(0.5, 1.0, 'How Sales compare to Branch across payment channels')"
      ]
     },
     "execution_count": 98,
     "metadata": {},
     "output_type": "execute_result"
    },
    {
     "data": {
      "image/png": "[encoded data removed]",
      "text/plain": [
       "<Figure size 640x480 with 1 Axes>"
      ]
     },
     "metadata": {},
     "output_type": "display_data"
    }
   ],
   "source": [
    "\n",
    "sb.barplot(x='City', y='Total', hue='Payment Type', data=comb_df)\n",
    "plt.title('How Sales compare to Branch across payment channels')"
   ]
  },
  {
   "cell_type": "markdown",
   "id": "3d189a12",
   "metadata": {},
   "source": [
    "Result :\n",
    "\n",
    "All 3 payment channels are used almost equally in Lagos\n",
    "\n",
    "Card is the most popular method in Abuja then Cash and Epay\n",
    "\n",
    "In PH, it is Epay then cash and card\n",
    "\n",
    "Across all 3 branches, it was discovered during data understanding - Epay, Cash then Card\n",
    "\n"
   ]
  },
  {
   "cell_type": "markdown",
   "id": "fe115f72",
   "metadata": {},
   "source": [
    "Question 7.  How Gender compare to product line "
   ]
  },
  {
   "cell_type": "code",
   "execution_count": 99,
   "id": "a4baadc6",
   "metadata": {},
   "outputs": [
    {
     "data": {
      "text/plain": [
       "Text(0.5, 1.0, 'How Sales compare to Product Line across gender types')"
      ]
     },
     "execution_count": 99,
     "metadata": {},
     "output_type": "execute_result"
    },
    {
     "data": {
      "image/png": "[encoded data removed]",
      "text/plain": [
       "<Figure size 640x480 with 1 Axes>"
      ]
     },
     "metadata": {},
     "output_type": "display_data"
    }
   ],
   "source": [
    "\n",
    "sb.barplot(y='Product line', x='Total', hue='Gender', data=comb_df)\n",
    "plt.title('How Sales compare to Product Line across gender types')"
   ]
  },
  {
   "cell_type": "markdown",
   "id": "8fca765e",
   "metadata": {},
   "source": [
    "Question 8. What hour of the day is the busiest"
   ]
  },
  {
   "cell_type": "code",
   "execution_count": 100,
   "id": "71ec670d",
   "metadata": {},
   "outputs": [
    {
     "data": {
      "text/html": [
       "<div>\n",
       "<style scoped>\n",
       "    .dataframe tbody tr th:only-of-type {\n",
       "        vertical-align: middle;\n",
       "    }\n",
       "\n",
       "    .dataframe tbody tr th {\n",
       "        vertical-align: top;\n",
       "    }\n",
       "\n",
       "    .dataframe thead th {\n",
       "        text-align: right;\n",
       "    }\n",
       "</style>\n",
       "<table border=\"1\" class=\"dataframe\">\n",
       "  <thead>\n",
       "    <tr style=\"text-align: right;\">\n",
       "      <th></th>\n",
       "      <th>Quantity</th>\n",
       "    </tr>\n",
       "    <tr>\n",
       "      <th>Hour</th>\n",
       "      <th></th>\n",
       "    </tr>\n",
       "  </thead>\n",
       "  <tbody>\n",
       "    <tr>\n",
       "      <th>19</th>\n",
       "      <td>649</td>\n",
       "    </tr>\n",
       "    <tr>\n",
       "      <th>13</th>\n",
       "      <td>585</td>\n",
       "    </tr>\n",
       "    <tr>\n",
       "      <th>15</th>\n",
       "      <td>530</td>\n",
       "    </tr>\n",
       "    <tr>\n",
       "      <th>10</th>\n",
       "      <td>525</td>\n",
       "    </tr>\n",
       "    <tr>\n",
       "      <th>11</th>\n",
       "      <td>513</td>\n",
       "    </tr>\n",
       "    <tr>\n",
       "      <th>12</th>\n",
       "      <td>501</td>\n",
       "    </tr>\n",
       "    <tr>\n",
       "      <th>14</th>\n",
       "      <td>495</td>\n",
       "    </tr>\n",
       "    <tr>\n",
       "      <th>18</th>\n",
       "      <td>475</td>\n",
       "    </tr>\n",
       "    <tr>\n",
       "      <th>16</th>\n",
       "      <td>420</td>\n",
       "    </tr>\n",
       "    <tr>\n",
       "      <th>17</th>\n",
       "      <td>415</td>\n",
       "    </tr>\n",
       "    <tr>\n",
       "      <th>20</th>\n",
       "      <td>402</td>\n",
       "    </tr>\n",
       "  </tbody>\n",
       "</table>\n",
       "</div>"
      ],
      "text/plain": [
       "      Quantity\n",
       "Hour          \n",
       "19         649\n",
       "13         585\n",
       "15         530\n",
       "10         525\n",
       "11         513\n",
       "12         501\n",
       "14         495\n",
       "18         475\n",
       "16         420\n",
       "17         415\n",
       "20         402"
      ]
     },
     "execution_count": 100,
     "metadata": {},
     "output_type": "execute_result"
    }
   ],
   "source": [
    "comb_df['Hour'] = comb_df['DateTime'].dt.hour\n",
    "\n",
    "df_sales_by_hr = comb_df.groupby('Hour')[['Quantity']].sum().sort_values(by=\"Quantity\", ascending=False)\n",
    "\n",
    "df_sales_by_hr"
   ]
  },
  {
   "cell_type": "code",
   "execution_count": 101,
   "id": "7de641c7",
   "metadata": {},
   "outputs": [
    {
     "data": {
      "text/html": [
       "<div>\n",
       "<style scoped>\n",
       "    .dataframe tbody tr th:only-of-type {\n",
       "        vertical-align: middle;\n",
       "    }\n",
       "\n",
       "    .dataframe tbody tr th {\n",
       "        vertical-align: top;\n",
       "    }\n",
       "\n",
       "    .dataframe thead th {\n",
       "        text-align: right;\n",
       "    }\n",
       "</style>\n",
       "<table border=\"1\" class=\"dataframe\">\n",
       "  <thead>\n",
       "    <tr style=\"text-align: right;\">\n",
       "      <th></th>\n",
       "      <th>Quantity</th>\n",
       "    </tr>\n",
       "    <tr>\n",
       "      <th>Hour</th>\n",
       "      <th></th>\n",
       "    </tr>\n",
       "  </thead>\n",
       "  <tbody>\n",
       "    <tr>\n",
       "      <th>7 PM</th>\n",
       "      <td>649</td>\n",
       "    </tr>\n",
       "    <tr>\n",
       "      <th>1 PM</th>\n",
       "      <td>585</td>\n",
       "    </tr>\n",
       "    <tr>\n",
       "      <th>3 PM</th>\n",
       "      <td>530</td>\n",
       "    </tr>\n",
       "    <tr>\n",
       "      <th>10 AM</th>\n",
       "      <td>525</td>\n",
       "    </tr>\n",
       "    <tr>\n",
       "      <th>11 AM</th>\n",
       "      <td>513</td>\n",
       "    </tr>\n",
       "    <tr>\n",
       "      <th>12 PM</th>\n",
       "      <td>501</td>\n",
       "    </tr>\n",
       "    <tr>\n",
       "      <th>2 PM</th>\n",
       "      <td>495</td>\n",
       "    </tr>\n",
       "    <tr>\n",
       "      <th>6 PM</th>\n",
       "      <td>475</td>\n",
       "    </tr>\n",
       "    <tr>\n",
       "      <th>4 PM</th>\n",
       "      <td>420</td>\n",
       "    </tr>\n",
       "    <tr>\n",
       "      <th>5 PM</th>\n",
       "      <td>415</td>\n",
       "    </tr>\n",
       "    <tr>\n",
       "      <th>8 PM</th>\n",
       "      <td>402</td>\n",
       "    </tr>\n",
       "  </tbody>\n",
       "</table>\n",
       "</div>"
      ],
      "text/plain": [
       "       Quantity\n",
       "Hour           \n",
       "7 PM        649\n",
       "1 PM        585\n",
       "3 PM        530\n",
       "10 AM       525\n",
       "11 AM       513\n",
       "12 PM       501\n",
       "2 PM        495\n",
       "6 PM        475\n",
       "4 PM        420\n",
       "5 PM        415\n",
       "8 PM        402"
      ]
     },
     "execution_count": 101,
     "metadata": {},
     "output_type": "execute_result"
    }
   ],
   "source": [
    "# create hour mapping to make data story telling easier\n",
    "\n",
    "hour_mapping = {\n",
    "    0: \"12 AM\", 1: \"1 AM\", 2: \"2 AM\", 3: \"3 AM\", 4: \"4 AM\", 5: \"5 AM\", 6: \"6 AM\", 7: \"7 AM\", 8: \"8 AM\", 9: \"9 AM\", 10: \"10 AM\", 11: \"11 AM\",\n",
    "    12: \"12 PM\", 13: \"1 PM\", 14: \"2 PM\", 15: \"3 PM\", 16: \"4 PM\", 17: \"5 PM\", 18: \"6 PM\", 19: \"7 PM\", 20: \"8 PM\", 21: \"9 PM\", 22: \"10 PM\", 23: \"11 PM\"\n",
    "}\n",
    "\n",
    "df_sales_by_hr.index = df_sales_by_hr.index.map(hour_mapping)\n",
    "\n",
    "df_sales_by_hr"
   ]
  },
  {
   "cell_type": "markdown",
   "id": "bd0d4843",
   "metadata": {},
   "source": [
    "Result : The busiest hours are 7pm , 1pm and 3pm respectively"
   ]
  },
  {
   "cell_type": "markdown",
   "id": "23b45ff0",
   "metadata": {},
   "source": [
    " Question 9 : Busiest hour by location/branch"
   ]
  },
  {
   "cell_type": "code",
   "execution_count": 102,
   "id": "8eeb69cf",
   "metadata": {},
   "outputs": [
    {
     "data": {
      "text/html": [
       "<div>\n",
       "<style scoped>\n",
       "    .dataframe tbody tr th:only-of-type {\n",
       "        vertical-align: middle;\n",
       "    }\n",
       "\n",
       "    .dataframe tbody tr th {\n",
       "        vertical-align: top;\n",
       "    }\n",
       "\n",
       "    .dataframe thead th {\n",
       "        text-align: right;\n",
       "    }\n",
       "</style>\n",
       "<table border=\"1\" class=\"dataframe\">\n",
       "  <thead>\n",
       "    <tr style=\"text-align: right;\">\n",
       "      <th></th>\n",
       "      <th>Hour Label</th>\n",
       "      <th>City</th>\n",
       "      <th>Quantity</th>\n",
       "    </tr>\n",
       "  </thead>\n",
       "  <tbody>\n",
       "    <tr>\n",
       "      <th>0</th>\n",
       "      <td>1 PM</td>\n",
       "      <td>Abuja</td>\n",
       "      <td>201</td>\n",
       "    </tr>\n",
       "    <tr>\n",
       "      <th>1</th>\n",
       "      <td>1 PM</td>\n",
       "      <td>Lagos</td>\n",
       "      <td>183</td>\n",
       "    </tr>\n",
       "    <tr>\n",
       "      <th>2</th>\n",
       "      <td>1 PM</td>\n",
       "      <td>Port Harcourt</td>\n",
       "      <td>201</td>\n",
       "    </tr>\n",
       "    <tr>\n",
       "      <th>3</th>\n",
       "      <td>10 AM</td>\n",
       "      <td>Abuja</td>\n",
       "      <td>152</td>\n",
       "    </tr>\n",
       "    <tr>\n",
       "      <th>4</th>\n",
       "      <td>10 AM</td>\n",
       "      <td>Lagos</td>\n",
       "      <td>192</td>\n",
       "    </tr>\n",
       "  </tbody>\n",
       "</table>\n",
       "</div>"
      ],
      "text/plain": [
       "  Hour Label           City  Quantity\n",
       "0       1 PM          Abuja       201\n",
       "1       1 PM          Lagos       183\n",
       "2       1 PM  Port Harcourt       201\n",
       "3      10 AM          Abuja       152\n",
       "4      10 AM          Lagos       192"
      ]
     },
     "execution_count": 102,
     "metadata": {},
     "output_type": "execute_result"
    }
   ],
   "source": [
    "\n",
    "comb_df['Hour Label'] = comb_df['Hour'].map(hour_mapping)\n",
    "\n",
    "agg_data = comb_df.groupby(['Hour Label', 'City'], as_index=False)['Quantity'].sum()\n",
    "\n",
    "agg_data.head()"
   ]
  },
  {
   "cell_type": "code",
   "execution_count": 103,
   "id": "b9be5e24",
   "metadata": {},
   "outputs": [
    {
     "name": "stderr",
     "output_type": "stream",
     "text": [
      "C:\\Users\\aaginam\\AppData\\Local\\anaconda3\\Lib\\site-packages\\seaborn\\axisgrid.py:118: UserWarning: The figure layout has changed to tight\n",
      "  self._figure.tight_layout(*args, **kwargs)\n"
     ]
    },
    {
     "data": {
      "text/plain": [
       "Text(0.5, 1.0, 'Quantity Sold by Hour and Branch Location')"
      ]
     },
     "execution_count": 103,
     "metadata": {},
     "output_type": "execute_result"
    },
    {
     "data": {
      "image/png": "[encoded data removed]",
      "text/plain": [
       "<Figure size 1093.62x500 with 1 Axes>"
      ]
     },
     "metadata": {},
     "output_type": "display_data"
    }
   ],
   "source": [
    "\n",
    "sb.catplot(x='City', y='Quantity', hue='Hour Label', kind='bar', data=agg_data.sort_values(by='Quantity'), height=5, aspect=2)\n",
    "plt.title('Quantity Sold by Hour and Branch Location')"
   ]
  },
  {
   "cell_type": "markdown",
   "id": "649619fa",
   "metadata": {},
   "source": [
    "\n",
    "Result :\n",
    "\n",
    "In Abuja, 7pm, 1pm and 2pm are the busiest. 7pm is an extremely busy time\n",
    "\n",
    "In Lagos, 3pm, 10am and 11am are the busiest\n",
    "\n",
    "In PH, 7pm , 1pm and 10am are the busiest"
   ]
  },
  {
   "cell_type": "markdown",
   "id": "a573e3f7",
   "metadata": {},
   "source": [
    "Question 10. Rating category distribution in each location"
   ]
  },
  {
   "cell_type": "code",
   "execution_count": 104,
   "id": "c6732484",
   "metadata": {},
   "outputs": [
    {
     "data": {
      "text/html": [
       "<div>\n",
       "<style scoped>\n",
       "    .dataframe tbody tr th:only-of-type {\n",
       "        vertical-align: middle;\n",
       "    }\n",
       "\n",
       "    .dataframe tbody tr th {\n",
       "        vertical-align: top;\n",
       "    }\n",
       "\n",
       "    .dataframe thead th {\n",
       "        text-align: right;\n",
       "    }\n",
       "</style>\n",
       "<table border=\"1\" class=\"dataframe\">\n",
       "  <thead>\n",
       "    <tr style=\"text-align: right;\">\n",
       "      <th></th>\n",
       "      <th>Rating Category</th>\n",
       "      <th>City</th>\n",
       "      <th>Rating</th>\n",
       "    </tr>\n",
       "  </thead>\n",
       "  <tbody>\n",
       "    <tr>\n",
       "      <th>0</th>\n",
       "      <td>Excellent</td>\n",
       "      <td>Abuja</td>\n",
       "      <td>89</td>\n",
       "    </tr>\n",
       "    <tr>\n",
       "      <th>1</th>\n",
       "      <td>Excellent</td>\n",
       "      <td>Lagos</td>\n",
       "      <td>106</td>\n",
       "    </tr>\n",
       "    <tr>\n",
       "      <th>2</th>\n",
       "      <td>Excellent</td>\n",
       "      <td>Port Harcourt</td>\n",
       "      <td>113</td>\n",
       "    </tr>\n",
       "    <tr>\n",
       "      <th>3</th>\n",
       "      <td>Good</td>\n",
       "      <td>Abuja</td>\n",
       "      <td>177</td>\n",
       "    </tr>\n",
       "    <tr>\n",
       "      <th>4</th>\n",
       "      <td>Good</td>\n",
       "      <td>Lagos</td>\n",
       "      <td>174</td>\n",
       "    </tr>\n",
       "    <tr>\n",
       "      <th>5</th>\n",
       "      <td>Good</td>\n",
       "      <td>Port Harcourt</td>\n",
       "      <td>167</td>\n",
       "    </tr>\n",
       "    <tr>\n",
       "      <th>6</th>\n",
       "      <td>Low</td>\n",
       "      <td>Abuja</td>\n",
       "      <td>66</td>\n",
       "    </tr>\n",
       "    <tr>\n",
       "      <th>7</th>\n",
       "      <td>Low</td>\n",
       "      <td>Lagos</td>\n",
       "      <td>60</td>\n",
       "    </tr>\n",
       "    <tr>\n",
       "      <th>8</th>\n",
       "      <td>Low</td>\n",
       "      <td>Port Harcourt</td>\n",
       "      <td>48</td>\n",
       "    </tr>\n",
       "  </tbody>\n",
       "</table>\n",
       "</div>"
      ],
      "text/plain": [
       "  Rating Category           City  Rating\n",
       "0       Excellent          Abuja      89\n",
       "1       Excellent          Lagos     106\n",
       "2       Excellent  Port Harcourt     113\n",
       "3            Good          Abuja     177\n",
       "4            Good          Lagos     174\n",
       "5            Good  Port Harcourt     167\n",
       "6             Low          Abuja      66\n",
       "7             Low          Lagos      60\n",
       "8             Low  Port Harcourt      48"
      ]
     },
     "execution_count": 104,
     "metadata": {},
     "output_type": "execute_result"
    }
   ],
   "source": [
    "agg_data = comb_df.groupby(['Rating Category', 'City'], as_index=False)['Rating'].count()\n",
    "\n",
    "agg_data"
   ]
  },
  {
   "cell_type": "code",
   "execution_count": 105,
   "id": "b2f54a94",
   "metadata": {},
   "outputs": [
    {
     "name": "stderr",
     "output_type": "stream",
     "text": [
      "C:\\Users\\aaginam\\AppData\\Local\\anaconda3\\Lib\\site-packages\\seaborn\\axisgrid.py:118: UserWarning: The figure layout has changed to tight\n",
      "  self._figure.tight_layout(*args, **kwargs)\n"
     ]
    },
    {
     "data": {
      "text/plain": [
       "Text(0.5, 1.0, 'Rating Category Distribution')"
      ]
     },
     "execution_count": 105,
     "metadata": {},
     "output_type": "execute_result"
    },
    {
     "data": {
      "image/png": "[encoded data removed]",
      "text/plain": [
       "<Figure size 1124.36x500 with 1 Axes>"
      ]
     },
     "metadata": {},
     "output_type": "display_data"
    }
   ],
   "source": [
    "\n",
    "sb.catplot(x='City', y='Rating', hue='Rating Category', kind='bar', data=agg_data.sort_values(by='Rating'), height=5, aspect=2)\n",
    "plt.title('Rating Category Distribution')"
   ]
  },
  {
   "cell_type": "markdown",
   "id": "0d05ede2",
   "metadata": {},
   "source": [
    "\n",
    "Result :\n",
    "\n",
    "PH Has the lowest low rating , Abuja has the highest low rating"
   ]
  },
  {
   "cell_type": "markdown",
   "id": "de2e2d9d",
   "metadata": {},
   "source": [
    "### Conclusion\n",
    "\n",
    "The following insights were drawn from analyzing the data:\n",
    "\n",
    "- Portharcourt branch is generating more income than Lagos then Abuja. There isn't much difference in the revenue generation for the 3 branches.\n",
    "\n",
    "- In order of usage, the most popular payment methods are Epay, Cash then Card\n",
    "\n",
    "- In terms of quantity of items bought, electronic accessories and Food beverages come tops where health and beauty items are least purchased\n",
    "\n",
    "- Over the course of the 3 month period, the highest sales was recorded in January, there was a decline in February and pick up in March\n",
    "\n",
    "- A further drill down on sales trend indicated that :\n",
    "\n",
    "-- In the month of January, Wednesdays, Thursdays and Tuesday are when we generate most sales\n",
    "\n",
    "-- For February, it is Friday, Sunday and Tuesday. It is obvious that compared to January, the sales were not steady in February.\n",
    "\n",
    "-- For March, Saturdays were far better in sales compared to the rest, then Sunday and Friday\n",
    "\n",
    "- In understading the impact of customer type on product line, it was found that for the following product categories : Sports and travel, health and lifestyle and Electronic accessories, normal customers generate more sales.\n",
    "\n",
    "- For the rest , member customers generate more sales. This is more significant for the health and beauty category and less si-gnificant for fashion accessories category\n",
    "\n",
    "- Overall for the course of the 3 month period, PH has the highest rating then Lagos and Abuja.\n",
    "\n",
    "- A futher drill down on rating shows that there are more medium ratings (52%) then high (31%) and low (17%) and PH has the highest low rating (48) while Abuja has the highest low rating (66)\n",
    "\n",
    "The ratings have been categorised using the keys below:\n",
    "\n",
    " < 5 : Low\n",
    " 5 <=> 8 : Medium \n",
    " > 8 : High\n",
    "In understanding payment channels used in each branch, it was found that:\n",
    "\n",
    "- All 3 payment channels are used almost equally in Lagos\n",
    "\n",
    "Card is the most popular method in Abuja then Cash and Epay\n",
    "\n",
    "In PH, it is Epay then cash and card.\n",
    "\n",
    "- For comparing product line to gender, it was discovered that :\n",
    "\n",
    "- More females purchase items from these product lines: home and lifestyle, fashion accessories and food and beverages.\n",
    "\n",
    "- More males purchase items in the categories: Sport and travel and health and beauty.\n",
    "\n",
    "- Overall, the busiest hours are 7pm , 1pm and 3pm respectively\n",
    "\n",
    "- A further drill down per location:\n",
    "\n",
    "In Abuja, 7pm, 1pm and 2pm are the busiest. 7pm is an extremely busy time\n",
    "\n",
    "In Lagos, 3pm, 10am and 11am are the busiest\n",
    "\n",
    "In PH, 7pm , 1pm and 10am are the busiest"
   ]
  },
  {
   "cell_type": "code",
   "execution_count": null,
   "id": "9d7256bf",
   "metadata": {},
   "outputs": [],
   "source": []
  }
 ],
 "metadata": {
  "kernelspec": {
   "display_name": "Python 3 (ipykernel)",
   "language": "python",
   "name": "python3"
  },
  "language_info": {
   "codemirror_mode": {
    "name": "ipython",
    "version": 3
   },
   "file_extension": ".py",
   "mimetype": "text/x-python",
   "name": "python",
   "nbconvert_exporter": "python",
   "pygments_lexer": "ipython3",
   "version": "3.11.5"
  }
 },
 "nbformat": 4,
 "nbformat_minor": 5
}
